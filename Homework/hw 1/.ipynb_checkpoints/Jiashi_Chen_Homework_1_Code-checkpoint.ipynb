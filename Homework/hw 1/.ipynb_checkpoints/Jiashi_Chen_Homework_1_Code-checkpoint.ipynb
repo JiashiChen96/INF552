{
 "cells": [
  {
   "cell_type": "markdown",
   "metadata": {},
   "source": [
    "# Programming Assignment 1: Decision Trees"
   ]
  },
  {
   "cell_type": "markdown",
   "metadata": {},
   "source": [
    "Class: INF552\n",
    "\n",
    "Student: Jiashi Chen\n",
    "\n",
    "USCID: 4684194123"
   ]
  },
  {
   "cell_type": "markdown",
   "metadata": {},
   "source": [
    "## Part 1: Implementation"
   ]
  },
  {
   "cell_type": "code",
   "execution_count": 1,
   "metadata": {},
   "outputs": [],
   "source": [
    "import numpy as np\n",
    "import pandas as pd\n",
    "import math\n",
    "import matplotlib.pyplot as plt"
   ]
  },
  {
   "cell_type": "markdown",
   "metadata": {},
   "source": [
    "### Load data"
   ]
  },
  {
   "cell_type": "code",
   "execution_count": 2,
   "metadata": {},
   "outputs": [
    {
     "data": {
      "text/html": [
       "<div>\n",
       "<style scoped>\n",
       "    .dataframe tbody tr th:only-of-type {\n",
       "        vertical-align: middle;\n",
       "    }\n",
       "\n",
       "    .dataframe tbody tr th {\n",
       "        vertical-align: top;\n",
       "    }\n",
       "\n",
       "    .dataframe thead th {\n",
       "        text-align: right;\n",
       "    }\n",
       "</style>\n",
       "<table border=\"1\" class=\"dataframe\">\n",
       "  <thead>\n",
       "    <tr style=\"text-align: right;\">\n",
       "      <th></th>\n",
       "      <th>(Occupied</th>\n",
       "      <th>Price</th>\n",
       "      <th>Music</th>\n",
       "      <th>Location</th>\n",
       "      <th>VIP</th>\n",
       "      <th>Favorite Beer</th>\n",
       "      <th>Enjoy)</th>\n",
       "    </tr>\n",
       "  </thead>\n",
       "  <tbody>\n",
       "    <tr>\n",
       "      <th>0</th>\n",
       "      <td>01: High</td>\n",
       "      <td>Expensive</td>\n",
       "      <td>Loud</td>\n",
       "      <td>Talpiot</td>\n",
       "      <td>No</td>\n",
       "      <td>No</td>\n",
       "      <td>No;</td>\n",
       "    </tr>\n",
       "    <tr>\n",
       "      <th>1</th>\n",
       "      <td>02: High</td>\n",
       "      <td>Expensive</td>\n",
       "      <td>Loud</td>\n",
       "      <td>City-Center</td>\n",
       "      <td>Yes</td>\n",
       "      <td>No</td>\n",
       "      <td>Yes;</td>\n",
       "    </tr>\n",
       "    <tr>\n",
       "      <th>2</th>\n",
       "      <td>03: Moderate</td>\n",
       "      <td>Normal</td>\n",
       "      <td>Quiet</td>\n",
       "      <td>City-Center</td>\n",
       "      <td>No</td>\n",
       "      <td>Yes</td>\n",
       "      <td>Yes;</td>\n",
       "    </tr>\n",
       "    <tr>\n",
       "      <th>3</th>\n",
       "      <td>04: Moderate</td>\n",
       "      <td>Expensive</td>\n",
       "      <td>Quiet</td>\n",
       "      <td>German-Colony</td>\n",
       "      <td>No</td>\n",
       "      <td>No</td>\n",
       "      <td>No;</td>\n",
       "    </tr>\n",
       "    <tr>\n",
       "      <th>4</th>\n",
       "      <td>05: Moderate</td>\n",
       "      <td>Expensive</td>\n",
       "      <td>Quiet</td>\n",
       "      <td>German-Colony</td>\n",
       "      <td>Yes</td>\n",
       "      <td>Yes</td>\n",
       "      <td>Yes;</td>\n",
       "    </tr>\n",
       "  </tbody>\n",
       "</table>\n",
       "</div>"
      ],
      "text/plain": [
       "      (Occupied       Price   Music        Location   VIP  Favorite Beer  \\\n",
       "0      01: High   Expensive    Loud         Talpiot    No             No   \n",
       "1      02: High   Expensive    Loud     City-Center   Yes             No   \n",
       "2  03: Moderate      Normal   Quiet     City-Center    No            Yes   \n",
       "3  04: Moderate   Expensive   Quiet   German-Colony    No             No   \n",
       "4  05: Moderate   Expensive   Quiet   German-Colony   Yes            Yes   \n",
       "\n",
       "   Enjoy)  \n",
       "0     No;  \n",
       "1    Yes;  \n",
       "2    Yes;  \n",
       "3     No;  \n",
       "4    Yes;  "
      ]
     },
     "execution_count": 2,
     "metadata": {},
     "output_type": "execute_result"
    }
   ],
   "source": [
    "df = pd.read_csv('dt_data.txt')\n",
    "df.head()"
   ]
  },
  {
   "cell_type": "markdown",
   "metadata": {},
   "source": [
    "### Clean data"
   ]
  },
  {
   "cell_type": "code",
   "execution_count": 3,
   "metadata": {},
   "outputs": [],
   "source": [
    "df = df.rename(columns=lambda x: x.replace(\" \",\"\").replace(\"(\",\"\").replace(\")\",\"\")) #clean the column name\n",
    "df['Occupied'] = df['Occupied'].map(lambda x: x[4:])\n",
    "df['Enjoy'] = df['Enjoy'].map(lambda x: x[:-1])\n",
    "for i in df.columns.tolist():\n",
    "    df[i] = df[i].map(lambda x: x.replace(\" \",\"\"))"
   ]
  },
  {
   "cell_type": "code",
   "execution_count": 4,
   "metadata": {},
   "outputs": [
    {
     "data": {
      "text/html": [
       "<div>\n",
       "<style scoped>\n",
       "    .dataframe tbody tr th:only-of-type {\n",
       "        vertical-align: middle;\n",
       "    }\n",
       "\n",
       "    .dataframe tbody tr th {\n",
       "        vertical-align: top;\n",
       "    }\n",
       "\n",
       "    .dataframe thead th {\n",
       "        text-align: right;\n",
       "    }\n",
       "</style>\n",
       "<table border=\"1\" class=\"dataframe\">\n",
       "  <thead>\n",
       "    <tr style=\"text-align: right;\">\n",
       "      <th></th>\n",
       "      <th>Occupied</th>\n",
       "      <th>Price</th>\n",
       "      <th>Music</th>\n",
       "      <th>Location</th>\n",
       "      <th>VIP</th>\n",
       "      <th>FavoriteBeer</th>\n",
       "      <th>Enjoy</th>\n",
       "    </tr>\n",
       "  </thead>\n",
       "  <tbody>\n",
       "    <tr>\n",
       "      <th>0</th>\n",
       "      <td>High</td>\n",
       "      <td>Expensive</td>\n",
       "      <td>Loud</td>\n",
       "      <td>Talpiot</td>\n",
       "      <td>No</td>\n",
       "      <td>No</td>\n",
       "      <td>No</td>\n",
       "    </tr>\n",
       "    <tr>\n",
       "      <th>1</th>\n",
       "      <td>High</td>\n",
       "      <td>Expensive</td>\n",
       "      <td>Loud</td>\n",
       "      <td>City-Center</td>\n",
       "      <td>Yes</td>\n",
       "      <td>No</td>\n",
       "      <td>Yes</td>\n",
       "    </tr>\n",
       "    <tr>\n",
       "      <th>2</th>\n",
       "      <td>Moderate</td>\n",
       "      <td>Normal</td>\n",
       "      <td>Quiet</td>\n",
       "      <td>City-Center</td>\n",
       "      <td>No</td>\n",
       "      <td>Yes</td>\n",
       "      <td>Yes</td>\n",
       "    </tr>\n",
       "    <tr>\n",
       "      <th>3</th>\n",
       "      <td>Moderate</td>\n",
       "      <td>Expensive</td>\n",
       "      <td>Quiet</td>\n",
       "      <td>German-Colony</td>\n",
       "      <td>No</td>\n",
       "      <td>No</td>\n",
       "      <td>No</td>\n",
       "    </tr>\n",
       "    <tr>\n",
       "      <th>4</th>\n",
       "      <td>Moderate</td>\n",
       "      <td>Expensive</td>\n",
       "      <td>Quiet</td>\n",
       "      <td>German-Colony</td>\n",
       "      <td>Yes</td>\n",
       "      <td>Yes</td>\n",
       "      <td>Yes</td>\n",
       "    </tr>\n",
       "  </tbody>\n",
       "</table>\n",
       "</div>"
      ],
      "text/plain": [
       "   Occupied      Price  Music       Location  VIP FavoriteBeer Enjoy\n",
       "0      High  Expensive   Loud        Talpiot   No           No    No\n",
       "1      High  Expensive   Loud    City-Center  Yes           No   Yes\n",
       "2  Moderate     Normal  Quiet    City-Center   No          Yes   Yes\n",
       "3  Moderate  Expensive  Quiet  German-Colony   No           No    No\n",
       "4  Moderate  Expensive  Quiet  German-Colony  Yes          Yes   Yes"
      ]
     },
     "execution_count": 4,
     "metadata": {},
     "output_type": "execute_result"
    }
   ],
   "source": [
    "df.head()"
   ]
  },
  {
   "cell_type": "markdown",
   "metadata": {},
   "source": [
    "### Acquire attributes and label"
   ]
  },
  {
   "cell_type": "code",
   "execution_count": 5,
   "metadata": {},
   "outputs": [],
   "source": [
    "attributes = df.columns.tolist()[:-1]\n",
    "label = df.columns.tolist()[-1]"
   ]
  },
  {
   "cell_type": "markdown",
   "metadata": {},
   "source": [
    "### Calculate Entropy"
   ]
  },
  {
   "cell_type": "code",
   "execution_count": 6,
   "metadata": {},
   "outputs": [],
   "source": [
    "def entropy(varible):  #calculate entropy\n",
    "    count = varible.value_counts().tolist()\n",
    "    entropy = 0\n",
    "    \n",
    "    for i in count:\n",
    "        p = i / sum(count)\n",
    "        entropy -= p*math.log(p, 2)\n",
    "    \n",
    "    return entropy"
   ]
  },
  {
   "cell_type": "markdown",
   "metadata": {},
   "source": [
    "###  Get the unique value of the attribute"
   ]
  },
  {
   "cell_type": "code",
   "execution_count": 7,
   "metadata": {},
   "outputs": [],
   "source": [
    "def get_value(attribute, dataset):  #get the unique value of the attribute\n",
    "    return np.unique(dataset[attribute].values)"
   ]
  },
  {
   "cell_type": "markdown",
   "metadata": {},
   "source": [
    "### Choose the best attribute to split dataset"
   ]
  },
  {
   "cell_type": "code",
   "execution_count": 8,
   "metadata": {},
   "outputs": [],
   "source": [
    "def each_loop_split(dataset): #choose the attribute that make the entropy the smallest, return the index of the attribute\n",
    "    Information_Gain_list = []\n",
    "    attributes = dataset.columns[:-1].values.tolist()   #acquire the attributes of the dataset\n",
    "    baseEntropy = entropy(dataset.iloc[:,-1])\n",
    "    for att in attributes:\n",
    "        values = get_value(att, dataset)\n",
    "        entropy_list = []\n",
    "        amount_label = []\n",
    "        for val in values:\n",
    "            t_labels = dataset.loc[dataset[att] == val].iloc[:, -1]\n",
    "            amount_label.append(len(t_labels))\n",
    "            entropy_list.append(entropy(t_labels))\n",
    "        t_entropy = 0\n",
    "        for i in range(len(entropy_list)):\n",
    "            t_entropy += entropy_list[i] * amount_label[i]/sum(amount_label)\n",
    "        Information_Gain_list.append(baseEntropy - t_entropy)\n",
    "    if max(Information_Gain_list) == 0:\n",
    "        return -1  #None of the attribute can improve the entropy\n",
    "    return Information_Gain_list.index(max(Information_Gain_list)) #return the index of the attribute getting the biggest Infomation Gain"
   ]
  },
  {
   "cell_type": "markdown",
   "metadata": {},
   "source": [
    "### Split dataset"
   ]
  },
  {
   "cell_type": "code",
   "execution_count": 9,
   "metadata": {},
   "outputs": [],
   "source": [
    "def get_subDataset(attribute, dataset):\n",
    "    subDateset = {}\n",
    "    for value in get_value(attribute, dataset):\n",
    "        name = attribute + '_' + value\n",
    "        subDateset[name] = dataset[dataset[attribute] == value].drop(attribute, axis = 1)\n",
    "                          \n",
    "    return subDateset"
   ]
  },
  {
   "cell_type": "markdown",
   "metadata": {},
   "source": [
    "### Acquire the most frequent value"
   ]
  },
  {
   "cell_type": "code",
   "execution_count": 10,
   "metadata": {},
   "outputs": [],
   "source": [
    "def majority(labels):\n",
    "    return df.iloc[:, -1].value_counts().index[0]"
   ]
  },
  {
   "cell_type": "markdown",
   "metadata": {},
   "source": [
    "## Generate Decision Tree"
   ]
  },
  {
   "cell_type": "code",
   "execution_count": 11,
   "metadata": {},
   "outputs": [],
   "source": [
    "def create_tree(dataset):\n",
    "    label = dataset.iloc[:, -1]\n",
    "    label_name = df.columns.tolist()[-1]\n",
    "    attributes = dataset.columns[:-1].values.tolist()\n",
    "    \n",
    "    if label.value_counts().tolist()[0] == len(label):   #If the categories are the same, stop splitting\n",
    "        return label.values[0]\n",
    "    \n",
    "    if dataset.shape[1] == 1:        #If run out of the attributes, choose the most frequent label\n",
    "        return majority(dataset)\n",
    "    \n",
    "    if each_loop_split(dataset) == -1:   #If none of the attribute can improve the entropy, choose the most frequent label\n",
    "        return majority(dataset)\n",
    "    \n",
    "    selected_attribute = attributes[each_loop_split(dataset)]\n",
    "    result_tree = {selected_attribute:{}}\n",
    "    values = get_value(selected_attribute, dataset)\n",
    "    for value in values:\n",
    "        name = selected_attribute + '_' + value\n",
    "        subDateSet = get_subDataset(selected_attribute, dataset)[name]\n",
    "        result_tree[selected_attribute][value] = create_tree(subDateSet)\n",
    "    \n",
    "    return result_tree"
   ]
  },
  {
   "cell_type": "code",
   "execution_count": 12,
   "metadata": {
    "scrolled": false
   },
   "outputs": [
    {
     "data": {
      "text/plain": [
       "{'Occupied': {'High': {'Location': {'City-Center': 'Yes',\n",
       "    'German-Colony': 'No',\n",
       "    'Mahane-Yehuda': 'Yes',\n",
       "    'Talpiot': 'No'}},\n",
       "  'Low': {'Location': {'City-Center': {'Price': {'Cheap': 'No',\n",
       "      'Normal': 'Yes'}},\n",
       "    'Ein-Karem': {'Price': {'Cheap': 'Yes', 'Normal': 'No'}},\n",
       "    'Mahane-Yehuda': 'No',\n",
       "    'Talpiot': 'No'}},\n",
       "  'Moderate': {'Location': {'City-Center': 'Yes',\n",
       "    'Ein-Karem': 'Yes',\n",
       "    'German-Colony': {'VIP': {'No': 'No', 'Yes': 'Yes'}},\n",
       "    'Mahane-Yehuda': 'Yes',\n",
       "    'Talpiot': {'Price': {'Cheap': 'No', 'Normal': 'Yes'}}}}}}"
      ]
     },
     "execution_count": 12,
     "metadata": {},
     "output_type": "execute_result"
    }
   ],
   "source": [
    "ID3_tree = create_tree(df)\n",
    "ID3_tree"
   ]
  },
  {
   "cell_type": "markdown",
   "metadata": {},
   "source": [
    "### Testdata"
   ]
  },
  {
   "cell_type": "code",
   "execution_count": 13,
   "metadata": {},
   "outputs": [
    {
     "data": {
      "text/html": [
       "<div>\n",
       "<style scoped>\n",
       "    .dataframe tbody tr th:only-of-type {\n",
       "        vertical-align: middle;\n",
       "    }\n",
       "\n",
       "    .dataframe tbody tr th {\n",
       "        vertical-align: top;\n",
       "    }\n",
       "\n",
       "    .dataframe thead th {\n",
       "        text-align: right;\n",
       "    }\n",
       "</style>\n",
       "<table border=\"1\" class=\"dataframe\">\n",
       "  <thead>\n",
       "    <tr style=\"text-align: right;\">\n",
       "      <th></th>\n",
       "      <th>Occupied</th>\n",
       "      <th>Price</th>\n",
       "      <th>Music</th>\n",
       "      <th>Location</th>\n",
       "      <th>VIP</th>\n",
       "      <th>FavoriteBeer</th>\n",
       "    </tr>\n",
       "  </thead>\n",
       "  <tbody>\n",
       "    <tr>\n",
       "      <th>0</th>\n",
       "      <td>Moderate</td>\n",
       "      <td>Cheap</td>\n",
       "      <td>Loud</td>\n",
       "      <td>City-Center</td>\n",
       "      <td>No</td>\n",
       "      <td>No</td>\n",
       "    </tr>\n",
       "  </tbody>\n",
       "</table>\n",
       "</div>"
      ],
      "text/plain": [
       "   Occupied  Price Music     Location VIP FavoriteBeer\n",
       "0  Moderate  Cheap  Loud  City-Center  No           No"
      ]
     },
     "execution_count": 13,
     "metadata": {},
     "output_type": "execute_result"
    }
   ],
   "source": [
    "data = {attributes[0]: 'Moderate', attributes[1]: 'Cheap', attributes[2]: 'Loud',\n",
    "        attributes[3]: 'City-Center', attributes[4]: 'No', attributes[5]: 'No'}\n",
    "test_data = pd.DataFrame(data, index = [0])\n",
    "test_data"
   ]
  },
  {
   "cell_type": "markdown",
   "metadata": {},
   "source": [
    "## Make prediction based on Decision Tree"
   ]
  },
  {
   "cell_type": "code",
   "execution_count": 14,
   "metadata": {},
   "outputs": [],
   "source": [
    "def predict(tree, test_data):\n",
    "    attribute =list(tree.keys())[0]\n",
    "    value = test_data[attribute].values[0]\n",
    "    for key in tree[attribute].keys():\n",
    "        if value == key:\n",
    "            if isinstance(tree[attribute][key], dict):\n",
    "                result = predict(tree[attribute][key], test_data)\n",
    "            else:\n",
    "                return tree[attribute][key]\n",
    "    return result"
   ]
  },
  {
   "cell_type": "code",
   "execution_count": 15,
   "metadata": {},
   "outputs": [
    {
     "data": {
      "text/plain": [
       "'Yes'"
      ]
     },
     "execution_count": 15,
     "metadata": {},
     "output_type": "execute_result"
    }
   ],
   "source": [
    "predict(ID3_tree, test_data)"
   ]
  },
  {
   "cell_type": "markdown",
   "metadata": {},
   "source": [
    "## Plot the tree"
   ]
  },
  {
   "cell_type": "markdown",
   "metadata": {},
   "source": [
    "### Acquire the number of leafs "
   ]
  },
  {
   "cell_type": "code",
   "execution_count": 16,
   "metadata": {},
   "outputs": [],
   "source": [
    "def get_num_leafs(tree):\n",
    "    num_leafs = 0\n",
    "    attribute =list(tree.keys())[0]\n",
    "    \n",
    "    for key in tree[attribute].keys():\n",
    "        if isinstance(tree[attribute][key], dict):\n",
    "            num_leafs += get_num_leafs(tree[attribute][key])\n",
    "        else:\n",
    "            num_leafs += 1\n",
    "    \n",
    "    return num_leafs"
   ]
  },
  {
   "cell_type": "markdown",
   "metadata": {},
   "source": [
    "### Acquire the depth of tree "
   ]
  },
  {
   "cell_type": "code",
   "execution_count": 17,
   "metadata": {},
   "outputs": [],
   "source": [
    "def get_tree_depth(tree):\n",
    "    max_depth = 0\n",
    "    attribute =list(tree.keys())[0]\n",
    "    \n",
    "    for key in tree[attribute].keys():\n",
    "        if isinstance(tree[attribute][key], dict):\n",
    "            this_depth = 1 + get_tree_depth(tree[attribute])\n",
    "        else:\n",
    "            this_depth = 1\n",
    "            \n",
    "        if this_depth > max_depth:\n",
    "            max_depth = this_depth\n",
    "            \n",
    "    return max_depth"
   ]
  },
  {
   "cell_type": "markdown",
   "metadata": {},
   "source": [
    "### Plot the treenode and value"
   ]
  },
  {
   "cell_type": "code",
   "execution_count": 18,
   "metadata": {},
   "outputs": [],
   "source": [
    "def plot_node(ax, node_txt, center_ptr, parent_ptr, node_type):\n",
    "    ax.annotate(node_txt, xy=parent_ptr, xycoords='axes fraction',\n",
    "                xytext=center_ptr, textcoords='axes fraction',\n",
    "                va=\"center\", ha=\"center\", bbox=node_type, arrowprops=arrow_args)"
   ]
  },
  {
   "cell_type": "code",
   "execution_count": 19,
   "metadata": {},
   "outputs": [],
   "source": [
    "decision_node = dict(boxstyle=\"sawtooth\", fc=\"0.8\") #Tree node style\n",
    "leaf_node = dict(boxstyle=\"round4\", fc=\"0.8\")  #Leaf node style\n",
    "arrow_args = dict(arrowstyle=\"<-\")  #Branch style"
   ]
  },
  {
   "cell_type": "markdown",
   "metadata": {},
   "source": [
    "### Plot the value of attribute on the branch"
   ]
  },
  {
   "cell_type": "code",
   "execution_count": 20,
   "metadata": {},
   "outputs": [],
   "source": [
    "def plot_mid_text(ax, center_ptr, parent_ptr, txt):\n",
    "    x_mid = (parent_ptr[0] - center_ptr[0]) / 2.0 + center_ptr[0]\n",
    "    y_mid = (parent_ptr[1] - center_ptr[1]) / 2.0 + center_ptr[1]\n",
    " \n",
    "    ax.text(x_mid, y_mid, txt, rotation = 45)"
   ]
  },
  {
   "cell_type": "markdown",
   "metadata": {},
   "source": [
    "### Generate Decision Tree"
   ]
  },
  {
   "cell_type": "code",
   "execution_count": 21,
   "metadata": {},
   "outputs": [],
   "source": [
    "def plot_tree(ax, tree, parent_ptr, node_txt):\n",
    "    \n",
    "    num_leafs = get_num_leafs(tree)\n",
    "    \n",
    "    attribute =list(tree.keys())[0]\n",
    "    center_ptr = (plot_tree.x_off + (1.0 + float(num_leafs)) / 2.0 / plot_tree.total_width, plot_tree.y_off)\n",
    "    \n",
    "    plot_mid_text(ax, center_ptr, parent_ptr, node_txt)\n",
    "    plot_node(ax, attribute, center_ptr, parent_ptr, decision_node)\n",
    "    \n",
    "    branch = tree[attribute]\n",
    "    plot_tree.y_off -= 1.0 / plot_tree.total_depth\n",
    "    \n",
    "    for key in branch.keys():\n",
    "        if isinstance(branch[key], dict):\n",
    "            plot_tree(ax, branch[key], center_ptr, str(key))\n",
    "        else:\n",
    "            plot_tree.x_off += 1.0 / plot_tree.total_width\n",
    "            plot_mid_text(ax, (plot_tree.x_off, plot_tree.y_off), center_ptr, str(key))\n",
    "            plot_node(ax, branch[key], (plot_tree.x_off, plot_tree.y_off), center_ptr, leaf_node)\n",
    "    \n",
    "    plot_tree.y_off += 1.0 / plot_tree.total_depth"
   ]
  },
  {
   "cell_type": "markdown",
   "metadata": {},
   "source": [
    "### Setting the canvas and basic parameters"
   ]
  },
  {
   "cell_type": "code",
   "execution_count": 22,
   "metadata": {},
   "outputs": [],
   "source": [
    "def create_plot(tree):\n",
    "    fig = plt.figure(1, facecolor=\"white\", figsize=(20, 10))\n",
    "    fig.clf()\n",
    "    \n",
    "    ax_props = dict(xticks=[], yticks=[])\n",
    "    ax = plt.subplot(111, frameon=False, **ax_props)\n",
    "    plot_tree.total_width = float(get_num_leafs(tree))\n",
    "    plot_tree.total_depth = float(get_tree_depth(tree))\n",
    "    plot_tree.x_off = -0.5 / plot_tree.total_width\n",
    "    plot_tree.y_off = 1.0\n",
    "    plot_tree(ax, tree, (0.5, 1.0), \"\")\n",
    "    plt.show()"
   ]
  },
  {
   "cell_type": "code",
   "execution_count": 23,
   "metadata": {},
   "outputs": [
    {
     "data": {
      "image/png": "[encoded data removed]",
      "text/plain": [
       "<Figure size 1440x720 with 1 Axes>"
      ]
     },
     "metadata": {},
     "output_type": "display_data"
    }
   ],
   "source": [
    "create_plot(ID3_tree)"
   ]
  },
  {
   "cell_type": "markdown",
   "metadata": {},
   "source": [
    "## Part 2: Software Familiarization "
   ]
  },
  {
   "cell_type": "code",
   "execution_count": 24,
   "metadata": {},
   "outputs": [],
   "source": [
    "from sklearn import tree\n",
    "import graphviz"
   ]
  },
  {
   "cell_type": "markdown",
   "metadata": {},
   "source": [
    "### Obtain and clean dataset"
   ]
  },
  {
   "cell_type": "code",
   "execution_count": 25,
   "metadata": {},
   "outputs": [
    {
     "data": {
      "text/html": [
       "<div>\n",
       "<style scoped>\n",
       "    .dataframe tbody tr th:only-of-type {\n",
       "        vertical-align: middle;\n",
       "    }\n",
       "\n",
       "    .dataframe tbody tr th {\n",
       "        vertical-align: top;\n",
       "    }\n",
       "\n",
       "    .dataframe thead th {\n",
       "        text-align: right;\n",
       "    }\n",
       "</style>\n",
       "<table border=\"1\" class=\"dataframe\">\n",
       "  <thead>\n",
       "    <tr style=\"text-align: right;\">\n",
       "      <th></th>\n",
       "      <th>Occupied</th>\n",
       "      <th>Price</th>\n",
       "      <th>Music</th>\n",
       "      <th>Location</th>\n",
       "      <th>VIP</th>\n",
       "      <th>FavoriteBeer</th>\n",
       "      <th>Enjoy</th>\n",
       "    </tr>\n",
       "  </thead>\n",
       "  <tbody>\n",
       "    <tr>\n",
       "      <th>0</th>\n",
       "      <td>High</td>\n",
       "      <td>Expensive</td>\n",
       "      <td>Loud</td>\n",
       "      <td>Talpiot</td>\n",
       "      <td>No</td>\n",
       "      <td>No</td>\n",
       "      <td>No</td>\n",
       "    </tr>\n",
       "    <tr>\n",
       "      <th>1</th>\n",
       "      <td>High</td>\n",
       "      <td>Expensive</td>\n",
       "      <td>Loud</td>\n",
       "      <td>City-Center</td>\n",
       "      <td>Yes</td>\n",
       "      <td>No</td>\n",
       "      <td>Yes</td>\n",
       "    </tr>\n",
       "    <tr>\n",
       "      <th>2</th>\n",
       "      <td>Moderate</td>\n",
       "      <td>Normal</td>\n",
       "      <td>Quiet</td>\n",
       "      <td>City-Center</td>\n",
       "      <td>No</td>\n",
       "      <td>Yes</td>\n",
       "      <td>Yes</td>\n",
       "    </tr>\n",
       "    <tr>\n",
       "      <th>3</th>\n",
       "      <td>Moderate</td>\n",
       "      <td>Expensive</td>\n",
       "      <td>Quiet</td>\n",
       "      <td>German-Colony</td>\n",
       "      <td>No</td>\n",
       "      <td>No</td>\n",
       "      <td>No</td>\n",
       "    </tr>\n",
       "    <tr>\n",
       "      <th>4</th>\n",
       "      <td>Moderate</td>\n",
       "      <td>Expensive</td>\n",
       "      <td>Quiet</td>\n",
       "      <td>German-Colony</td>\n",
       "      <td>Yes</td>\n",
       "      <td>Yes</td>\n",
       "      <td>Yes</td>\n",
       "    </tr>\n",
       "  </tbody>\n",
       "</table>\n",
       "</div>"
      ],
      "text/plain": [
       "   Occupied      Price  Music       Location  VIP FavoriteBeer Enjoy\n",
       "0      High  Expensive   Loud        Talpiot   No           No    No\n",
       "1      High  Expensive   Loud    City-Center  Yes           No   Yes\n",
       "2  Moderate     Normal  Quiet    City-Center   No          Yes   Yes\n",
       "3  Moderate  Expensive  Quiet  German-Colony   No           No    No\n",
       "4  Moderate  Expensive  Quiet  German-Colony  Yes          Yes   Yes"
      ]
     },
     "execution_count": 25,
     "metadata": {},
     "output_type": "execute_result"
    }
   ],
   "source": [
    "df = pd.read_csv('dt_data.txt')\n",
    "df = df.rename(columns=lambda x: x.replace(\" \",\"\").replace(\"(\",\"\").replace(\")\",\"\")) #clean the column name\n",
    "df['Occupied'] = df['Occupied'].map(lambda x: x[4:])\n",
    "df['Enjoy'] = df['Enjoy'].map(lambda x: x[:-1])\n",
    "for i in df.columns.tolist():\n",
    "    df[i] = df[i].map(lambda x: x.replace(\" \",\"\"))\n",
    "df.head()"
   ]
  },
  {
   "cell_type": "markdown",
   "metadata": {},
   "source": [
    "### Vectorize variables"
   ]
  },
  {
   "cell_type": "code",
   "execution_count": 26,
   "metadata": {},
   "outputs": [
    {
     "data": {
      "text/html": [
       "<div>\n",
       "<style scoped>\n",
       "    .dataframe tbody tr th:only-of-type {\n",
       "        vertical-align: middle;\n",
       "    }\n",
       "\n",
       "    .dataframe tbody tr th {\n",
       "        vertical-align: top;\n",
       "    }\n",
       "\n",
       "    .dataframe thead th {\n",
       "        text-align: right;\n",
       "    }\n",
       "</style>\n",
       "<table border=\"1\" class=\"dataframe\">\n",
       "  <thead>\n",
       "    <tr style=\"text-align: right;\">\n",
       "      <th></th>\n",
       "      <th>Occupied</th>\n",
       "      <th>Price</th>\n",
       "      <th>Music</th>\n",
       "      <th>Location</th>\n",
       "      <th>VIP</th>\n",
       "      <th>FavoriteBeer</th>\n",
       "      <th>Enjoy</th>\n",
       "    </tr>\n",
       "  </thead>\n",
       "  <tbody>\n",
       "    <tr>\n",
       "      <th>0</th>\n",
       "      <td>0</td>\n",
       "      <td>0</td>\n",
       "      <td>0</td>\n",
       "      <td>0</td>\n",
       "      <td>0</td>\n",
       "      <td>0</td>\n",
       "      <td>0</td>\n",
       "    </tr>\n",
       "    <tr>\n",
       "      <th>1</th>\n",
       "      <td>0</td>\n",
       "      <td>0</td>\n",
       "      <td>0</td>\n",
       "      <td>1</td>\n",
       "      <td>1</td>\n",
       "      <td>0</td>\n",
       "      <td>1</td>\n",
       "    </tr>\n",
       "    <tr>\n",
       "      <th>2</th>\n",
       "      <td>1</td>\n",
       "      <td>1</td>\n",
       "      <td>1</td>\n",
       "      <td>1</td>\n",
       "      <td>0</td>\n",
       "      <td>1</td>\n",
       "      <td>1</td>\n",
       "    </tr>\n",
       "    <tr>\n",
       "      <th>3</th>\n",
       "      <td>1</td>\n",
       "      <td>0</td>\n",
       "      <td>1</td>\n",
       "      <td>2</td>\n",
       "      <td>0</td>\n",
       "      <td>0</td>\n",
       "      <td>0</td>\n",
       "    </tr>\n",
       "    <tr>\n",
       "      <th>4</th>\n",
       "      <td>1</td>\n",
       "      <td>0</td>\n",
       "      <td>1</td>\n",
       "      <td>2</td>\n",
       "      <td>1</td>\n",
       "      <td>1</td>\n",
       "      <td>1</td>\n",
       "    </tr>\n",
       "  </tbody>\n",
       "</table>\n",
       "</div>"
      ],
      "text/plain": [
       "   Occupied  Price  Music  Location  VIP  FavoriteBeer  Enjoy\n",
       "0         0      0      0         0    0             0      0\n",
       "1         0      0      0         1    1             0      1\n",
       "2         1      1      1         1    0             1      1\n",
       "3         1      0      1         2    0             0      0\n",
       "4         1      0      1         2    1             1      1"
      ]
     },
     "execution_count": 26,
     "metadata": {},
     "output_type": "execute_result"
    }
   ],
   "source": [
    "value_name = []\n",
    "for i in df.columns.tolist():    \n",
    "    df[i], t_list = pd.factorize(df[i])\n",
    "    value_name.append(t_list)\n",
    "df.head()"
   ]
  },
  {
   "cell_type": "code",
   "execution_count": 27,
   "metadata": {},
   "outputs": [
    {
     "data": {
      "text/plain": [
       "[Index(['High', 'Moderate', 'Low'], dtype='object'),\n",
       " Index(['Expensive', 'Normal', 'Cheap'], dtype='object'),\n",
       " Index(['Loud', 'Quiet'], dtype='object'),\n",
       " Index(['Talpiot', 'City-Center', 'German-Colony', 'Ein-Karem',\n",
       "        'Mahane-Yehuda'],\n",
       "       dtype='object'),\n",
       " Index(['No', 'Yes'], dtype='object'),\n",
       " Index(['No', 'Yes'], dtype='object'),\n",
       " Index(['No', 'Yes'], dtype='object')]"
      ]
     },
     "execution_count": 27,
     "metadata": {},
     "output_type": "execute_result"
    }
   ],
   "source": [
    "value_name"
   ]
  },
  {
   "cell_type": "markdown",
   "metadata": {},
   "source": [
    "### Selecting decision tree algorithm"
   ]
  },
  {
   "cell_type": "code",
   "execution_count": 28,
   "metadata": {},
   "outputs": [],
   "source": [
    "clf = tree.DecisionTreeClassifier(criterion='entropy')  #Selecting decision tree algorithm"
   ]
  },
  {
   "cell_type": "markdown",
   "metadata": {},
   "source": [
    "### Fitting training data"
   ]
  },
  {
   "cell_type": "code",
   "execution_count": 29,
   "metadata": {},
   "outputs": [],
   "source": [
    "clf = clf.fit(df.iloc[:,:-1], df.iloc[:,-1])  #Fitting training data"
   ]
  },
  {
   "cell_type": "markdown",
   "metadata": {},
   "source": [
    "### Obtain test data"
   ]
  },
  {
   "cell_type": "code",
   "execution_count": 30,
   "metadata": {},
   "outputs": [
    {
     "data": {
      "text/html": [
       "<div>\n",
       "<style scoped>\n",
       "    .dataframe tbody tr th:only-of-type {\n",
       "        vertical-align: middle;\n",
       "    }\n",
       "\n",
       "    .dataframe tbody tr th {\n",
       "        vertical-align: top;\n",
       "    }\n",
       "\n",
       "    .dataframe thead th {\n",
       "        text-align: right;\n",
       "    }\n",
       "</style>\n",
       "<table border=\"1\" class=\"dataframe\">\n",
       "  <thead>\n",
       "    <tr style=\"text-align: right;\">\n",
       "      <th></th>\n",
       "      <th>Occupied</th>\n",
       "      <th>Price</th>\n",
       "      <th>Music</th>\n",
       "      <th>Location</th>\n",
       "      <th>VIP</th>\n",
       "      <th>FavoriteBeer</th>\n",
       "    </tr>\n",
       "  </thead>\n",
       "  <tbody>\n",
       "    <tr>\n",
       "      <th>0</th>\n",
       "      <td>1</td>\n",
       "      <td>2</td>\n",
       "      <td>0</td>\n",
       "      <td>1</td>\n",
       "      <td>0</td>\n",
       "      <td>0</td>\n",
       "    </tr>\n",
       "  </tbody>\n",
       "</table>\n",
       "</div>"
      ],
      "text/plain": [
       "  Occupied Price Music Location VIP FavoriteBeer\n",
       "0        1     2     0        1   0            0"
      ]
     },
     "execution_count": 30,
     "metadata": {},
     "output_type": "execute_result"
    }
   ],
   "source": [
    "data = {attributes[0]: '1', attributes[1]: '2', attributes[2]: '0',\n",
    "        attributes[3]: '1', attributes[4]: '0', attributes[5]: '0'}\n",
    "test_data = pd.DataFrame(data, index = [0])\n",
    "test_data"
   ]
  },
  {
   "cell_type": "markdown",
   "metadata": {},
   "source": [
    "### Predicting test data"
   ]
  },
  {
   "cell_type": "code",
   "execution_count": 31,
   "metadata": {},
   "outputs": [
    {
     "data": {
      "text/plain": [
       "array([1])"
      ]
     },
     "execution_count": 31,
     "metadata": {},
     "output_type": "execute_result"
    }
   ],
   "source": [
    "label_test = clf.predict(test_data)   #Predicting test data\n",
    "label_test"
   ]
  },
  {
   "cell_type": "markdown",
   "metadata": {},
   "source": [
    "### Plot the tree"
   ]
  },
  {
   "cell_type": "code",
   "execution_count": 32,
   "metadata": {},
   "outputs": [],
   "source": [
    "f = tree.export_graphviz(clf,feature_names=attributes, class_names=value_name[-1])"
   ]
  },
  {
   "cell_type": "code",
   "execution_count": 33,
   "metadata": {},
   "outputs": [
    {
     "data": {
      "image/svg+xml": [
       "<?xml version=\"1.0\" encoding=\"UTF-8\" standalone=\"no\"?>\n",
       "<!DOCTYPE svg PUBLIC \"-//W3C//DTD SVG 1.1//EN\"\n",
       " \"http://www.w3.org/Graphics/SVG/1.1/DTD/svg11.dtd\">\n",
       "<!-- Generated by graphviz version 2.43.0 (0)\n",
       " -->\n",
       "<!-- Title: Tree Pages: 1 -->\n",
       "<svg width=\"661pt\" height=\"870pt\"\n",
       " viewBox=\"0.00 0.00 660.54 870.00\" xmlns=\"http://www.w3.org/2000/svg\" xmlns:xlink=\"http://www.w3.org/1999/xlink\">\n",
       "<g id=\"graph0\" class=\"graph\" transform=\"scale(1 1) rotate(0) translate(4 866)\">\n",
       "<title>Tree</title>\n",
       "<polygon fill=\"white\" stroke=\"transparent\" points=\"-4,4 -4,-866 656.54,-866 656.54,4 -4,4\"/>\n",
       "<!-- 0 -->\n",
       "<g id=\"node1\" class=\"node\">\n",
       "<title>0</title>\n",
       "<polygon fill=\"none\" stroke=\"black\" points=\"396.7,-862 286.84,-862 286.84,-784 396.7,-784 396.7,-862\"/>\n",
       "<text text-anchor=\"middle\" x=\"341.77\" y=\"-846.8\" font-family=\"Times,serif\" font-size=\"14.00\">Occupied &lt;= 1.5</text>\n",
       "<text text-anchor=\"middle\" x=\"341.77\" y=\"-832.8\" font-family=\"Times,serif\" font-size=\"14.00\">entropy = 0.976</text>\n",
       "<text text-anchor=\"middle\" x=\"341.77\" y=\"-818.8\" font-family=\"Times,serif\" font-size=\"14.00\">samples = 22</text>\n",
       "<text text-anchor=\"middle\" x=\"341.77\" y=\"-804.8\" font-family=\"Times,serif\" font-size=\"14.00\">value = [9, 13]</text>\n",
       "<text text-anchor=\"middle\" x=\"341.77\" y=\"-790.8\" font-family=\"Times,serif\" font-size=\"14.00\">class = Yes</text>\n",
       "</g>\n",
       "<!-- 1 -->\n",
       "<g id=\"node2\" class=\"node\">\n",
       "<title>1</title>\n",
       "<polygon fill=\"none\" stroke=\"black\" points=\"332.82,-748 226.72,-748 226.72,-670 332.82,-670 332.82,-748\"/>\n",
       "<text text-anchor=\"middle\" x=\"279.77\" y=\"-732.8\" font-family=\"Times,serif\" font-size=\"14.00\">Location &lt;= 2.5</text>\n",
       "<text text-anchor=\"middle\" x=\"279.77\" y=\"-718.8\" font-family=\"Times,serif\" font-size=\"14.00\">entropy = 0.837</text>\n",
       "<text text-anchor=\"middle\" x=\"279.77\" y=\"-704.8\" font-family=\"Times,serif\" font-size=\"14.00\">samples = 15</text>\n",
       "<text text-anchor=\"middle\" x=\"279.77\" y=\"-690.8\" font-family=\"Times,serif\" font-size=\"14.00\">value = [4, 11]</text>\n",
       "<text text-anchor=\"middle\" x=\"279.77\" y=\"-676.8\" font-family=\"Times,serif\" font-size=\"14.00\">class = Yes</text>\n",
       "</g>\n",
       "<!-- 0&#45;&gt;1 -->\n",
       "<g id=\"edge1\" class=\"edge\">\n",
       "<title>0&#45;&gt;1</title>\n",
       "<path fill=\"none\" stroke=\"black\" d=\"M320.61,-783.77C315.82,-775.12 310.68,-765.84 305.72,-756.88\"/>\n",
       "<polygon fill=\"black\" stroke=\"black\" points=\"308.74,-755.11 300.84,-748.06 302.62,-758.5 308.74,-755.11\"/>\n",
       "<text text-anchor=\"middle\" x=\"293.93\" y=\"-767.89\" font-family=\"Times,serif\" font-size=\"14.00\">True</text>\n",
       "</g>\n",
       "<!-- 14 -->\n",
       "<g id=\"node15\" class=\"node\">\n",
       "<title>14</title>\n",
       "<polygon fill=\"none\" stroke=\"black\" points=\"456.43,-748 351.11,-748 351.11,-670 456.43,-670 456.43,-748\"/>\n",
       "<text text-anchor=\"middle\" x=\"403.77\" y=\"-732.8\" font-family=\"Times,serif\" font-size=\"14.00\">Price &lt;= 0.5</text>\n",
       "<text text-anchor=\"middle\" x=\"403.77\" y=\"-718.8\" font-family=\"Times,serif\" font-size=\"14.00\">entropy = 0.863</text>\n",
       "<text text-anchor=\"middle\" x=\"403.77\" y=\"-704.8\" font-family=\"Times,serif\" font-size=\"14.00\">samples = 7</text>\n",
       "<text text-anchor=\"middle\" x=\"403.77\" y=\"-690.8\" font-family=\"Times,serif\" font-size=\"14.00\">value = [5, 2]</text>\n",
       "<text text-anchor=\"middle\" x=\"403.77\" y=\"-676.8\" font-family=\"Times,serif\" font-size=\"14.00\">class = No</text>\n",
       "</g>\n",
       "<!-- 0&#45;&gt;14 -->\n",
       "<g id=\"edge14\" class=\"edge\">\n",
       "<title>0&#45;&gt;14</title>\n",
       "<path fill=\"none\" stroke=\"black\" d=\"M362.93,-783.77C367.72,-775.12 372.86,-765.84 377.82,-756.88\"/>\n",
       "<polygon fill=\"black\" stroke=\"black\" points=\"380.92,-758.5 382.7,-748.06 374.8,-755.11 380.92,-758.5\"/>\n",
       "<text text-anchor=\"middle\" x=\"389.6\" y=\"-767.89\" font-family=\"Times,serif\" font-size=\"14.00\">False</text>\n",
       "</g>\n",
       "<!-- 2 -->\n",
       "<g id=\"node3\" class=\"node\">\n",
       "<title>2</title>\n",
       "<polygon fill=\"none\" stroke=\"black\" points=\"223.43,-634 118.11,-634 118.11,-556 223.43,-556 223.43,-634\"/>\n",
       "<text text-anchor=\"middle\" x=\"170.77\" y=\"-618.8\" font-family=\"Times,serif\" font-size=\"14.00\">VIP &lt;= 0.5</text>\n",
       "<text text-anchor=\"middle\" x=\"170.77\" y=\"-604.8\" font-family=\"Times,serif\" font-size=\"14.00\">entropy = 0.971</text>\n",
       "<text text-anchor=\"middle\" x=\"170.77\" y=\"-590.8\" font-family=\"Times,serif\" font-size=\"14.00\">samples = 10</text>\n",
       "<text text-anchor=\"middle\" x=\"170.77\" y=\"-576.8\" font-family=\"Times,serif\" font-size=\"14.00\">value = [4, 6]</text>\n",
       "<text text-anchor=\"middle\" x=\"170.77\" y=\"-562.8\" font-family=\"Times,serif\" font-size=\"14.00\">class = Yes</text>\n",
       "</g>\n",
       "<!-- 1&#45;&gt;2 -->\n",
       "<g id=\"edge2\" class=\"edge\">\n",
       "<title>1&#45;&gt;2</title>\n",
       "<path fill=\"none\" stroke=\"black\" d=\"M242.56,-669.77C233.71,-660.67 224.17,-650.87 215.03,-641.48\"/>\n",
       "<polygon fill=\"black\" stroke=\"black\" points=\"217.29,-638.78 207.81,-634.06 212.27,-643.67 217.29,-638.78\"/>\n",
       "</g>\n",
       "<!-- 13 -->\n",
       "<g id=\"node14\" class=\"node\">\n",
       "<title>13</title>\n",
       "<polygon fill=\"none\" stroke=\"black\" points=\"332.31,-627 241.23,-627 241.23,-563 332.31,-563 332.31,-627\"/>\n",
       "<text text-anchor=\"middle\" x=\"286.77\" y=\"-611.8\" font-family=\"Times,serif\" font-size=\"14.00\">entropy = 0.0</text>\n",
       "<text text-anchor=\"middle\" x=\"286.77\" y=\"-597.8\" font-family=\"Times,serif\" font-size=\"14.00\">samples = 5</text>\n",
       "<text text-anchor=\"middle\" x=\"286.77\" y=\"-583.8\" font-family=\"Times,serif\" font-size=\"14.00\">value = [0, 5]</text>\n",
       "<text text-anchor=\"middle\" x=\"286.77\" y=\"-569.8\" font-family=\"Times,serif\" font-size=\"14.00\">class = Yes</text>\n",
       "</g>\n",
       "<!-- 1&#45;&gt;13 -->\n",
       "<g id=\"edge13\" class=\"edge\">\n",
       "<title>1&#45;&gt;13</title>\n",
       "<path fill=\"none\" stroke=\"black\" d=\"M282.16,-669.77C282.81,-659.31 283.52,-647.94 284.19,-637.32\"/>\n",
       "<polygon fill=\"black\" stroke=\"black\" points=\"287.7,-637.21 284.83,-627.01 280.71,-636.77 287.7,-637.21\"/>\n",
       "</g>\n",
       "<!-- 3 -->\n",
       "<g id=\"node4\" class=\"node\">\n",
       "<title>3</title>\n",
       "<polygon fill=\"none\" stroke=\"black\" points=\"223.43,-520 118.11,-520 118.11,-442 223.43,-442 223.43,-520\"/>\n",
       "<text text-anchor=\"middle\" x=\"170.77\" y=\"-504.8\" font-family=\"Times,serif\" font-size=\"14.00\">Price &lt;= 0.5</text>\n",
       "<text text-anchor=\"middle\" x=\"170.77\" y=\"-490.8\" font-family=\"Times,serif\" font-size=\"14.00\">entropy = 0.985</text>\n",
       "<text text-anchor=\"middle\" x=\"170.77\" y=\"-476.8\" font-family=\"Times,serif\" font-size=\"14.00\">samples = 7</text>\n",
       "<text text-anchor=\"middle\" x=\"170.77\" y=\"-462.8\" font-family=\"Times,serif\" font-size=\"14.00\">value = [4, 3]</text>\n",
       "<text text-anchor=\"middle\" x=\"170.77\" y=\"-448.8\" font-family=\"Times,serif\" font-size=\"14.00\">class = No</text>\n",
       "</g>\n",
       "<!-- 2&#45;&gt;3 -->\n",
       "<g id=\"edge3\" class=\"edge\">\n",
       "<title>2&#45;&gt;3</title>\n",
       "<path fill=\"none\" stroke=\"black\" d=\"M170.77,-555.77C170.77,-547.57 170.77,-538.8 170.77,-530.28\"/>\n",
       "<polygon fill=\"black\" stroke=\"black\" points=\"174.27,-530.06 170.77,-520.06 167.27,-530.06 174.27,-530.06\"/>\n",
       "</g>\n",
       "<!-- 12 -->\n",
       "<g id=\"node13\" class=\"node\">\n",
       "<title>12</title>\n",
       "<polygon fill=\"none\" stroke=\"black\" points=\"332.31,-513 241.23,-513 241.23,-449 332.31,-449 332.31,-513\"/>\n",
       "<text text-anchor=\"middle\" x=\"286.77\" y=\"-497.8\" font-family=\"Times,serif\" font-size=\"14.00\">entropy = 0.0</text>\n",
       "<text text-anchor=\"middle\" x=\"286.77\" y=\"-483.8\" font-family=\"Times,serif\" font-size=\"14.00\">samples = 3</text>\n",
       "<text text-anchor=\"middle\" x=\"286.77\" y=\"-469.8\" font-family=\"Times,serif\" font-size=\"14.00\">value = [0, 3]</text>\n",
       "<text text-anchor=\"middle\" x=\"286.77\" y=\"-455.8\" font-family=\"Times,serif\" font-size=\"14.00\">class = Yes</text>\n",
       "</g>\n",
       "<!-- 2&#45;&gt;12 -->\n",
       "<g id=\"edge12\" class=\"edge\">\n",
       "<title>2&#45;&gt;12</title>\n",
       "<path fill=\"none\" stroke=\"black\" d=\"M210.36,-555.77C222.32,-544.22 235.44,-531.55 247.39,-520.02\"/>\n",
       "<polygon fill=\"black\" stroke=\"black\" points=\"249.89,-522.47 254.65,-513.01 245.03,-517.44 249.89,-522.47\"/>\n",
       "</g>\n",
       "<!-- 4 -->\n",
       "<g id=\"node5\" class=\"node\">\n",
       "<title>4</title>\n",
       "<polygon fill=\"none\" stroke=\"black\" points=\"159.31,-399 68.23,-399 68.23,-335 159.31,-335 159.31,-399\"/>\n",
       "<text text-anchor=\"middle\" x=\"113.77\" y=\"-383.8\" font-family=\"Times,serif\" font-size=\"14.00\">entropy = 0.0</text>\n",
       "<text text-anchor=\"middle\" x=\"113.77\" y=\"-369.8\" font-family=\"Times,serif\" font-size=\"14.00\">samples = 2</text>\n",
       "<text text-anchor=\"middle\" x=\"113.77\" y=\"-355.8\" font-family=\"Times,serif\" font-size=\"14.00\">value = [2, 0]</text>\n",
       "<text text-anchor=\"middle\" x=\"113.77\" y=\"-341.8\" font-family=\"Times,serif\" font-size=\"14.00\">class = No</text>\n",
       "</g>\n",
       "<!-- 3&#45;&gt;4 -->\n",
       "<g id=\"edge4\" class=\"edge\">\n",
       "<title>3&#45;&gt;4</title>\n",
       "<path fill=\"none\" stroke=\"black\" d=\"M151.31,-441.77C145.77,-430.88 139.72,-418.99 134.12,-407.99\"/>\n",
       "<polygon fill=\"black\" stroke=\"black\" points=\"137.21,-406.33 129.55,-399.01 130.97,-409.51 137.21,-406.33\"/>\n",
       "</g>\n",
       "<!-- 5 -->\n",
       "<g id=\"node6\" class=\"node\">\n",
       "<title>5</title>\n",
       "<polygon fill=\"none\" stroke=\"black\" points=\"283.82,-406 177.72,-406 177.72,-328 283.82,-328 283.82,-406\"/>\n",
       "<text text-anchor=\"middle\" x=\"230.77\" y=\"-390.8\" font-family=\"Times,serif\" font-size=\"14.00\">Location &lt;= 1.5</text>\n",
       "<text text-anchor=\"middle\" x=\"230.77\" y=\"-376.8\" font-family=\"Times,serif\" font-size=\"14.00\">entropy = 0.971</text>\n",
       "<text text-anchor=\"middle\" x=\"230.77\" y=\"-362.8\" font-family=\"Times,serif\" font-size=\"14.00\">samples = 5</text>\n",
       "<text text-anchor=\"middle\" x=\"230.77\" y=\"-348.8\" font-family=\"Times,serif\" font-size=\"14.00\">value = [2, 3]</text>\n",
       "<text text-anchor=\"middle\" x=\"230.77\" y=\"-334.8\" font-family=\"Times,serif\" font-size=\"14.00\">class = Yes</text>\n",
       "</g>\n",
       "<!-- 3&#45;&gt;5 -->\n",
       "<g id=\"edge5\" class=\"edge\">\n",
       "<title>3&#45;&gt;5</title>\n",
       "<path fill=\"none\" stroke=\"black\" d=\"M191.25,-441.77C195.88,-433.12 200.86,-423.84 205.66,-414.88\"/>\n",
       "<polygon fill=\"black\" stroke=\"black\" points=\"208.74,-416.53 210.38,-406.06 202.57,-413.22 208.74,-416.53\"/>\n",
       "</g>\n",
       "<!-- 6 -->\n",
       "<g id=\"node7\" class=\"node\">\n",
       "<title>6</title>\n",
       "<polygon fill=\"none\" stroke=\"black\" points=\"217.82,-292 111.72,-292 111.72,-214 217.82,-214 217.82,-292\"/>\n",
       "<text text-anchor=\"middle\" x=\"164.77\" y=\"-276.8\" font-family=\"Times,serif\" font-size=\"14.00\">Location &lt;= 0.5</text>\n",
       "<text text-anchor=\"middle\" x=\"164.77\" y=\"-262.8\" font-family=\"Times,serif\" font-size=\"14.00\">entropy = 0.811</text>\n",
       "<text text-anchor=\"middle\" x=\"164.77\" y=\"-248.8\" font-family=\"Times,serif\" font-size=\"14.00\">samples = 4</text>\n",
       "<text text-anchor=\"middle\" x=\"164.77\" y=\"-234.8\" font-family=\"Times,serif\" font-size=\"14.00\">value = [1, 3]</text>\n",
       "<text text-anchor=\"middle\" x=\"164.77\" y=\"-220.8\" font-family=\"Times,serif\" font-size=\"14.00\">class = Yes</text>\n",
       "</g>\n",
       "<!-- 5&#45;&gt;6 -->\n",
       "<g id=\"edge6\" class=\"edge\">\n",
       "<title>5&#45;&gt;6</title>\n",
       "<path fill=\"none\" stroke=\"black\" d=\"M208.24,-327.77C203.14,-319.12 197.67,-309.84 192.39,-300.88\"/>\n",
       "<polygon fill=\"black\" stroke=\"black\" points=\"195.29,-298.9 187.2,-292.06 189.26,-302.45 195.29,-298.9\"/>\n",
       "</g>\n",
       "<!-- 11 -->\n",
       "<g id=\"node12\" class=\"node\">\n",
       "<title>11</title>\n",
       "<polygon fill=\"none\" stroke=\"black\" points=\"327.31,-285 236.23,-285 236.23,-221 327.31,-221 327.31,-285\"/>\n",
       "<text text-anchor=\"middle\" x=\"281.77\" y=\"-269.8\" font-family=\"Times,serif\" font-size=\"14.00\">entropy = 0.0</text>\n",
       "<text text-anchor=\"middle\" x=\"281.77\" y=\"-255.8\" font-family=\"Times,serif\" font-size=\"14.00\">samples = 1</text>\n",
       "<text text-anchor=\"middle\" x=\"281.77\" y=\"-241.8\" font-family=\"Times,serif\" font-size=\"14.00\">value = [1, 0]</text>\n",
       "<text text-anchor=\"middle\" x=\"281.77\" y=\"-227.8\" font-family=\"Times,serif\" font-size=\"14.00\">class = No</text>\n",
       "</g>\n",
       "<!-- 5&#45;&gt;11 -->\n",
       "<g id=\"edge11\" class=\"edge\">\n",
       "<title>5&#45;&gt;11</title>\n",
       "<path fill=\"none\" stroke=\"black\" d=\"M248.18,-327.77C253.09,-316.99 258.44,-305.22 263.41,-294.32\"/>\n",
       "<polygon fill=\"black\" stroke=\"black\" points=\"266.69,-295.56 267.65,-285.01 260.32,-292.66 266.69,-295.56\"/>\n",
       "</g>\n",
       "<!-- 7 -->\n",
       "<g id=\"node8\" class=\"node\">\n",
       "<title>7</title>\n",
       "<polygon fill=\"none\" stroke=\"black\" points=\"165.64,-178 35.89,-178 35.89,-100 165.64,-100 165.64,-178\"/>\n",
       "<text text-anchor=\"middle\" x=\"100.77\" y=\"-162.8\" font-family=\"Times,serif\" font-size=\"14.00\">FavoriteBeer &lt;= 0.5</text>\n",
       "<text text-anchor=\"middle\" x=\"100.77\" y=\"-148.8\" font-family=\"Times,serif\" font-size=\"14.00\">entropy = 1.0</text>\n",
       "<text text-anchor=\"middle\" x=\"100.77\" y=\"-134.8\" font-family=\"Times,serif\" font-size=\"14.00\">samples = 2</text>\n",
       "<text text-anchor=\"middle\" x=\"100.77\" y=\"-120.8\" font-family=\"Times,serif\" font-size=\"14.00\">value = [1, 1]</text>\n",
       "<text text-anchor=\"middle\" x=\"100.77\" y=\"-106.8\" font-family=\"Times,serif\" font-size=\"14.00\">class = No</text>\n",
       "</g>\n",
       "<!-- 6&#45;&gt;7 -->\n",
       "<g id=\"edge7\" class=\"edge\">\n",
       "<title>6&#45;&gt;7</title>\n",
       "<path fill=\"none\" stroke=\"black\" d=\"M142.92,-213.77C137.98,-205.12 132.68,-195.84 127.56,-186.88\"/>\n",
       "<polygon fill=\"black\" stroke=\"black\" points=\"130.52,-185 122.52,-178.06 124.44,-188.48 130.52,-185\"/>\n",
       "</g>\n",
       "<!-- 10 -->\n",
       "<g id=\"node11\" class=\"node\">\n",
       "<title>10</title>\n",
       "<polygon fill=\"none\" stroke=\"black\" points=\"274.31,-171 183.23,-171 183.23,-107 274.31,-107 274.31,-171\"/>\n",
       "<text text-anchor=\"middle\" x=\"228.77\" y=\"-155.8\" font-family=\"Times,serif\" font-size=\"14.00\">entropy = 0.0</text>\n",
       "<text text-anchor=\"middle\" x=\"228.77\" y=\"-141.8\" font-family=\"Times,serif\" font-size=\"14.00\">samples = 2</text>\n",
       "<text text-anchor=\"middle\" x=\"228.77\" y=\"-127.8\" font-family=\"Times,serif\" font-size=\"14.00\">value = [0, 2]</text>\n",
       "<text text-anchor=\"middle\" x=\"228.77\" y=\"-113.8\" font-family=\"Times,serif\" font-size=\"14.00\">class = Yes</text>\n",
       "</g>\n",
       "<!-- 6&#45;&gt;10 -->\n",
       "<g id=\"edge10\" class=\"edge\">\n",
       "<title>6&#45;&gt;10</title>\n",
       "<path fill=\"none\" stroke=\"black\" d=\"M186.61,-213.77C192.84,-202.88 199.63,-190.99 205.92,-179.99\"/>\n",
       "<polygon fill=\"black\" stroke=\"black\" points=\"209.13,-181.43 211.05,-171.01 203.05,-177.96 209.13,-181.43\"/>\n",
       "</g>\n",
       "<!-- 8 -->\n",
       "<g id=\"node9\" class=\"node\">\n",
       "<title>8</title>\n",
       "<polygon fill=\"none\" stroke=\"black\" points=\"91.31,-64 0.23,-64 0.23,0 91.31,0 91.31,-64\"/>\n",
       "<text text-anchor=\"middle\" x=\"45.77\" y=\"-48.8\" font-family=\"Times,serif\" font-size=\"14.00\">entropy = 0.0</text>\n",
       "<text text-anchor=\"middle\" x=\"45.77\" y=\"-34.8\" font-family=\"Times,serif\" font-size=\"14.00\">samples = 1</text>\n",
       "<text text-anchor=\"middle\" x=\"45.77\" y=\"-20.8\" font-family=\"Times,serif\" font-size=\"14.00\">value = [0, 1]</text>\n",
       "<text text-anchor=\"middle\" x=\"45.77\" y=\"-6.8\" font-family=\"Times,serif\" font-size=\"14.00\">class = Yes</text>\n",
       "</g>\n",
       "<!-- 7&#45;&gt;8 -->\n",
       "<g id=\"edge8\" class=\"edge\">\n",
       "<title>7&#45;&gt;8</title>\n",
       "<path fill=\"none\" stroke=\"black\" d=\"M80.76,-99.8C76.2,-91.09 71.34,-81.82 66.74,-73.04\"/>\n",
       "<polygon fill=\"black\" stroke=\"black\" points=\"69.81,-71.35 62.07,-64.12 63.61,-74.6 69.81,-71.35\"/>\n",
       "</g>\n",
       "<!-- 9 -->\n",
       "<g id=\"node10\" class=\"node\">\n",
       "<title>9</title>\n",
       "<polygon fill=\"none\" stroke=\"black\" points=\"201.31,-64 110.23,-64 110.23,0 201.31,0 201.31,-64\"/>\n",
       "<text text-anchor=\"middle\" x=\"155.77\" y=\"-48.8\" font-family=\"Times,serif\" font-size=\"14.00\">entropy = 0.0</text>\n",
       "<text text-anchor=\"middle\" x=\"155.77\" y=\"-34.8\" font-family=\"Times,serif\" font-size=\"14.00\">samples = 1</text>\n",
       "<text text-anchor=\"middle\" x=\"155.77\" y=\"-20.8\" font-family=\"Times,serif\" font-size=\"14.00\">value = [1, 0]</text>\n",
       "<text text-anchor=\"middle\" x=\"155.77\" y=\"-6.8\" font-family=\"Times,serif\" font-size=\"14.00\">class = No</text>\n",
       "</g>\n",
       "<!-- 7&#45;&gt;9 -->\n",
       "<g id=\"edge9\" class=\"edge\">\n",
       "<title>7&#45;&gt;9</title>\n",
       "<path fill=\"none\" stroke=\"black\" d=\"M120.78,-99.8C125.34,-91.09 130.2,-81.82 134.79,-73.04\"/>\n",
       "<polygon fill=\"black\" stroke=\"black\" points=\"137.93,-74.6 139.47,-64.12 131.73,-71.35 137.93,-74.6\"/>\n",
       "</g>\n",
       "<!-- 15 -->\n",
       "<g id=\"node16\" class=\"node\">\n",
       "<title>15</title>\n",
       "<polygon fill=\"none\" stroke=\"black\" points=\"442.31,-627 351.23,-627 351.23,-563 442.31,-563 442.31,-627\"/>\n",
       "<text text-anchor=\"middle\" x=\"396.77\" y=\"-611.8\" font-family=\"Times,serif\" font-size=\"14.00\">entropy = 0.0</text>\n",
       "<text text-anchor=\"middle\" x=\"396.77\" y=\"-597.8\" font-family=\"Times,serif\" font-size=\"14.00\">samples = 1</text>\n",
       "<text text-anchor=\"middle\" x=\"396.77\" y=\"-583.8\" font-family=\"Times,serif\" font-size=\"14.00\">value = [1, 0]</text>\n",
       "<text text-anchor=\"middle\" x=\"396.77\" y=\"-569.8\" font-family=\"Times,serif\" font-size=\"14.00\">class = No</text>\n",
       "</g>\n",
       "<!-- 14&#45;&gt;15 -->\n",
       "<g id=\"edge15\" class=\"edge\">\n",
       "<title>14&#45;&gt;15</title>\n",
       "<path fill=\"none\" stroke=\"black\" d=\"M401.38,-669.77C400.73,-659.31 400.01,-647.94 399.35,-637.32\"/>\n",
       "<polygon fill=\"black\" stroke=\"black\" points=\"402.82,-636.77 398.71,-627.01 395.84,-637.21 402.82,-636.77\"/>\n",
       "</g>\n",
       "<!-- 16 -->\n",
       "<g id=\"node17\" class=\"node\">\n",
       "<title>16</title>\n",
       "<polygon fill=\"none\" stroke=\"black\" points=\"565.43,-634 460.11,-634 460.11,-556 565.43,-556 565.43,-634\"/>\n",
       "<text text-anchor=\"middle\" x=\"512.77\" y=\"-618.8\" font-family=\"Times,serif\" font-size=\"14.00\">Music &lt;= 0.5</text>\n",
       "<text text-anchor=\"middle\" x=\"512.77\" y=\"-604.8\" font-family=\"Times,serif\" font-size=\"14.00\">entropy = 0.918</text>\n",
       "<text text-anchor=\"middle\" x=\"512.77\" y=\"-590.8\" font-family=\"Times,serif\" font-size=\"14.00\">samples = 6</text>\n",
       "<text text-anchor=\"middle\" x=\"512.77\" y=\"-576.8\" font-family=\"Times,serif\" font-size=\"14.00\">value = [4, 2]</text>\n",
       "<text text-anchor=\"middle\" x=\"512.77\" y=\"-562.8\" font-family=\"Times,serif\" font-size=\"14.00\">class = No</text>\n",
       "</g>\n",
       "<!-- 14&#45;&gt;16 -->\n",
       "<g id=\"edge16\" class=\"edge\">\n",
       "<title>14&#45;&gt;16</title>\n",
       "<path fill=\"none\" stroke=\"black\" d=\"M440.98,-669.77C449.83,-660.67 459.37,-650.87 468.51,-641.48\"/>\n",
       "<polygon fill=\"black\" stroke=\"black\" points=\"471.26,-643.67 475.73,-634.06 466.25,-638.78 471.26,-643.67\"/>\n",
       "</g>\n",
       "<!-- 17 -->\n",
       "<g id=\"node18\" class=\"node\">\n",
       "<title>17</title>\n",
       "<polygon fill=\"none\" stroke=\"black\" points=\"470.31,-513 379.23,-513 379.23,-449 470.31,-449 470.31,-513\"/>\n",
       "<text text-anchor=\"middle\" x=\"424.77\" y=\"-497.8\" font-family=\"Times,serif\" font-size=\"14.00\">entropy = 0.0</text>\n",
       "<text text-anchor=\"middle\" x=\"424.77\" y=\"-483.8\" font-family=\"Times,serif\" font-size=\"14.00\">samples = 1</text>\n",
       "<text text-anchor=\"middle\" x=\"424.77\" y=\"-469.8\" font-family=\"Times,serif\" font-size=\"14.00\">value = [0, 1]</text>\n",
       "<text text-anchor=\"middle\" x=\"424.77\" y=\"-455.8\" font-family=\"Times,serif\" font-size=\"14.00\">class = Yes</text>\n",
       "</g>\n",
       "<!-- 16&#45;&gt;17 -->\n",
       "<g id=\"edge17\" class=\"edge\">\n",
       "<title>16&#45;&gt;17</title>\n",
       "<path fill=\"none\" stroke=\"black\" d=\"M482.73,-555.77C473.92,-544.55 464.27,-532.27 455.42,-521\"/>\n",
       "<polygon fill=\"black\" stroke=\"black\" points=\"458.06,-518.71 449.13,-513.01 452.56,-523.04 458.06,-518.71\"/>\n",
       "</g>\n",
       "<!-- 18 -->\n",
       "<g id=\"node19\" class=\"node\">\n",
       "<title>18</title>\n",
       "<polygon fill=\"none\" stroke=\"black\" points=\"593.43,-520 488.11,-520 488.11,-442 593.43,-442 593.43,-520\"/>\n",
       "<text text-anchor=\"middle\" x=\"540.77\" y=\"-504.8\" font-family=\"Times,serif\" font-size=\"14.00\">Price &lt;= 1.5</text>\n",
       "<text text-anchor=\"middle\" x=\"540.77\" y=\"-490.8\" font-family=\"Times,serif\" font-size=\"14.00\">entropy = 0.722</text>\n",
       "<text text-anchor=\"middle\" x=\"540.77\" y=\"-476.8\" font-family=\"Times,serif\" font-size=\"14.00\">samples = 5</text>\n",
       "<text text-anchor=\"middle\" x=\"540.77\" y=\"-462.8\" font-family=\"Times,serif\" font-size=\"14.00\">value = [4, 1]</text>\n",
       "<text text-anchor=\"middle\" x=\"540.77\" y=\"-448.8\" font-family=\"Times,serif\" font-size=\"14.00\">class = No</text>\n",
       "</g>\n",
       "<!-- 16&#45;&gt;18 -->\n",
       "<g id=\"edge18\" class=\"edge\">\n",
       "<title>16&#45;&gt;18</title>\n",
       "<path fill=\"none\" stroke=\"black\" d=\"M522.33,-555.77C524.4,-547.48 526.62,-538.61 528.77,-530\"/>\n",
       "<polygon fill=\"black\" stroke=\"black\" points=\"532.22,-530.61 531.25,-520.06 525.43,-528.91 532.22,-530.61\"/>\n",
       "</g>\n",
       "<!-- 19 -->\n",
       "<g id=\"node20\" class=\"node\">\n",
       "<title>19</title>\n",
       "<polygon fill=\"none\" stroke=\"black\" points=\"542.82,-406 436.72,-406 436.72,-328 542.82,-328 542.82,-406\"/>\n",
       "<text text-anchor=\"middle\" x=\"489.77\" y=\"-390.8\" font-family=\"Times,serif\" font-size=\"14.00\">Location &lt;= 2.0</text>\n",
       "<text text-anchor=\"middle\" x=\"489.77\" y=\"-376.8\" font-family=\"Times,serif\" font-size=\"14.00\">entropy = 0.918</text>\n",
       "<text text-anchor=\"middle\" x=\"489.77\" y=\"-362.8\" font-family=\"Times,serif\" font-size=\"14.00\">samples = 3</text>\n",
       "<text text-anchor=\"middle\" x=\"489.77\" y=\"-348.8\" font-family=\"Times,serif\" font-size=\"14.00\">value = [2, 1]</text>\n",
       "<text text-anchor=\"middle\" x=\"489.77\" y=\"-334.8\" font-family=\"Times,serif\" font-size=\"14.00\">class = No</text>\n",
       "</g>\n",
       "<!-- 18&#45;&gt;19 -->\n",
       "<g id=\"edge19\" class=\"edge\">\n",
       "<title>18&#45;&gt;19</title>\n",
       "<path fill=\"none\" stroke=\"black\" d=\"M523.36,-441.77C519.5,-433.3 515.37,-424.22 511.37,-415.44\"/>\n",
       "<polygon fill=\"black\" stroke=\"black\" points=\"514.43,-413.71 507.1,-406.06 508.06,-416.61 514.43,-413.71\"/>\n",
       "</g>\n",
       "<!-- 22 -->\n",
       "<g id=\"node23\" class=\"node\">\n",
       "<title>22</title>\n",
       "<polygon fill=\"none\" stroke=\"black\" points=\"652.31,-399 561.23,-399 561.23,-335 652.31,-335 652.31,-399\"/>\n",
       "<text text-anchor=\"middle\" x=\"606.77\" y=\"-383.8\" font-family=\"Times,serif\" font-size=\"14.00\">entropy = 0.0</text>\n",
       "<text text-anchor=\"middle\" x=\"606.77\" y=\"-369.8\" font-family=\"Times,serif\" font-size=\"14.00\">samples = 2</text>\n",
       "<text text-anchor=\"middle\" x=\"606.77\" y=\"-355.8\" font-family=\"Times,serif\" font-size=\"14.00\">value = [2, 0]</text>\n",
       "<text text-anchor=\"middle\" x=\"606.77\" y=\"-341.8\" font-family=\"Times,serif\" font-size=\"14.00\">class = No</text>\n",
       "</g>\n",
       "<!-- 18&#45;&gt;22 -->\n",
       "<g id=\"edge22\" class=\"edge\">\n",
       "<title>18&#45;&gt;22</title>\n",
       "<path fill=\"none\" stroke=\"black\" d=\"M563.3,-441.77C569.78,-430.77 576.86,-418.75 583.4,-407.66\"/>\n",
       "<polygon fill=\"black\" stroke=\"black\" points=\"586.43,-409.4 588.49,-399.01 580.4,-405.85 586.43,-409.4\"/>\n",
       "</g>\n",
       "<!-- 20 -->\n",
       "<g id=\"node21\" class=\"node\">\n",
       "<title>20</title>\n",
       "<polygon fill=\"none\" stroke=\"black\" points=\"439.31,-285 348.23,-285 348.23,-221 439.31,-221 439.31,-285\"/>\n",
       "<text text-anchor=\"middle\" x=\"393.77\" y=\"-269.8\" font-family=\"Times,serif\" font-size=\"14.00\">entropy = 1.0</text>\n",
       "<text text-anchor=\"middle\" x=\"393.77\" y=\"-255.8\" font-family=\"Times,serif\" font-size=\"14.00\">samples = 2</text>\n",
       "<text text-anchor=\"middle\" x=\"393.77\" y=\"-241.8\" font-family=\"Times,serif\" font-size=\"14.00\">value = [1, 1]</text>\n",
       "<text text-anchor=\"middle\" x=\"393.77\" y=\"-227.8\" font-family=\"Times,serif\" font-size=\"14.00\">class = No</text>\n",
       "</g>\n",
       "<!-- 19&#45;&gt;20 -->\n",
       "<g id=\"edge20\" class=\"edge\">\n",
       "<title>19&#45;&gt;20</title>\n",
       "<path fill=\"none\" stroke=\"black\" d=\"M457,-327.77C447.29,-316.44 436.65,-304.03 426.92,-292.68\"/>\n",
       "<polygon fill=\"black\" stroke=\"black\" points=\"429.51,-290.32 420.35,-285.01 424.2,-294.88 429.51,-290.32\"/>\n",
       "</g>\n",
       "<!-- 21 -->\n",
       "<g id=\"node22\" class=\"node\">\n",
       "<title>21</title>\n",
       "<polygon fill=\"none\" stroke=\"black\" points=\"549.31,-285 458.23,-285 458.23,-221 549.31,-221 549.31,-285\"/>\n",
       "<text text-anchor=\"middle\" x=\"503.77\" y=\"-269.8\" font-family=\"Times,serif\" font-size=\"14.00\">entropy = 0.0</text>\n",
       "<text text-anchor=\"middle\" x=\"503.77\" y=\"-255.8\" font-family=\"Times,serif\" font-size=\"14.00\">samples = 1</text>\n",
       "<text text-anchor=\"middle\" x=\"503.77\" y=\"-241.8\" font-family=\"Times,serif\" font-size=\"14.00\">value = [1, 0]</text>\n",
       "<text text-anchor=\"middle\" x=\"503.77\" y=\"-227.8\" font-family=\"Times,serif\" font-size=\"14.00\">class = No</text>\n",
       "</g>\n",
       "<!-- 19&#45;&gt;21 -->\n",
       "<g id=\"edge21\" class=\"edge\">\n",
       "<title>19&#45;&gt;21</title>\n",
       "<path fill=\"none\" stroke=\"black\" d=\"M494.55,-327.77C495.87,-317.2 497.31,-305.7 498.65,-294.98\"/>\n",
       "<polygon fill=\"black\" stroke=\"black\" points=\"502.12,-295.37 499.89,-285.01 495.18,-294.5 502.12,-295.37\"/>\n",
       "</g>\n",
       "</g>\n",
       "</svg>\n"
      ],
      "text/plain": [
       "<graphviz.files.Source at 0x131f68a60>"
      ]
     },
     "execution_count": 33,
     "metadata": {},
     "output_type": "execute_result"
    }
   ],
   "source": [
    "graphviz.Source(f)"
   ]
  }
 ],
 "metadata": {
  "kernelspec": {
   "display_name": "Python 3",
   "language": "python",
   "name": "python3"
  },
  "language_info": {
   "codemirror_mode": {
    "name": "ipython",
    "version": 3
   },
   "file_extension": ".py",
   "mimetype": "text/x-python",
   "name": "python",
   "nbconvert_exporter": "python",
   "pygments_lexer": "ipython3",
   "version": "3.8.1"
  }
 },
 "nbformat": 4,
 "nbformat_minor": 4
}
