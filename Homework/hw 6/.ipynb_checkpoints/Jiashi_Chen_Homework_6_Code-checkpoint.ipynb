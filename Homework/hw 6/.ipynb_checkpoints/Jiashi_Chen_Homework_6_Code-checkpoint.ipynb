{
 "cells": [
  {
   "cell_type": "markdown",
   "metadata": {},
   "source": [
    "# Programming Assignment 6 [Support Vector Machines]"
   ]
  },
  {
   "cell_type": "markdown",
   "metadata": {},
   "source": [
    "Class: INF552\n",
    "\n",
    "Student: Jiashi Chen\n",
    "\n",
    "USCID: 4684194123"
   ]
  },
  {
   "cell_type": "markdown",
   "metadata": {},
   "source": [
    "## Part 1: Implementation"
   ]
  },
  {
   "cell_type": "markdown",
   "metadata": {},
   "source": [
    "#### Import necessary module"
   ]
  },
  {
   "cell_type": "code",
   "execution_count": 1,
   "metadata": {},
   "outputs": [],
   "source": [
    "import pandas as pd\n",
    "import numpy as np\n",
    "from cvxopt import matrix, solvers\n",
    "import matplotlib.pyplot as plt"
   ]
  },
  {
   "cell_type": "markdown",
   "metadata": {},
   "source": [
    "### Part (a) linear"
   ]
  },
  {
   "cell_type": "markdown",
   "metadata": {},
   "source": [
    "#### Obtain data"
   ]
  },
  {
   "cell_type": "code",
   "execution_count": 2,
   "metadata": {},
   "outputs": [],
   "source": [
    "def obtain_data(filename):\n",
    "    col_names = [\"X1\", \"X2\", \"Label\"]\n",
    "    data = pd.read_csv(filename, names = col_names)\n",
    "    return data"
   ]
  },
  {
   "cell_type": "code",
   "execution_count": 3,
   "metadata": {},
   "outputs": [
    {
     "data": {
      "text/html": [
       "<div>\n",
       "<style scoped>\n",
       "    .dataframe tbody tr th:only-of-type {\n",
       "        vertical-align: middle;\n",
       "    }\n",
       "\n",
       "    .dataframe tbody tr th {\n",
       "        vertical-align: top;\n",
       "    }\n",
       "\n",
       "    .dataframe thead th {\n",
       "        text-align: right;\n",
       "    }\n",
       "</style>\n",
       "<table border=\"1\" class=\"dataframe\">\n",
       "  <thead>\n",
       "    <tr style=\"text-align: right;\">\n",
       "      <th></th>\n",
       "      <th>X1</th>\n",
       "      <th>X2</th>\n",
       "      <th>Label</th>\n",
       "    </tr>\n",
       "  </thead>\n",
       "  <tbody>\n",
       "    <tr>\n",
       "      <th>0</th>\n",
       "      <td>0.841958</td>\n",
       "      <td>0.850168</td>\n",
       "      <td>1</td>\n",
       "    </tr>\n",
       "    <tr>\n",
       "      <th>1</th>\n",
       "      <td>0.233077</td>\n",
       "      <td>0.868845</td>\n",
       "      <td>-1</td>\n",
       "    </tr>\n",
       "    <tr>\n",
       "      <th>2</th>\n",
       "      <td>0.239182</td>\n",
       "      <td>0.815853</td>\n",
       "      <td>-1</td>\n",
       "    </tr>\n",
       "    <tr>\n",
       "      <th>3</th>\n",
       "      <td>0.934774</td>\n",
       "      <td>0.657329</td>\n",
       "      <td>1</td>\n",
       "    </tr>\n",
       "    <tr>\n",
       "      <th>4</th>\n",
       "      <td>0.998767</td>\n",
       "      <td>0.324128</td>\n",
       "      <td>1</td>\n",
       "    </tr>\n",
       "    <tr>\n",
       "      <th>...</th>\n",
       "      <td>...</td>\n",
       "      <td>...</td>\n",
       "      <td>...</td>\n",
       "    </tr>\n",
       "    <tr>\n",
       "      <th>95</th>\n",
       "      <td>0.679815</td>\n",
       "      <td>0.904680</td>\n",
       "      <td>1</td>\n",
       "    </tr>\n",
       "    <tr>\n",
       "      <th>96</th>\n",
       "      <td>0.617873</td>\n",
       "      <td>0.416534</td>\n",
       "      <td>1</td>\n",
       "    </tr>\n",
       "    <tr>\n",
       "      <th>97</th>\n",
       "      <td>0.779193</td>\n",
       "      <td>0.989354</td>\n",
       "      <td>1</td>\n",
       "    </tr>\n",
       "    <tr>\n",
       "      <th>98</th>\n",
       "      <td>0.689667</td>\n",
       "      <td>0.721418</td>\n",
       "      <td>1</td>\n",
       "    </tr>\n",
       "    <tr>\n",
       "      <th>99</th>\n",
       "      <td>0.814814</td>\n",
       "      <td>0.405112</td>\n",
       "      <td>1</td>\n",
       "    </tr>\n",
       "  </tbody>\n",
       "</table>\n",
       "<p>100 rows × 3 columns</p>\n",
       "</div>"
      ],
      "text/plain": [
       "          X1        X2  Label\n",
       "0   0.841958  0.850168      1\n",
       "1   0.233077  0.868845     -1\n",
       "2   0.239182  0.815853     -1\n",
       "3   0.934774  0.657329      1\n",
       "4   0.998767  0.324128      1\n",
       "..       ...       ...    ...\n",
       "95  0.679815  0.904680      1\n",
       "96  0.617873  0.416534      1\n",
       "97  0.779193  0.989354      1\n",
       "98  0.689667  0.721418      1\n",
       "99  0.814814  0.405112      1\n",
       "\n",
       "[100 rows x 3 columns]"
      ]
     },
     "execution_count": 3,
     "metadata": {},
     "output_type": "execute_result"
    }
   ],
   "source": [
    "data_lin = obtain_data(\"linsep.txt\")\n",
    "data_lin"
   ]
  },
  {
   "cell_type": "code",
   "execution_count": 4,
   "metadata": {},
   "outputs": [],
   "source": [
    "def obtain_X_Label(dataset):\n",
    "    X = np.mat(dataset[[\"X1\", \"X2\"]])\n",
    "    Label = np.mat(dataset[\"Label\"])\n",
    "    return X, Label"
   ]
  },
  {
   "cell_type": "code",
   "execution_count": 5,
   "metadata": {},
   "outputs": [],
   "source": [
    "X_lin, Label_lin = obtain_X_Label(data_lin)"
   ]
  },
  {
   "cell_type": "markdown",
   "metadata": {},
   "source": [
    "####  Use Quadratic Programming solver"
   ]
  },
  {
   "cell_type": "markdown",
   "metadata": {},
   "source": [
    "$$\n",
    "Min\\quad\\frac{1}{2}\\times\\alpha^T Q\\alpha + (\\vec{-1})^T\\alpha \\\\\n",
    "s.t., 0 \\leq\\alpha\\leq\\infty \\\\\n",
    "\\quad y^T\\alpha=0 \\\\\n",
    "$$"
   ]
  },
  {
   "cell_type": "code",
   "execution_count": 6,
   "metadata": {},
   "outputs": [],
   "source": [
    "def QPP(X, Label):\n",
    "    N = Label_lin.shape[1]\n",
    "    Q = np.zeros([N, N])\n",
    "    for i in range(N):\n",
    "        for j in range(i, N):\n",
    "            Q[i, j] = Q[j, i] = Label[0, i] * Label[0, j] * (X[i] * X[j].T)[0][0]\n",
    "    P = matrix(Q)\n",
    "    q = matrix((-1) * np.ones(N))  #vector (-1)\n",
    "    G = matrix((-1) * np.diag(np.ones(N)))  #for the inequality\n",
    "    h = matrix(np.zeros(N))    #for the inequality\n",
    "    A = matrix(Label.A, (1, N), \"d\")  #for the equality\n",
    "    b = matrix(0.) #for the equali\n",
    "    return np.array(solvers.qp(P, q, G, h, A, b)['x'])"
   ]
  },
  {
   "cell_type": "markdown",
   "metadata": {},
   "source": [
    "#### Calculate weight"
   ]
  },
  {
   "cell_type": "markdown",
   "metadata": {},
   "source": [
    "$\\vec{w}=\\Sigma\\alpha_ny_n\\vec{w}_n$"
   ]
  },
  {
   "cell_type": "code",
   "execution_count": 7,
   "metadata": {},
   "outputs": [],
   "source": [
    "def obtain_W(support_vectors, X, Label, a):\n",
    "    weight = np.mat(np.zeros(2))\n",
    "    for i in support_vectors:\n",
    "        weight += a[i]*X[i]*Label[0, i]\n",
    "    return weight"
   ]
  },
  {
   "cell_type": "markdown",
   "metadata": {},
   "source": [
    "#### Main function to implement SVM"
   ]
  },
  {
   "cell_type": "code",
   "execution_count": 8,
   "metadata": {},
   "outputs": [],
   "source": [
    "def SVM_lin(X, Label):\n",
    "    a = QPP(X, Label)\n",
    "    support_vectors = np.where(a>0.01)[0]\n",
    "    W = obtain_W(support_vectors, X, Label, a)\n",
    "    b = Label[0, support_vectors[0]] - W * X[support_vectors[0]].T\n",
    "    return W, b,support_vectors"
   ]
  },
  {
   "cell_type": "markdown",
   "metadata": {},
   "source": [
    "#### Fit the model"
   ]
  },
  {
   "cell_type": "code",
   "execution_count": 9,
   "metadata": {},
   "outputs": [
    {
     "name": "stdout",
     "output_type": "stream",
     "text": [
      "     pcost       dcost       gap    pres   dres\n",
      " 0: -2.0636e+01 -4.3905e+01  3e+02  2e+01  2e+00\n",
      " 1: -2.2372e+01 -3.7202e+01  9e+01  5e+00  5e-01\n",
      " 2: -2.3112e+01 -3.8857e+01  5e+01  2e+00  2e-01\n",
      " 3: -2.8318e+01 -3.3963e+01  1e+01  4e-01  4e-02\n",
      " 4: -3.2264e+01 -3.3927e+01  2e+00  1e-02  1e-03\n",
      " 5: -3.3568e+01 -3.3764e+01  2e-01  1e-03  1e-04\n",
      " 6: -3.3737e+01 -3.3739e+01  2e-03  1e-05  1e-06\n",
      " 7: -3.3739e+01 -3.3739e+01  2e-05  1e-07  1e-08\n",
      " 8: -3.3739e+01 -3.3739e+01  2e-07  1e-09  1e-10\n",
      "Optimal solution found.\n",
      "Weight is [[ 7.25005616 -3.86188932]]\n",
      "Interception is [[-0.10698729]]\n",
      "Support Vectors are [27 83 87]\n"
     ]
    }
   ],
   "source": [
    "W, b, SVs = SVM_lin(X_lin, Label_lin)\n",
    "print(\"Weight is\",W)\n",
    "print(\"Interception is\", b)\n",
    "print(\"Support Vectors are\", SVs)"
   ]
  },
  {
   "cell_type": "markdown",
   "metadata": {},
   "source": [
    "#### Plot the result of classification and equation of the line"
   ]
  },
  {
   "cell_type": "code",
   "execution_count": 10,
   "metadata": {},
   "outputs": [
    {
     "data": {
      "image/png": "[encoded data removed]",
      "text/plain": [
       "<Figure size 1152x648 with 1 Axes>"
      ]
     },
     "metadata": {
      "needs_background": "light"
     },
     "output_type": "display_data"
    }
   ],
   "source": [
    "array_X1 = np.array(X_lin[:,0].T)[0]\n",
    "array_X2 = np.array(X_lin[:,1].T)[0]\n",
    "array_Label = np.array(Label_lin)[0]\n",
    "\n",
    "plt.figure(figsize=(16,9))\n",
    "\n",
    "# Plot the line\n",
    "linear_line_x1_min = min(array_X1)\n",
    "linear_line_x1_max = max(array_X1)\n",
    "linear_line_x2_correspond_min = (-1) * (W[0,0] * linear_line_x1_min + b[0, 0])/W[0,1]\n",
    "linear_line_x2_correspond_max = (-1) * (W[0,0] * linear_line_x1_max + b[0, 0])/W[0,1]\n",
    "plt.plot([linear_line_x1_min,linear_line_x1_max], [linear_line_x2_correspond_min,linear_line_x2_correspond_max])\n",
    "\n",
    "#Plot all of the point\n",
    "plt.scatter(array_X1, array_X2, c = array_Label, cmap = \"coolwarm\", s = 120)\n",
    "\n",
    "#Plot the SVs\n",
    "SVs_X1 = array_X1[SVs]\n",
    "SVs_X2 = array_X2[SVs]\n",
    "plt.scatter(SVs_X1, SVs_X2, facecolors='none', edgecolors='black', linewidths=3, s = 120)\n",
    "\n",
    "plt.xlabel(\"X1\")\n",
    "plt.ylabel(\"X2\")\n",
    "plt.title(\"SVM result\", fontsize = 20)\n",
    "\n",
    "plt.show()"
   ]
  },
  {
   "cell_type": "markdown",
   "metadata": {},
   "source": [
    "### Part (b) nonlinear"
   ]
  },
  {
   "cell_type": "markdown",
   "metadata": {},
   "source": [
    "#### Obtain data"
   ]
  },
  {
   "cell_type": "code",
   "execution_count": 11,
   "metadata": {},
   "outputs": [
    {
     "data": {
      "text/html": [
       "<div>\n",
       "<style scoped>\n",
       "    .dataframe tbody tr th:only-of-type {\n",
       "        vertical-align: middle;\n",
       "    }\n",
       "\n",
       "    .dataframe tbody tr th {\n",
       "        vertical-align: top;\n",
       "    }\n",
       "\n",
       "    .dataframe thead th {\n",
       "        text-align: right;\n",
       "    }\n",
       "</style>\n",
       "<table border=\"1\" class=\"dataframe\">\n",
       "  <thead>\n",
       "    <tr style=\"text-align: right;\">\n",
       "      <th></th>\n",
       "      <th>X1</th>\n",
       "      <th>X2</th>\n",
       "      <th>Label</th>\n",
       "    </tr>\n",
       "  </thead>\n",
       "  <tbody>\n",
       "    <tr>\n",
       "      <th>0</th>\n",
       "      <td>13.147033</td>\n",
       "      <td>-19.811823</td>\n",
       "      <td>1</td>\n",
       "    </tr>\n",
       "    <tr>\n",
       "      <th>1</th>\n",
       "      <td>10.245927</td>\n",
       "      <td>7.953735</td>\n",
       "      <td>1</td>\n",
       "    </tr>\n",
       "    <tr>\n",
       "      <th>2</th>\n",
       "      <td>-20.567695</td>\n",
       "      <td>8.684645</td>\n",
       "      <td>1</td>\n",
       "    </tr>\n",
       "    <tr>\n",
       "      <th>3</th>\n",
       "      <td>-13.584656</td>\n",
       "      <td>21.940365</td>\n",
       "      <td>1</td>\n",
       "    </tr>\n",
       "    <tr>\n",
       "      <th>4</th>\n",
       "      <td>-14.231219</td>\n",
       "      <td>8.576612</td>\n",
       "      <td>1</td>\n",
       "    </tr>\n",
       "    <tr>\n",
       "      <th>...</th>\n",
       "      <td>...</td>\n",
       "      <td>...</td>\n",
       "      <td>...</td>\n",
       "    </tr>\n",
       "    <tr>\n",
       "      <th>95</th>\n",
       "      <td>9.901435</td>\n",
       "      <td>-0.314831</td>\n",
       "      <td>-1</td>\n",
       "    </tr>\n",
       "    <tr>\n",
       "      <th>96</th>\n",
       "      <td>-4.983494</td>\n",
       "      <td>8.318166</td>\n",
       "      <td>-1</td>\n",
       "    </tr>\n",
       "    <tr>\n",
       "      <th>97</th>\n",
       "      <td>-5.060830</td>\n",
       "      <td>6.041874</td>\n",
       "      <td>-1</td>\n",
       "    </tr>\n",
       "    <tr>\n",
       "      <th>98</th>\n",
       "      <td>1.924059</td>\n",
       "      <td>-6.335260</td>\n",
       "      <td>-1</td>\n",
       "    </tr>\n",
       "    <tr>\n",
       "      <th>99</th>\n",
       "      <td>4.272900</td>\n",
       "      <td>8.670794</td>\n",
       "      <td>-1</td>\n",
       "    </tr>\n",
       "  </tbody>\n",
       "</table>\n",
       "<p>100 rows × 3 columns</p>\n",
       "</div>"
      ],
      "text/plain": [
       "           X1         X2  Label\n",
       "0   13.147033 -19.811823      1\n",
       "1   10.245927   7.953735      1\n",
       "2  -20.567695   8.684645      1\n",
       "3  -13.584656  21.940365      1\n",
       "4  -14.231219   8.576612      1\n",
       "..        ...        ...    ...\n",
       "95   9.901435  -0.314831     -1\n",
       "96  -4.983494   8.318166     -1\n",
       "97  -5.060830   6.041874     -1\n",
       "98   1.924059  -6.335260     -1\n",
       "99   4.272900   8.670794     -1\n",
       "\n",
       "[100 rows x 3 columns]"
      ]
     },
     "execution_count": 11,
     "metadata": {},
     "output_type": "execute_result"
    }
   ],
   "source": [
    "data_nonlin = obtain_data(\"nonlinsep.txt\")\n",
    "data_nonlin"
   ]
  },
  {
   "cell_type": "code",
   "execution_count": 12,
   "metadata": {},
   "outputs": [],
   "source": [
    "X_nonlin, Label_nonlin = obtain_X_Label(data_nonlin)"
   ]
  },
  {
   "cell_type": "markdown",
   "metadata": {},
   "source": [
    "#### Design kernel function"
   ]
  },
  {
   "cell_type": "markdown",
   "metadata": {},
   "source": [
    "$$ \n",
    "Kernel Function:\n",
    "k(x_1, x_2)=(<x_1,x_2>+1)^2$$"
   ]
  },
  {
   "cell_type": "code",
   "execution_count": 13,
   "metadata": {},
   "outputs": [],
   "source": [
    "def kernel(x1, x2):\n",
    "    return (1 + x1 * x2.T)**2"
   ]
  },
  {
   "cell_type": "code",
   "execution_count": 14,
   "metadata": {},
   "outputs": [],
   "source": [
    "def transition(xi):\n",
    "    x1 = xi[0,0]\n",
    "    x2 = xi[0,1]\n",
    "    return np.mat([1, x1**2, x2**2, np.sqrt(2)*x1, np.sqrt(2)*x2,  np.sqrt(2)*x1*x2])"
   ]
  },
  {
   "cell_type": "markdown",
   "metadata": {},
   "source": [
    "#### Use Quadratic Programming solver with kernel"
   ]
  },
  {
   "cell_type": "code",
   "execution_count": 15,
   "metadata": {},
   "outputs": [],
   "source": [
    "def QPP_kernel(X, Label):\n",
    "    N = Label_lin.shape[1]\n",
    "    Q = np.zeros([N, N])\n",
    "    for i in range(N):\n",
    "        for j in range(i, N):\n",
    "            Q[i, j] = Q[j, i] = Label[0, i] * Label[0, j] * kernel(X[i], X[j])[0][0]\n",
    "    P = matrix(Q)\n",
    "    q = matrix((-1) * np.ones(N))  #vector (-1)\n",
    "    G = matrix((-1) * np.diag(np.ones(N)))  #for the inequality\n",
    "    h = matrix(np.zeros(N))    #for the inequality\n",
    "    A = matrix(Label.A, (1, N), \"d\")  #for the equality\n",
    "    b = matrix(0.) #for the equali\n",
    "    return np.array(solvers.qp(P, q, G, h, A, b)['x'])"
   ]
  },
  {
   "cell_type": "markdown",
   "metadata": {},
   "source": [
    "#### Calculate weigh"
   ]
  },
  {
   "cell_type": "code",
   "execution_count": 16,
   "metadata": {},
   "outputs": [],
   "source": [
    "def obtain_W_kernel(support_vectors, X, Label, a):\n",
    "    weight = np.mat(np.zeros(transition(X[0]).shape[1]))\n",
    "    for i in support_vectors:\n",
    "        weight += a[i]*transition(X[i])*Label[0, i]\n",
    "    return weight"
   ]
  },
  {
   "cell_type": "markdown",
   "metadata": {},
   "source": [
    "#### Main function to implement SVM with kernel"
   ]
  },
  {
   "cell_type": "code",
   "execution_count": 17,
   "metadata": {},
   "outputs": [],
   "source": [
    "def SVM_kernel(X, Label):\n",
    "    a = QPP_kernel(X, Label)\n",
    "    support_vectors = np.where(a>0.001)[0]\n",
    "    W = obtain_W_kernel(support_vectors, X, Label, a)\n",
    "    b = Label[0, support_vectors[0]] - W * transition(X[support_vectors[0]]).T\n",
    "    return W, b, support_vectors"
   ]
  },
  {
   "cell_type": "code",
   "execution_count": 18,
   "metadata": {},
   "outputs": [
    {
     "name": "stdout",
     "output_type": "stream",
     "text": [
      "     pcost       dcost       gap    pres   dres\n",
      " 0: -4.0666e+01 -1.0206e+02  5e+02  2e+01  3e+00\n",
      " 1: -1.5924e+02 -2.2789e+02  3e+02  1e+01  1e+00\n",
      " 2: -2.9280e+02 -3.6244e+02  3e+02  1e+01  1e+00\n",
      " 3: -5.7710e+02 -6.0303e+02  4e+02  9e+00  1e+00\n",
      " 4: -1.2873e+03 -1.2409e+03  5e+02  9e+00  1e+00\n",
      " 5: -1.2647e+03 -1.0924e+03  7e+02  8e+00  9e-01\n",
      " 6: -6.9076e+02 -4.0802e+02  1e+03  5e+00  6e-01\n",
      " 7: -1.8688e+02 -2.9779e+01  4e+02  1e+00  2e-01\n",
      " 8: -3.4731e+00 -5.2038e-02  1e+01  3e-02  4e-03\n",
      " 9: -3.5053e-02 -3.8447e-02  1e-01  3e-04  3e-05\n",
      "10: -2.1413e-02 -2.7448e-02  6e-03  1e-17  2e-13\n",
      "11: -2.6166e-02 -2.6328e-02  2e-04  4e-18  1e-13\n",
      "12: -2.6293e-02 -2.6295e-02  2e-06  3e-18  1e-13\n",
      "13: -2.6295e-02 -2.6295e-02  2e-08  5e-18  2e-13\n",
      "Optimal solution found.\n",
      "Weight is [[ 8.64344220e-10  1.60702131e-01  1.58698040e-01 -9.47655776e-03\n",
      "  -3.85759106e-02 -1.10224094e-03]]\n",
      "Interception is [[-16.66005249]]\n",
      "Support Vectors are [ 5 36 51 55 94 95]\n"
     ]
    }
   ],
   "source": [
    "W, b, SVs = SVM_kernel(X_nonlin, Label_nonlin)\n",
    "print(\"Weight is\",W)\n",
    "print(\"Interception is\", b)\n",
    "print(\"Support Vectors are\", SVs)"
   ]
  },
  {
   "cell_type": "markdown",
   "metadata": {},
   "source": [
    "#### Plot the result of classification and equation of the line"
   ]
  },
  {
   "cell_type": "code",
   "execution_count": 19,
   "metadata": {},
   "outputs": [
    {
     "data": {
      "image/png": "[encoded data removed]",
      "text/plain": [
       "<Figure size 1152x648 with 1 Axes>"
      ]
     },
     "metadata": {
      "needs_background": "light"
     },
     "output_type": "display_data"
    }
   ],
   "source": [
    "array_X1 = np.array(X_nonlin[:,0].T)[0]\n",
    "array_X2 = np.array(X_nonlin[:,1].T)[0]\n",
    "array_Label = np.array(Label_nonlin)[0]\n",
    "\n",
    "plt.figure(figsize=(16,9))\n",
    "\n",
    "#Plot all of the point\n",
    "plt.scatter(array_X1, array_X2, c = array_Label, cmap = \"coolwarm\", s = 120)\n",
    "\n",
    "#Plot the SVs\n",
    "SVs_X1 = array_X1[SVs]\n",
    "SVs_X2 = array_X2[SVs]\n",
    "plt.scatter(SVs_X1, SVs_X2, facecolors='none', edgecolors='black', linewidths=3, s = 120)\n",
    "\n",
    "plt.xlabel(\"X1\")\n",
    "plt.ylabel(\"X2\")\n",
    "plt.title(\"SVM_Kernel result\", fontsize = 20)\n",
    "\n",
    "plt.show()"
   ]
  },
  {
   "cell_type": "markdown",
   "metadata": {},
   "source": [
    "## Part 2: Software Familiarization"
   ]
  },
  {
   "cell_type": "markdown",
   "metadata": {},
   "source": [
    "#### Import necessary module"
   ]
  },
  {
   "cell_type": "code",
   "execution_count": 20,
   "metadata": {},
   "outputs": [],
   "source": [
    "from sklearn.svm import SVC"
   ]
  },
  {
   "cell_type": "markdown",
   "metadata": {},
   "source": [
    "#### Linear Situation"
   ]
  },
  {
   "cell_type": "code",
   "execution_count": 21,
   "metadata": {},
   "outputs": [
    {
     "data": {
      "text/plain": [
       "SVC(C=1.0, break_ties=False, cache_size=200, class_weight=None, coef0=0.0,\n",
       "    decision_function_shape='ovr', degree=3, gamma='scale', kernel='linear',\n",
       "    max_iter=-1, probability=False, random_state=None, shrinking=True,\n",
       "    tol=0.001, verbose=False)"
      ]
     },
     "execution_count": 21,
     "metadata": {},
     "output_type": "execute_result"
    }
   ],
   "source": [
    "clf_linear = SVC(kernel=\"linear\")\n",
    "clf_linear.fit(X_lin, np.array(Label_lin)[0])"
   ]
  },
  {
   "cell_type": "code",
   "execution_count": 22,
   "metadata": {},
   "outputs": [
    {
     "name": "stdout",
     "output_type": "stream",
     "text": [
      "Weight is [ 3.59965788 -2.03198838]\n",
      "Intercept is [0.21848298]\n"
     ]
    }
   ],
   "source": [
    "print(\"Weight is\", clf_linear.coef_[0])\n",
    "print(\"Intercept is\", clf_linear.intercept_)"
   ]
  },
  {
   "cell_type": "markdown",
   "metadata": {},
   "source": [
    "#### No-linear Situation"
   ]
  },
  {
   "cell_type": "code",
   "execution_count": 23,
   "metadata": {},
   "outputs": [
    {
     "data": {
      "text/plain": [
       "SVC(C=1.0, break_ties=False, cache_size=200, class_weight=None, coef0=0.0,\n",
       "    decision_function_shape='ovr', degree=2, gamma='scale', kernel='poly',\n",
       "    max_iter=-1, probability=False, random_state=None, shrinking=True,\n",
       "    tol=0.001, verbose=False)"
      ]
     },
     "execution_count": 23,
     "metadata": {},
     "output_type": "execute_result"
    }
   ],
   "source": [
    "clf_nonlinear = SVC(kernel='poly', degree = 2)\n",
    "clf_nonlinear.fit(X_nonlin, np.array(Label_nonlin)[0])"
   ]
  },
  {
   "cell_type": "code",
   "execution_count": 24,
   "metadata": {},
   "outputs": [
    {
     "name": "stdout",
     "output_type": "stream",
     "text": [
      "Weight is [[-1.         -1.         -1.         -0.82999867 -1.         -1.\n",
      "  -1.         -1.         -1.         -1.         -1.         -1.\n",
      "  -1.         -1.          1.          1.          1.          1.\n",
      "   1.          1.          1.          1.          1.          1.\n",
      "   1.          0.82999867  1.          1.        ]]\n",
      "Intercept is [-1.70566938]\n"
     ]
    }
   ],
   "source": [
    "print(\"Weight is\", clf_nonlinear.dual_coef_)\n",
    "print(\"Intercept is\", clf_nonlinear.intercept_)"
   ]
  },
  {
   "cell_type": "code",
   "execution_count": null,
   "metadata": {},
   "outputs": [],
   "source": []
  }
 ],
 "metadata": {
  "kernelspec": {
   "display_name": "Python 3",
   "language": "python",
   "name": "python3"
  },
  "language_info": {
   "codemirror_mode": {
    "name": "ipython",
    "version": 3
   },
   "file_extension": ".py",
   "mimetype": "text/x-python",
   "name": "python",
   "nbconvert_exporter": "python",
   "pygments_lexer": "ipython3",
   "version": "3.8.1"
  }
 },
 "nbformat": 4,
 "nbformat_minor": 4
}
