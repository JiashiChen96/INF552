{
 "cells": [
  {
   "cell_type": "markdown",
   "metadata": {},
   "source": [
    "# Part 1: Implementation"
   ]
  },
  {
   "cell_type": "markdown",
   "metadata": {},
   "source": [
    "## PCA"
   ]
  },
  {
   "cell_type": "markdown",
   "metadata": {},
   "source": [
    "### import module"
   ]
  },
  {
   "cell_type": "code",
   "execution_count": 46,
   "metadata": {},
   "outputs": [],
   "source": [
    "import pandas as pd\n",
    "import numpy as np\n",
    "import random\n",
    "import matplotlib.pyplot as plt"
   ]
  },
  {
   "cell_type": "markdown",
   "metadata": {},
   "source": [
    "### Obtain data"
   ]
  },
  {
   "cell_type": "code",
   "execution_count": 2,
   "metadata": {},
   "outputs": [],
   "source": [
    "data = pd.read_csv(\"pca-data.txt\", header = None, sep=\"\\t\")"
   ]
  },
  {
   "cell_type": "code",
   "execution_count": 3,
   "metadata": {},
   "outputs": [
    {
     "data": {
      "text/html": [
       "<div>\n",
       "<style scoped>\n",
       "    .dataframe tbody tr th:only-of-type {\n",
       "        vertical-align: middle;\n",
       "    }\n",
       "\n",
       "    .dataframe tbody tr th {\n",
       "        vertical-align: top;\n",
       "    }\n",
       "\n",
       "    .dataframe thead th {\n",
       "        text-align: right;\n",
       "    }\n",
       "</style>\n",
       "<table border=\"1\" class=\"dataframe\">\n",
       "  <thead>\n",
       "    <tr style=\"text-align: right;\">\n",
       "      <th></th>\n",
       "      <th>0</th>\n",
       "      <th>1</th>\n",
       "      <th>2</th>\n",
       "    </tr>\n",
       "  </thead>\n",
       "  <tbody>\n",
       "    <tr>\n",
       "      <th>0</th>\n",
       "      <td>5.906263</td>\n",
       "      <td>-7.729465</td>\n",
       "      <td>9.144945</td>\n",
       "    </tr>\n",
       "    <tr>\n",
       "      <th>1</th>\n",
       "      <td>-8.640323</td>\n",
       "      <td>1.724260</td>\n",
       "      <td>-10.696805</td>\n",
       "    </tr>\n",
       "    <tr>\n",
       "      <th>2</th>\n",
       "      <td>0.258541</td>\n",
       "      <td>0.230622</td>\n",
       "      <td>0.767439</td>\n",
       "    </tr>\n",
       "    <tr>\n",
       "      <th>3</th>\n",
       "      <td>-5.234354</td>\n",
       "      <td>3.194685</td>\n",
       "      <td>-1.894385</td>\n",
       "    </tr>\n",
       "    <tr>\n",
       "      <th>4</th>\n",
       "      <td>12.622863</td>\n",
       "      <td>-3.507888</td>\n",
       "      <td>4.086258</td>\n",
       "    </tr>\n",
       "  </tbody>\n",
       "</table>\n",
       "</div>"
      ],
      "text/plain": [
       "           0         1          2\n",
       "0   5.906263 -7.729465   9.144945\n",
       "1  -8.640323  1.724260 -10.696805\n",
       "2   0.258541  0.230622   0.767439\n",
       "3  -5.234354  3.194685  -1.894385\n",
       "4  12.622863 -3.507888   4.086258"
      ]
     },
     "execution_count": 3,
     "metadata": {},
     "output_type": "execute_result"
    }
   ],
   "source": [
    "data.head()"
   ]
  },
  {
   "cell_type": "markdown",
   "metadata": {},
   "source": [
    "### Calculate the mean of each attribute"
   ]
  },
  {
   "cell_type": "code",
   "execution_count": 4,
   "metadata": {},
   "outputs": [
    {
     "data": {
      "text/plain": [
       "0    0.046416\n",
       "1   -0.035627\n",
       "2    0.063343\n",
       "dtype: float64"
      ]
     },
     "execution_count": 4,
     "metadata": {},
     "output_type": "execute_result"
    }
   ],
   "source": [
    "mu = np.mean(data, axis = 0)\n",
    "mu"
   ]
  },
  {
   "cell_type": "code",
   "execution_count": 5,
   "metadata": {},
   "outputs": [],
   "source": [
    "for i in range(data.shape[0]):\n",
    "    data.iloc[i, :] -= mu"
   ]
  },
  {
   "cell_type": "code",
   "execution_count": 6,
   "metadata": {},
   "outputs": [
    {
     "data": {
      "text/plain": [
       "matrix([[  5.85984677,  -7.69383808,   9.08160172],\n",
       "        [ -8.68673919,   1.75988694, -10.76014834],\n",
       "        [  0.21212453,   0.26624874,   0.70409601],\n",
       "        ...,\n",
       "        [ -3.737844  ,  -0.4387115 ,   0.48685742],\n",
       "        [  7.59189921,  -4.44020641,   8.09057975],\n",
       "        [  9.67566148,  -8.46572792,   8.77906364]])"
      ]
     },
     "execution_count": 6,
     "metadata": {},
     "output_type": "execute_result"
    }
   ],
   "source": [
    "data = np.mat(data)\n",
    "data"
   ]
  },
  {
   "cell_type": "code",
   "execution_count": 7,
   "metadata": {},
   "outputs": [
    {
     "data": {
      "text/plain": [
       "matrix([[ 81.22845778, -15.83817402,  31.66312677],\n",
       "        [-15.83817402,  13.69953054, -15.26190629],\n",
       "        [ 31.66312677, -15.26190629,  31.36154358]])"
      ]
     },
     "execution_count": 7,
     "metadata": {},
     "output_type": "execute_result"
    }
   ],
   "source": [
    "Sigma = (data.T * data)/data.shape[0]\n",
    "Sigma"
   ]
  },
  {
   "cell_type": "code",
   "execution_count": 8,
   "metadata": {},
   "outputs": [
    {
     "data": {
      "text/plain": [
       "(array([101.60286375,  19.89589866,   4.79076949]),\n",
       " matrix([[ 0.86667137, -0.4962773 , -0.0508879 ],\n",
       "         [-0.23276482, -0.4924792 ,  0.83862076],\n",
       "         [ 0.44124968,  0.71496368,  0.54233352]]))"
      ]
     },
     "execution_count": 8,
     "metadata": {},
     "output_type": "execute_result"
    }
   ],
   "source": [
    "eigenvale, eigenvetor = np.linalg.eig(Sigma)\n",
    "eigenvale, eigenvetor"
   ]
  },
  {
   "cell_type": "code",
   "execution_count": 9,
   "metadata": {},
   "outputs": [],
   "source": [
    "newData = list()\n",
    "for i in range(data.shape[0]):\n",
    "    newData.append((eigenvetor[:, :2].T * data[i].T).T.tolist()[0])"
   ]
  },
  {
   "cell_type": "code",
   "execution_count": 10,
   "metadata": {},
   "outputs": [
    {
     "data": {
      "text/plain": [
       "[[10.876670088473485, 7.373961725406449],\n",
       " [-12.686099923349113, -4.248791513451973],\n",
       " [0.43255105670676064, 0.26700851768589956],\n",
       " [-6.192441742914561, -0.3698393847269761],\n",
       " [13.482976696234925, -1.655150407611496],\n",
       " [-0.09484157859795038, -1.909424282377106]]"
      ]
     },
     "execution_count": 10,
     "metadata": {},
     "output_type": "execute_result"
    }
   ],
   "source": [
    "newData[:6]"
   ]
  },
  {
   "cell_type": "markdown",
   "metadata": {},
   "source": [
    "## Fastmap"
   ]
  },
  {
   "cell_type": "markdown",
   "metadata": {},
   "source": [
    "### Obtain data"
   ]
  },
  {
   "cell_type": "code",
   "execution_count": 11,
   "metadata": {},
   "outputs": [],
   "source": [
    "data = pd.read_csv(\"fastmap-data.txt\", header = None, sep=\"\\t\")"
   ]
  },
  {
   "cell_type": "code",
   "execution_count": 12,
   "metadata": {},
   "outputs": [
    {
     "data": {
      "text/html": [
       "<div>\n",
       "<style scoped>\n",
       "    .dataframe tbody tr th:only-of-type {\n",
       "        vertical-align: middle;\n",
       "    }\n",
       "\n",
       "    .dataframe tbody tr th {\n",
       "        vertical-align: top;\n",
       "    }\n",
       "\n",
       "    .dataframe thead th {\n",
       "        text-align: right;\n",
       "    }\n",
       "</style>\n",
       "<table border=\"1\" class=\"dataframe\">\n",
       "  <thead>\n",
       "    <tr style=\"text-align: right;\">\n",
       "      <th></th>\n",
       "      <th>0</th>\n",
       "      <th>1</th>\n",
       "      <th>2</th>\n",
       "    </tr>\n",
       "  </thead>\n",
       "  <tbody>\n",
       "    <tr>\n",
       "      <th>0</th>\n",
       "      <td>1</td>\n",
       "      <td>2</td>\n",
       "      <td>4</td>\n",
       "    </tr>\n",
       "    <tr>\n",
       "      <th>1</th>\n",
       "      <td>1</td>\n",
       "      <td>3</td>\n",
       "      <td>7</td>\n",
       "    </tr>\n",
       "    <tr>\n",
       "      <th>2</th>\n",
       "      <td>1</td>\n",
       "      <td>4</td>\n",
       "      <td>6</td>\n",
       "    </tr>\n",
       "    <tr>\n",
       "      <th>3</th>\n",
       "      <td>1</td>\n",
       "      <td>5</td>\n",
       "      <td>7</td>\n",
       "    </tr>\n",
       "    <tr>\n",
       "      <th>4</th>\n",
       "      <td>1</td>\n",
       "      <td>6</td>\n",
       "      <td>7</td>\n",
       "    </tr>\n",
       "  </tbody>\n",
       "</table>\n",
       "</div>"
      ],
      "text/plain": [
       "   0  1  2\n",
       "0  1  2  4\n",
       "1  1  3  7\n",
       "2  1  4  6\n",
       "3  1  5  7\n",
       "4  1  6  7"
      ]
     },
     "execution_count": 12,
     "metadata": {},
     "output_type": "execute_result"
    }
   ],
   "source": [
    "data.head()"
   ]
  },
  {
   "cell_type": "markdown",
   "metadata": {},
   "source": [
    "### Obtain original distance"
   ]
  },
  {
   "cell_type": "code",
   "execution_count": 15,
   "metadata": {},
   "outputs": [],
   "source": [
    "def get_original_distance(data):\n",
    "    original_distance = np.zeros((10, 10))\n",
    "    for index, row in data.iterrows():\n",
    "        point_a = row[0]\n",
    "        point_b = row[1]\n",
    "\n",
    "        original_distance[point_a - 1][point_b - 1] = original_distance[point_b - 1][point_a - 1] = row[2]\n",
    "    \n",
    "    return original_distance"
   ]
  },
  {
   "cell_type": "markdown",
   "metadata": {},
   "source": [
    "### Identify farthest pair $O_{a}$, $O_{b}$"
   ]
  },
  {
   "cell_type": "code",
   "execution_count": 23,
   "metadata": {},
   "outputs": [],
   "source": [
    "def get_single_distance(distance, coordinate, k, point_i, point_j):\n",
    "    \n",
    "    if k == 1:\n",
    "        return distance[point_i][point_j]\n",
    "    \n",
    "    n = 1\n",
    "    new_single_distance = pow(distance[point_i][point_j], 2)\n",
    "\n",
    "    while(n < k):\n",
    "        new_single_distance -= pow(coordinate[n - 1][point_i] - coordinate[n - 1][point_j], 2)\n",
    "        n += 1\n",
    "    \n",
    "    return np.sqrt(new_single_distance)"
   ]
  },
  {
   "cell_type": "code",
   "execution_count": 24,
   "metadata": {},
   "outputs": [],
   "source": [
    "def farthest_pair(distance, coordinate, k):\n",
    "    point_a = random.randint(0, 9)\n",
    "    farthest_distance = -1\n",
    "    farthest_point = -1\n",
    "    temp_point = -1\n",
    "    \n",
    "    while True:\n",
    "        for i in range(10):\n",
    "            new_single_distance = get_single_distance(distance, coordinate, k, point_a, i)\n",
    "            if new_single_distance > farthest_distance:\n",
    "                farthest_point = i\n",
    "                farthest_distance = new_single_distance\n",
    "        if farthest_point == temp_point:\n",
    "            break\n",
    "        temp_point = point_a\n",
    "        point_a = farthest_point\n",
    "        farthest_distance = -1\n",
    "        farthest_point = -1\n",
    "    \n",
    "    return [point_a, farthest_point] if point_a < farthest_point else [farthest_point, point_a]"
   ]
  },
  {
   "cell_type": "markdown",
   "metadata": {},
   "source": [
    "### Calculate the coordinate"
   ]
  },
  {
   "cell_type": "code",
   "execution_count": 35,
   "metadata": {},
   "outputs": [],
   "source": [
    "def get_coordinate(distance, coordinate, k, point_a, point_b):\n",
    "    new_coordinate = list()\n",
    "    \n",
    "    for i in range(10):\n",
    "        distance_a_i = get_single_distance(distance, coordinate, k, point_a, i)\n",
    "        distance_a_b = get_single_distance(distance, coordinate, k, point_a, point_b)\n",
    "        distance_b_i = get_single_distance(distance, coordinate, k, point_b, i)\n",
    "        \n",
    "        new_coordinate.append((pow(distance_a_i, 2) +\n",
    "                        pow(distance_a_b,2) - \n",
    "                        pow(distance_b_i, 2))/(2 * distance_a_b))\n",
    "    \n",
    "    coordinate.append(new_coordinate)\n",
    "    \n",
    "    return coordinate"
   ]
  },
  {
   "cell_type": "markdown",
   "metadata": {},
   "source": [
    "### Implement fastmap"
   ]
  },
  {
   "cell_type": "code",
   "execution_count": 41,
   "metadata": {},
   "outputs": [],
   "source": [
    "def fastmap(dimension):\n",
    "    \n",
    "    k = 1\n",
    "    original_distance = get_original_distance(data)\n",
    "    coordinate = list()\n",
    "    \n",
    "    while k <= dimension:\n",
    "        [point_a, point_b] = farthest_pair(original_distance, coordinate, k)\n",
    "        coordinate = get_coordinate(original_distance, coordinate, k, point_a, point_b)\n",
    "        k += 1\n",
    "    \n",
    "    return coordinate"
   ]
  },
  {
   "cell_type": "code",
   "execution_count": 45,
   "metadata": {},
   "outputs": [
    {
     "data": {
      "text/plain": [
       "[[3.875,\n",
       "  3.0,\n",
       "  0.0,\n",
       "  1.0416666666666667,\n",
       "  2.4583333333333335,\n",
       "  9.5,\n",
       "  2.4583333333333335,\n",
       "  1.5,\n",
       "  2.4583333333333335,\n",
       "  12.0],\n",
       " [6.0625,\n",
       "  7.749999999999999,\n",
       "  4.0,\n",
       "  1.1875,\n",
       "  0.0,\n",
       "  5.1875,\n",
       "  8.0,\n",
       "  1.5624999999999996,\n",
       "  1.0,\n",
       "  4.0]]"
      ]
     },
     "execution_count": 45,
     "metadata": {},
     "output_type": "execute_result"
    }
   ],
   "source": [
    "coordinate = fastmap(2)\n",
    "coordinate"
   ]
  },
  {
   "cell_type": "markdown",
   "metadata": {},
   "source": [
    "### Plot the words on a 2D plane"
   ]
  },
  {
   "cell_type": "code",
   "execution_count": 68,
   "metadata": {},
   "outputs": [],
   "source": [
    "label = pd.read_csv(\"fastmap-wordlist.txt\", header = None)[0]"
   ]
  },
  {
   "cell_type": "code",
   "execution_count": 71,
   "metadata": {},
   "outputs": [],
   "source": [
    "def plot_fastmap_result(coordinate, label):\n",
    "    \n",
    "    fig,ax=plt.subplots()\n",
    "    coordinate1 = coordinate[0]\n",
    "    coordinate2 = coordinate[1]\n",
    "    ax.scatter(coordinate1, coordinate2)\n",
    "\n",
    "\n",
    "    for i,txt in enumerate(label):\n",
    "        ax.annotate(txt,(coordinate1[i],coordinate2[i]))"
   ]
  },
  {
   "cell_type": "code",
   "execution_count": 72,
   "metadata": {},
   "outputs": [
    {
     "data": {
      "image/png": "[encoded data removed]",
      "text/plain": [
       "<Figure size 432x288 with 1 Axes>"
      ]
     },
     "metadata": {
      "needs_background": "light"
     },
     "output_type": "display_data"
    }
   ],
   "source": [
    "plot_fastmap_result(coordinate, label)"
   ]
  },
  {
   "cell_type": "markdown",
   "metadata": {},
   "source": [
    "# Part 2: Software Familiarization"
   ]
  },
  {
   "cell_type": "markdown",
   "metadata": {},
   "source": [
    "## PCA"
   ]
  },
  {
   "cell_type": "code",
   "execution_count": 73,
   "metadata": {},
   "outputs": [],
   "source": [
    "from sklearn.decomposition import PCA "
   ]
  },
  {
   "cell_type": "code",
   "execution_count": 74,
   "metadata": {},
   "outputs": [],
   "source": [
    "data = pd.read_csv(\"pca-data.txt\", header = None, sep=\"\\t\")"
   ]
  },
  {
   "cell_type": "code",
   "execution_count": 77,
   "metadata": {},
   "outputs": [
    {
     "data": {
      "text/plain": [
       "array([[-10.87667009,   7.37396173],\n",
       "       [ 12.68609992,  -4.24879151],\n",
       "       [ -0.43255106,   0.26700852],\n",
       "       ...,\n",
       "       [  2.92254009,   2.41914881],\n",
       "       [-11.18317124,   4.20349275],\n",
       "       [-14.2299014 ,   5.64409544]])"
      ]
     },
     "execution_count": 77,
     "metadata": {},
     "output_type": "execute_result"
    }
   ],
   "source": [
    "pca=PCA(n_components=2)\n",
    "newData=pca.fit_transform(data)\n",
    "newData"
   ]
  },
  {
   "cell_type": "code",
   "execution_count": null,
   "metadata": {},
   "outputs": [],
   "source": []
  },
  {
   "cell_type": "code",
   "execution_count": null,
   "metadata": {},
   "outputs": [],
   "source": []
  }
 ],
 "metadata": {
  "kernelspec": {
   "display_name": "Python 3",
   "language": "python",
   "name": "python3"
  },
  "language_info": {
   "codemirror_mode": {
    "name": "ipython",
    "version": 3
   },
   "file_extension": ".py",
   "mimetype": "text/x-python",
   "name": "python",
   "nbconvert_exporter": "python",
   "pygments_lexer": "ipython3",
   "version": "3.8.1"
  }
 },
 "nbformat": 4,
 "nbformat_minor": 4
}
