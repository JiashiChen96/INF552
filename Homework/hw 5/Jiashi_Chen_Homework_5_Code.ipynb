{
 "cells": [
  {
   "cell_type": "markdown",
   "metadata": {},
   "source": [
    "# Programming Assignment 5 [Neural Networks]"
   ]
  },
  {
   "cell_type": "markdown",
   "metadata": {},
   "source": [
    "Class: INF552\n",
    "\n",
    "Student: Jiashi Chen\n",
    "\n",
    "USCID: 4684194123"
   ]
  },
  {
   "cell_type": "markdown",
   "metadata": {},
   "source": [
    "### Import necessary module"
   ]
  },
  {
   "cell_type": "code",
   "execution_count": 1,
   "metadata": {},
   "outputs": [],
   "source": [
    "import pandas as pd\n",
    "import numpy as np\n",
    "import random"
   ]
  },
  {
   "cell_type": "markdown",
   "metadata": {},
   "source": [
    "### Obtain training dateset"
   ]
  },
  {
   "cell_type": "code",
   "execution_count": 2,
   "metadata": {},
   "outputs": [
    {
     "data": {
      "text/html": [
       "<div>\n",
       "<style scoped>\n",
       "    .dataframe tbody tr th:only-of-type {\n",
       "        vertical-align: middle;\n",
       "    }\n",
       "\n",
       "    .dataframe tbody tr th {\n",
       "        vertical-align: top;\n",
       "    }\n",
       "\n",
       "    .dataframe thead th {\n",
       "        text-align: right;\n",
       "    }\n",
       "</style>\n",
       "<table border=\"1\" class=\"dataframe\">\n",
       "  <thead>\n",
       "    <tr style=\"text-align: right;\">\n",
       "      <th></th>\n",
       "      <th>Scr</th>\n",
       "      <th>Label</th>\n",
       "    </tr>\n",
       "  </thead>\n",
       "  <tbody>\n",
       "    <tr>\n",
       "      <th>0</th>\n",
       "      <td>gestures/A/A_down_4.pgm</td>\n",
       "      <td>1</td>\n",
       "    </tr>\n",
       "    <tr>\n",
       "      <th>1</th>\n",
       "      <td>gestures/A/A_down_6.pgm</td>\n",
       "      <td>1</td>\n",
       "    </tr>\n",
       "    <tr>\n",
       "      <th>2</th>\n",
       "      <td>gestures/A/A_down_7.pgm</td>\n",
       "      <td>1</td>\n",
       "    </tr>\n",
       "    <tr>\n",
       "      <th>3</th>\n",
       "      <td>gestures/A/A_down_8.pgm</td>\n",
       "      <td>1</td>\n",
       "    </tr>\n",
       "    <tr>\n",
       "      <th>4</th>\n",
       "      <td>gestures/A/A_down_9.pgm</td>\n",
       "      <td>1</td>\n",
       "    </tr>\n",
       "    <tr>\n",
       "      <th>...</th>\n",
       "      <td>...</td>\n",
       "      <td>...</td>\n",
       "    </tr>\n",
       "    <tr>\n",
       "      <th>179</th>\n",
       "      <td>gestures/M/M_stop_9.pgm</td>\n",
       "      <td>0</td>\n",
       "    </tr>\n",
       "    <tr>\n",
       "      <th>180</th>\n",
       "      <td>gestures/M/M_up_1.pgm</td>\n",
       "      <td>0</td>\n",
       "    </tr>\n",
       "    <tr>\n",
       "      <th>181</th>\n",
       "      <td>gestures/M/M_up_2.pgm</td>\n",
       "      <td>0</td>\n",
       "    </tr>\n",
       "    <tr>\n",
       "      <th>182</th>\n",
       "      <td>gestures/M/M_up_3.pgm</td>\n",
       "      <td>0</td>\n",
       "    </tr>\n",
       "    <tr>\n",
       "      <th>183</th>\n",
       "      <td>gestures/M/M_up_6.pgm</td>\n",
       "      <td>0</td>\n",
       "    </tr>\n",
       "  </tbody>\n",
       "</table>\n",
       "<p>184 rows × 2 columns</p>\n",
       "</div>"
      ],
      "text/plain": [
       "                         Scr  Label\n",
       "0    gestures/A/A_down_4.pgm      1\n",
       "1    gestures/A/A_down_6.pgm      1\n",
       "2    gestures/A/A_down_7.pgm      1\n",
       "3    gestures/A/A_down_8.pgm      1\n",
       "4    gestures/A/A_down_9.pgm      1\n",
       "..                       ...    ...\n",
       "179  gestures/M/M_stop_9.pgm      0\n",
       "180    gestures/M/M_up_1.pgm      0\n",
       "181    gestures/M/M_up_2.pgm      0\n",
       "182    gestures/M/M_up_3.pgm      0\n",
       "183    gestures/M/M_up_6.pgm      0\n",
       "\n",
       "[184 rows x 2 columns]"
      ]
     },
     "execution_count": 2,
     "metadata": {},
     "output_type": "execute_result"
    }
   ],
   "source": [
    "data_train = pd.read_csv(\"downgesture_train.list\", header = None)\n",
    "data_train.columns = ['Scr']\n",
    "data_train[\"Label\"] = data_train[\"Scr\"].map(lambda x: 1 if x.split(\"_\")[1] == \"down\" else 0) #Assign label to each data set according to its file name\n",
    "data_train"
   ]
  },
  {
   "cell_type": "markdown",
   "metadata": {},
   "source": [
    "### Load image based on its pgm format"
   ]
  },
  {
   "cell_type": "code",
   "execution_count": 3,
   "metadata": {},
   "outputs": [],
   "source": [
    "def load_pgm_image(pgm):\n",
    "    with open(pgm, 'rb') as f:\n",
    "        f.readline()   \n",
    "        f.readline()   \n",
    "        xs, ys = f.readline().split()  \n",
    "        xs = int(xs)\n",
    "        ys = int(ys)\n",
    "        max_scale = int(f.readline().strip())\n",
    "        image = []\n",
    "        for _ in range(xs * ys):\n",
    "            image.append(f.read(1)[0] / max_scale)\n",
    "        \n",
    "        image.insert(0,1.0) #add bias\n",
    "        return np.mat(image)"
   ]
  },
  {
   "cell_type": "code",
   "execution_count": 4,
   "metadata": {},
   "outputs": [
    {
     "data": {
      "text/plain": [
       "matrix([[1.        , 0.79607843, 0.80784314, 0.81568627, 0.82745098,\n",
       "         0.83921569, 0.84313725, 0.84705882, 0.85882353, 0.85882353,\n",
       "         0.85490196, 0.85490196, 0.85098039, 0.84705882, 0.84705882,\n",
       "         0.84705882, 0.84313725, 0.84313725, 0.83921569, 0.83529412,\n",
       "         0.83529412, 0.82745098, 0.82352941, 0.81568627, 0.81176471,\n",
       "         0.80392157, 0.79607843, 0.78431373, 0.77647059, 0.76862745,\n",
       "         0.75686275, 0.74117647, 0.72941176, 0.8       , 0.81176471,\n",
       "         0.81960784, 0.83529412, 0.84705882, 0.85490196, 0.85882353,\n",
       "         0.8745098 , 0.87058824, 0.8627451 , 0.8627451 , 0.85882353,\n",
       "         0.85490196, 0.85098039, 0.85098039, 0.84705882, 0.84313725,\n",
       "         0.84313725, 0.83921569, 0.83529412, 0.83137255, 0.82352941,\n",
       "         0.81960784, 0.81568627, 0.80784314, 0.8       , 0.78823529,\n",
       "         0.78039216, 0.77254902, 0.75686275, 0.74509804, 0.73333333,\n",
       "         0.80784314, 0.81568627, 0.82745098, 0.84313725, 0.86666667,\n",
       "         0.87843137, 0.88235294, 0.88627451, 0.89019608, 0.88627451,\n",
       "         0.8745098 , 0.86666667, 0.85882353, 0.85490196, 0.85098039,\n",
       "         0.84705882, 0.84705882, 0.84313725, 0.84313725, 0.83921569,\n",
       "         0.83529412, 0.82745098, 0.82352941, 0.81568627, 0.81176471,\n",
       "         0.80392157, 0.79607843, 0.78431373, 0.77254902, 0.76078431,\n",
       "         0.74901961, 0.7372549 , 0.80784314, 0.81960784, 0.82745098,\n",
       "         0.84313725, 0.88627451, 0.90588235, 0.91372549, 0.9254902 ,\n",
       "         0.94901961, 0.92941176, 0.89411765, 0.8745098 , 0.86666667,\n",
       "         0.85490196, 0.74117647, 0.75686275, 0.84705882, 0.84705882,\n",
       "         0.84313725, 0.83921569, 0.83529412, 0.83137255, 0.82352941,\n",
       "         0.81960784, 0.81176471, 0.80392157, 0.79215686, 0.78431373,\n",
       "         0.77254902, 0.76078431, 0.74901961, 0.7372549 , 0.80784314,\n",
       "         0.81960784, 0.83529412, 0.84313725, 0.87843137, 0.92941176,\n",
       "         0.97254902, 0.99215686, 0.99215686, 0.94509804, 0.89803922,\n",
       "         0.8745098 , 0.8627451 , 0.68235294, 0.58039216, 0.6745098 ,\n",
       "         0.85098039, 0.84705882, 0.84313725, 0.83921569, 0.83529412,\n",
       "         0.82745098, 0.82352941, 0.81568627, 0.81176471, 0.80392157,\n",
       "         0.79607843, 0.78431373, 0.77647059, 0.76470588, 0.75294118,\n",
       "         0.7372549 , 0.80784314, 0.82352941, 0.83137255, 0.84313725,\n",
       "         0.8627451 , 0.92941176, 0.99607843, 1.        , 1.        ,\n",
       "         1.        , 0.93333333, 0.88627451, 0.87058824, 0.49803922,\n",
       "         0.58431373, 0.65490196, 0.81176471, 0.85098039, 0.84705882,\n",
       "         0.84313725, 0.83921569, 0.83137255, 0.82745098, 0.81960784,\n",
       "         0.81176471, 0.80392157, 0.79607843, 0.78431373, 0.77254902,\n",
       "         0.76470588, 0.75294118, 0.74117647, 0.80784314, 0.82352941,\n",
       "         0.83529412, 0.85490196, 0.8745098 , 0.9254902 , 1.        ,\n",
       "         1.        , 1.        , 1.        , 0.94117647, 0.89411765,\n",
       "         0.8745098 , 0.51764706, 0.55686275, 0.67843137, 0.70980392,\n",
       "         0.85490196, 0.85490196, 0.84705882, 0.83921569, 0.83529412,\n",
       "         0.82745098, 0.81960784, 0.81176471, 0.80784314, 0.79607843,\n",
       "         0.78823529, 0.78039216, 0.76862745, 0.75686275, 0.74117647,\n",
       "         0.81568627, 0.82745098, 0.83921569, 0.85882353, 0.8745098 ,\n",
       "         0.91764706, 0.98823529, 1.        , 1.        , 1.        ,\n",
       "         0.9372549 , 0.88627451, 0.87058824, 0.58823529, 0.45490196,\n",
       "         0.63529412, 0.63137255, 0.84705882, 0.85098039, 0.84705882,\n",
       "         0.84313725, 0.83529412, 0.82745098, 0.81960784, 0.81568627,\n",
       "         0.80392157, 0.79607843, 0.78823529, 0.78039216, 0.76862745,\n",
       "         0.75686275, 0.74509804, 0.81568627, 0.82352941, 0.83529412,\n",
       "         0.84705882, 0.8627451 , 0.89019608, 0.94117647, 0.98431373,\n",
       "         0.98823529, 0.97254902, 0.93333333, 0.89019608, 0.87058824,\n",
       "         0.74117647, 0.3254902 , 0.61568627, 0.67058824, 0.7372549 ,\n",
       "         0.85098039, 0.84705882, 0.84313725, 0.83529412, 0.83137255,\n",
       "         0.82352941, 0.81568627, 0.80784314, 0.8       , 0.79215686,\n",
       "         0.78039216, 0.76862745, 0.76078431, 0.74509804, 0.81568627,\n",
       "         0.82352941, 0.83529412, 0.84705882, 0.85882353, 0.8745098 ,\n",
       "         0.89019608, 0.91372549, 0.91764706, 0.90588235, 0.90588235,\n",
       "         0.89411765, 0.8745098 , 0.8627451 , 0.36862745, 0.56078431,\n",
       "         0.69411765, 0.6627451 , 0.83921569, 0.84705882, 0.84313725,\n",
       "         0.83529412, 0.83137255, 0.82352941, 0.81568627, 0.80784314,\n",
       "         0.8       , 0.79215686, 0.78039216, 0.77254902, 0.76078431,\n",
       "         0.74509804, 0.81568627, 0.82352941, 0.83529412, 0.84313725,\n",
       "         0.85098039, 0.85882353, 0.87058824, 0.87843137, 0.89411765,\n",
       "         0.91372549, 0.89019608, 0.88235294, 0.8745098 , 0.86666667,\n",
       "         0.58431373, 0.37647059, 0.6745098 , 0.68627451, 0.68627451,\n",
       "         0.84313725, 0.83921569, 0.83529412, 0.83137255, 0.82352941,\n",
       "         0.81568627, 0.80784314, 0.8       , 0.78823529, 0.78039216,\n",
       "         0.76862745, 0.76078431, 0.74901961, 0.81568627, 0.82352941,\n",
       "         0.83137255, 0.83921569, 0.84705882, 0.85490196, 0.85882353,\n",
       "         0.86666667, 0.8745098 , 0.88627451, 0.87843137, 0.8745098 ,\n",
       "         0.82352941, 0.61960784, 0.55686275, 0.34901961, 0.60784314,\n",
       "         0.70196078, 0.61960784, 0.78431373, 0.83921569, 0.83529412,\n",
       "         0.83137255, 0.82352941, 0.81568627, 0.80784314, 0.8       ,\n",
       "         0.78823529, 0.78039216, 0.76862745, 0.76078431, 0.74901961,\n",
       "         0.81176471, 0.82352941, 0.83137255, 0.83921569, 0.84313725,\n",
       "         0.85098039, 0.85490196, 0.8627451 , 0.86666667, 0.86666667,\n",
       "         0.87058824, 0.84705882, 0.50196078, 0.56078431, 0.55294118,\n",
       "         0.53333333, 0.5372549 , 0.69803922, 0.64705882, 0.63137255,\n",
       "         0.83921569, 0.83529412, 0.83137255, 0.82352941, 0.81176471,\n",
       "         0.80392157, 0.79607843, 0.78823529, 0.77647059, 0.76862745,\n",
       "         0.75686275, 0.74509804, 0.81176471, 0.82352941, 0.83137255,\n",
       "         0.83529412, 0.84313725, 0.84705882, 0.85098039, 0.85490196,\n",
       "         0.85882353, 0.8627451 , 0.8627451 , 0.71372549, 0.43137255,\n",
       "         0.59215686, 0.60784314, 0.60392157, 0.56862745, 0.75294118,\n",
       "         0.67843137, 0.57647059, 0.77647059, 0.83137255, 0.82745098,\n",
       "         0.81960784, 0.81176471, 0.8       , 0.79215686, 0.78431373,\n",
       "         0.77647059, 0.76862745, 0.75686275, 0.74509804, 0.81176471,\n",
       "         0.81960784, 0.82745098, 0.83529412, 0.83921569, 0.84313725,\n",
       "         0.84705882, 0.85490196, 0.85490196, 0.85882353, 0.85882353,\n",
       "         0.6627451 , 0.42352941, 0.53333333, 0.61960784, 0.60392157,\n",
       "         0.54509804, 0.7254902 , 0.68235294, 0.63529412, 0.63529412,\n",
       "         0.82745098, 0.82352941, 0.81568627, 0.80784314, 0.8       ,\n",
       "         0.79215686, 0.78431373, 0.77254902, 0.76470588, 0.75294118,\n",
       "         0.74117647, 0.80784314, 0.81960784, 0.82352941, 0.83137255,\n",
       "         0.83921569, 0.84313725, 0.84705882, 0.85098039, 0.85098039,\n",
       "         0.85098039, 0.83921569, 0.47843137, 0.45490196, 0.55686275,\n",
       "         0.57254902, 0.56470588, 0.49019608, 0.6745098 , 0.68627451,\n",
       "         0.66666667, 0.55294118, 0.79215686, 0.81960784, 0.81568627,\n",
       "         0.80784314, 0.79607843, 0.79215686, 0.78039216, 0.77254902,\n",
       "         0.76470588, 0.74901961, 0.74117647, 0.80784314, 0.81568627,\n",
       "         0.82352941, 0.82745098, 0.83529412, 0.83921569, 0.84313725,\n",
       "         0.84705882, 0.84705882, 0.84705882, 0.82352941, 0.32941176,\n",
       "         0.4627451 , 0.6       , 0.6       , 0.62745098, 0.54901961,\n",
       "         0.61960784, 0.67843137, 0.67058824, 0.57254902, 0.62352941,\n",
       "         0.81960784, 0.81176471, 0.80392157, 0.79607843, 0.78823529,\n",
       "         0.78039216, 0.76862745, 0.76078431, 0.74901961, 0.7372549 ,\n",
       "         0.80784314, 0.81568627, 0.82352941, 0.82745098, 0.83137255,\n",
       "         0.83529412, 0.84313725, 0.84313725, 0.84705882, 0.84313725,\n",
       "         0.84313725, 0.49411765, 0.41176471, 0.52941176, 0.6       ,\n",
       "         0.58431373, 0.5254902 , 0.6       , 0.63137255, 0.64705882,\n",
       "         0.55686275, 0.4627451 , 0.67058824, 0.80784314, 0.8       ,\n",
       "         0.79215686, 0.78431373, 0.77647059, 0.76862745, 0.75686275,\n",
       "         0.74509804, 0.73333333, 0.80392157, 0.81176471, 0.81960784,\n",
       "         0.82745098, 0.83137255, 0.83529412, 0.83921569, 0.84313725,\n",
       "         0.84313725, 0.83921569, 0.81568627, 0.39607843, 0.45098039,\n",
       "         0.55686275, 0.59215686, 0.57647059, 0.51372549, 0.61568627,\n",
       "         0.61568627, 0.62352941, 0.54901961, 0.51764706, 0.47843137,\n",
       "         0.61176471, 0.79607843, 0.78823529, 0.78039216, 0.77254902,\n",
       "         0.76470588, 0.75294118, 0.74117647, 0.72941176, 0.8       ,\n",
       "         0.80784314, 0.81568627, 0.81960784, 0.82745098, 0.83137255,\n",
       "         0.83529412, 0.83921569, 0.83921569, 0.83921569, 0.81960784,\n",
       "         0.33333333, 0.42352941, 0.59607843, 0.57254902, 0.58039216,\n",
       "         0.54509804, 0.67058824, 0.65490196, 0.65098039, 0.59607843,\n",
       "         0.5254902 , 0.51372549, 0.46666667, 0.49411765, 0.76078431,\n",
       "         0.77647059, 0.76862745, 0.76078431, 0.74901961, 0.74117647,\n",
       "         0.72941176, 0.79607843, 0.80784314, 0.81176471, 0.81960784,\n",
       "         0.82352941, 0.82745098, 0.83137255, 0.83529412, 0.83529412,\n",
       "         0.83921569, 0.83529412, 0.43529412, 0.41960784, 0.48627451,\n",
       "         0.56862745, 0.59215686, 0.63921569, 0.69411765, 0.6745098 ,\n",
       "         0.65882353, 0.57254902, 0.5372549 , 0.5254902 , 0.49803922,\n",
       "         0.44705882, 0.49019608, 0.73333333, 0.76470588, 0.75686275,\n",
       "         0.74509804, 0.7372549 , 0.7254902 , 0.79607843, 0.80392157,\n",
       "         0.81176471, 0.81568627, 0.81960784, 0.82745098, 0.82745098,\n",
       "         0.83137255, 0.83137255, 0.83137255, 0.83137255, 0.37254902,\n",
       "         0.44313725, 0.58039216, 0.65098039, 0.63921569, 0.64313725,\n",
       "         0.70196078, 0.68235294, 0.64313725, 0.56862745, 0.6       ,\n",
       "         0.54117647, 0.52941176, 0.45098039, 0.47058824, 0.45098039,\n",
       "         0.68627451, 0.75294118, 0.74117647, 0.73333333, 0.72156863,\n",
       "         0.78823529, 0.79607843, 0.80392157, 0.81176471, 0.81568627,\n",
       "         0.81960784, 0.82352941, 0.82352941, 0.82745098, 0.82745098,\n",
       "         0.82745098, 0.4745098 , 0.3372549 , 0.50980392, 0.55294118,\n",
       "         0.56470588, 0.67058824, 0.69411765, 0.66666667, 0.61176471,\n",
       "         0.56078431, 0.59607843, 0.55294118, 0.51764706, 0.47058824,\n",
       "         0.50196078, 0.47058824, 0.41176471, 0.63921569, 0.73333333,\n",
       "         0.7254902 , 0.71372549, 0.78431373, 0.79215686, 0.8       ,\n",
       "         0.80392157, 0.81176471, 0.81568627, 0.81960784, 0.81960784,\n",
       "         0.81960784, 0.82352941, 0.82352941, 0.72941176, 0.26666667,\n",
       "         0.33333333, 0.41960784, 0.55294118, 0.59215686, 0.62352941,\n",
       "         0.59215686, 0.51372549, 0.50588235, 0.56470588, 0.55294118,\n",
       "         0.4745098 , 0.49411765, 0.5254902 , 0.50196078, 0.45490196,\n",
       "         0.39607843, 0.57254902, 0.71764706, 0.70980392, 0.78039216,\n",
       "         0.78823529, 0.79607843, 0.8       , 0.80784314, 0.80784314,\n",
       "         0.81176471, 0.81176471, 0.81568627, 0.81960784, 0.81960784,\n",
       "         0.81960784, 0.7254902 , 0.58039216, 0.47843137, 0.35294118,\n",
       "         0.29803922, 0.38039216, 0.35686275, 0.28627451, 0.42352941,\n",
       "         0.49803922, 0.49019608, 0.49019608, 0.54117647, 0.52941176,\n",
       "         0.5254902 , 0.49019608, 0.45098039, 0.37254902, 0.47058824,\n",
       "         0.68627451, 0.77254902, 0.78431373, 0.79215686, 0.79607843,\n",
       "         0.80392157, 0.80392157, 0.80784314, 0.80784314, 0.81176471,\n",
       "         0.81568627, 0.81568627, 0.81568627, 0.81568627, 0.81568627,\n",
       "         0.81568627, 0.81176471, 0.79607843, 0.8       , 0.8       ,\n",
       "         0.66666667, 0.29411765, 0.4       , 0.43137255, 0.49411765,\n",
       "         0.5372549 , 0.54117647, 0.5254902 , 0.51372549, 0.48235294,\n",
       "         0.43137255, 0.36078431, 0.36470588, 0.76862745, 0.77647059,\n",
       "         0.78431373, 0.78823529, 0.79607843, 0.8       , 0.8       ,\n",
       "         0.80392157, 0.80784314, 0.81176471, 0.81176471, 0.81176471,\n",
       "         0.81176471, 0.81176471, 0.81176471, 0.80784314, 0.80392157,\n",
       "         0.8       , 0.8       , 0.79215686, 0.65098039, 0.29803922,\n",
       "         0.32941176, 0.42745098, 0.47058824, 0.52156863, 0.5372549 ,\n",
       "         0.51764706, 0.49803922, 0.4745098 , 0.42352941, 0.36078431,\n",
       "         0.76470588, 0.77254902, 0.77647059, 0.78431373, 0.78823529,\n",
       "         0.79215686, 0.79607843, 0.8       , 0.8       , 0.80392157,\n",
       "         0.80392157, 0.80784314, 0.80784314, 0.80784314, 0.80784314,\n",
       "         0.8       , 0.8       , 0.79607843, 0.79215686, 0.78823529,\n",
       "         0.78039216, 0.73333333, 0.32941176, 0.31372549, 0.40784314,\n",
       "         0.47058824, 0.5254902 , 0.52941176, 0.50196078, 0.49411765,\n",
       "         0.45490196, 0.41568627, 0.75294118, 0.76470588, 0.76862745,\n",
       "         0.77647059, 0.78431373, 0.78431373, 0.78823529, 0.79215686,\n",
       "         0.79215686, 0.79607843, 0.8       , 0.8       , 0.8       ,\n",
       "         0.8       , 0.8       , 0.79607843, 0.79215686, 0.79215686,\n",
       "         0.78823529, 0.78039216, 0.77254902, 0.76862745, 0.72156863,\n",
       "         0.31372549, 0.30196078, 0.38823529, 0.4627451 , 0.50980392,\n",
       "         0.50980392, 0.49803922, 0.47058824, 0.45098039, 0.74509804,\n",
       "         0.75294118, 0.76078431, 0.76862745, 0.77254902, 0.78039216,\n",
       "         0.78039216, 0.78431373, 0.78431373, 0.78823529, 0.78823529,\n",
       "         0.79215686, 0.79607843, 0.79215686, 0.79215686, 0.78823529,\n",
       "         0.78431373, 0.78431373, 0.78039216, 0.77254902, 0.76862745,\n",
       "         0.76078431, 0.75294118, 0.70196078, 0.29803922, 0.28627451,\n",
       "         0.37647059, 0.44313725, 0.48627451, 0.49803922, 0.47843137,\n",
       "         0.46666667]])"
      ]
     },
     "execution_count": 4,
     "metadata": {},
     "output_type": "execute_result"
    }
   ],
   "source": [
    "load_pgm_image(\"gestures/B/B_up_1.pgm\")"
   ]
  },
  {
   "cell_type": "markdown",
   "metadata": {},
   "source": [
    "### Sigmoid function"
   ]
  },
  {
   "cell_type": "code",
   "execution_count": 5,
   "metadata": {},
   "outputs": [],
   "source": [
    "def sigmoid(z):\n",
    "    return (1/(1 + np.exp(-z)))"
   ]
  },
  {
   "cell_type": "markdown",
   "metadata": {},
   "source": [
    "### Error function"
   ]
  },
  {
   "cell_type": "code",
   "execution_count": 6,
   "metadata": {},
   "outputs": [],
   "source": [
    "def error(x, label):\n",
    "    return (x - label)**2"
   ]
  },
  {
   "cell_type": "markdown",
   "metadata": {},
   "source": [
    "### Initialize weight for Neural Network"
   ]
  },
  {
   "cell_type": "code",
   "execution_count": 7,
   "metadata": {},
   "outputs": [],
   "source": [
    "def initial_weight(number_input, number_hidden, number_output):\n",
    "    w1 = np.random.randint(-100, 100,(number_input,number_hidden))/10000\n",
    "    w2 = np.random.randint(-100, 100,(number_hidden+1,number_output))/10000\n",
    "    return np.mat(w1), np.mat(w2)"
   ]
  },
  {
   "cell_type": "markdown",
   "metadata": {},
   "source": [
    "### Compute all x in forward direction"
   ]
  },
  {
   "cell_type": "code",
   "execution_count": 8,
   "metadata": {},
   "outputs": [],
   "source": [
    "def forward_propagation(img, w1, w2):\n",
    "    s1 = img * w1 #Calculate the hidden layer\n",
    "    x1 = sigmoid(s1)\n",
    "    x1 = np.insert(x1, 0, values=1.0, axis=1)  #add bias\n",
    "    s2 = x1 * w2\n",
    "    x2 = sigmoid(s2)\n",
    "    return x1, x2[0, 0]"
   ]
  },
  {
   "cell_type": "markdown",
   "metadata": {},
   "source": [
    "### Update w based on backward propagation"
   ]
  },
  {
   "cell_type": "code",
   "execution_count": 9,
   "metadata": {},
   "outputs": [],
   "source": [
    "def backward_propagation(img, x1, x2, label, w1, w2): ##sigmoid\n",
    "    base_delta = 2 * (x2 - label) * (x2 - x2**2)\n",
    "    delta1 = np.multiply((x1 - np.multiply(x1, x1)), w2.T * base_delta)\n",
    "    w1 -= 0.1 * img.T * delta1[0, 1:]\n",
    "    w2 -= 0.1 * base_delta * x1.T\n",
    "    return w1, w2"
   ]
  },
  {
   "cell_type": "code",
   "execution_count": 10,
   "metadata": {},
   "outputs": [],
   "source": [
    "# def backward_propagation(img, x1, x2, label, w1, w2):  ###tanh\n",
    "#     base_delta = 2 * (x2 - label) * (1 - x2**2)\n",
    "#     delta1 = np.multiply((np.mat([1] * 101) - np.multiply(x1, x1)), w2.T * base_delta)\n",
    "# #     print(delta1)\n",
    "#     w1 -= 0.1 * img.T * delta1[0, 1:]\n",
    "#     w2 -= 0.1 * base_delta * x1.T\n",
    "#     return w1, w2"
   ]
  },
  {
   "cell_type": "markdown",
   "metadata": {},
   "source": [
    "### Fit the model"
   ]
  },
  {
   "cell_type": "code",
   "execution_count": 11,
   "metadata": {},
   "outputs": [],
   "source": [
    "def Neural_Networks_BGD(data, number_hidden, number_output):    #batch gradient descent\n",
    "    number_input = load_pgm_image(data.iloc[0,0]).shape[1]\n",
    "    w1, w2 = initial_weight(number_input, number_hidden, number_output)\n",
    "    count = 0\n",
    "    while(count < 1000):\n",
    "        count += 1\n",
    "        print(count)\n",
    "        for index, row in data.iterrows():\n",
    "            path = row[\"Scr\"]\n",
    "            label = row[\"Label\"]\n",
    "            im = load_pgm_image(path)\n",
    "            x1, x2 = forward_propagation(im, w1, w2)\n",
    "            w1, w2 = backward_propagation(im, x1, x2, label, w1, w2)\n",
    "    return w1, w2"
   ]
  },
  {
   "cell_type": "code",
   "execution_count": 12,
   "metadata": {},
   "outputs": [],
   "source": [
    "def Neural_Networks_Stochastic(data, number_hidden, number_output):   #Stochastic gradient descent\n",
    "    number_input = load_pgm_image(data.iloc[0,0]).shape[1]\n",
    "    m = data.shape[0]\n",
    "    w1, w2 = initial_weight(number_input, number_hidden, number_output)\n",
    "    count = 0\n",
    "    while(count < 1000):\n",
    "        count += 1\n",
    "        temp_num = random.randint(1, m)\n",
    "        while (temp_num > 0):\n",
    "            temp_num -= 1\n",
    "            temp_index = random.randint(0, m-1)\n",
    "            path = data.iloc[temp_index, 0]\n",
    "            label = data.iloc[temp_index, 1]\n",
    "            im = load_pgm_image(path)\n",
    "            x1, x2 = forward_propagation(im, w1, w2)\n",
    "            w1, w2 = backward_propagation(im, x1, x2, label, w1, w2)\n",
    "        \n",
    "    return w1, w2"
   ]
  },
  {
   "cell_type": "markdown",
   "metadata": {},
   "source": [
    "### Classify the output"
   ]
  },
  {
   "cell_type": "code",
   "execution_count": 13,
   "metadata": {},
   "outputs": [],
   "source": [
    "def classify(x2):\n",
    "    return 1 if x2 >= 0.5 else 0"
   ]
  },
  {
   "cell_type": "markdown",
   "metadata": {},
   "source": [
    "### Compute the accuracy"
   ]
  },
  {
   "cell_type": "code",
   "execution_count": 14,
   "metadata": {},
   "outputs": [],
   "source": [
    "def accuracy(data, w1, w2):\n",
    "    right = 0\n",
    "    origin_label = []\n",
    "    predict_label = []\n",
    "    for index, row in data.iterrows():\n",
    "        path = row[\"Scr\"]\n",
    "        label = row[\"Label\"]\n",
    "        im = load_pgm_image(path)\n",
    "        x1, x2 = forward_propagation(im, w1, w2)\n",
    "        origin_label.append(label)\n",
    "        predict_label.append(classify(x2))\n",
    "        if (classify(x2) == label):\n",
    "            right += 1\n",
    "    return right/data.shape[0], origin_label, predict_label"
   ]
  },
  {
   "cell_type": "code",
   "execution_count": 15,
   "metadata": {
    "scrolled": true
   },
   "outputs": [],
   "source": [
    "# w1, w2 = Neural_Networks(data)\n",
    "# predict(data, w1, w2)"
   ]
  },
  {
   "cell_type": "code",
   "execution_count": 25,
   "metadata": {},
   "outputs": [],
   "source": [
    "w1, w2 = Neural_Networks_Stochastic(data_train, 100, 1)\n",
    "accuracy_train, origin_label, predict_label = accuracy(data_train, w1, w2)"
   ]
  },
  {
   "cell_type": "code",
   "execution_count": 26,
   "metadata": {},
   "outputs": [
    {
     "data": {
      "text/plain": [
       "1.0"
      ]
     },
     "execution_count": 26,
     "metadata": {},
     "output_type": "execute_result"
    }
   ],
   "source": [
    "accuracy_train"
   ]
  },
  {
   "cell_type": "markdown",
   "metadata": {},
   "source": [
    "### Obtain test dateset"
   ]
  },
  {
   "cell_type": "code",
   "execution_count": 18,
   "metadata": {
    "scrolled": false
   },
   "outputs": [
    {
     "data": {
      "text/html": [
       "<div>\n",
       "<style scoped>\n",
       "    .dataframe tbody tr th:only-of-type {\n",
       "        vertical-align: middle;\n",
       "    }\n",
       "\n",
       "    .dataframe tbody tr th {\n",
       "        vertical-align: top;\n",
       "    }\n",
       "\n",
       "    .dataframe thead th {\n",
       "        text-align: right;\n",
       "    }\n",
       "</style>\n",
       "<table border=\"1\" class=\"dataframe\">\n",
       "  <thead>\n",
       "    <tr style=\"text-align: right;\">\n",
       "      <th></th>\n",
       "      <th>Scr</th>\n",
       "      <th>Label</th>\n",
       "    </tr>\n",
       "  </thead>\n",
       "  <tbody>\n",
       "    <tr>\n",
       "      <th>0</th>\n",
       "      <td>gestures/A/A_down_1.pgm</td>\n",
       "      <td>1</td>\n",
       "    </tr>\n",
       "    <tr>\n",
       "      <th>1</th>\n",
       "      <td>gestures/A/A_down_2.pgm</td>\n",
       "      <td>1</td>\n",
       "    </tr>\n",
       "    <tr>\n",
       "      <th>2</th>\n",
       "      <td>gestures/A/A_hold_1.pgm</td>\n",
       "      <td>0</td>\n",
       "    </tr>\n",
       "    <tr>\n",
       "      <th>3</th>\n",
       "      <td>gestures/A/A_hold_10.pgm</td>\n",
       "      <td>0</td>\n",
       "    </tr>\n",
       "    <tr>\n",
       "      <th>4</th>\n",
       "      <td>gestures/A/A_stop_1.pgm</td>\n",
       "      <td>0</td>\n",
       "    </tr>\n",
       "    <tr>\n",
       "      <th>...</th>\n",
       "      <td>...</td>\n",
       "      <td>...</td>\n",
       "    </tr>\n",
       "    <tr>\n",
       "      <th>78</th>\n",
       "      <td>gestures/K/K_hold_3.pgm</td>\n",
       "      <td>0</td>\n",
       "    </tr>\n",
       "    <tr>\n",
       "      <th>79</th>\n",
       "      <td>gestures/K/K_stop_1.pgm</td>\n",
       "      <td>0</td>\n",
       "    </tr>\n",
       "    <tr>\n",
       "      <th>80</th>\n",
       "      <td>gestures/K/K_stop_2.pgm</td>\n",
       "      <td>0</td>\n",
       "    </tr>\n",
       "    <tr>\n",
       "      <th>81</th>\n",
       "      <td>gestures/K/K_stop_1.pgm</td>\n",
       "      <td>0</td>\n",
       "    </tr>\n",
       "    <tr>\n",
       "      <th>82</th>\n",
       "      <td>gestures/K/K_stop_2.pgm</td>\n",
       "      <td>0</td>\n",
       "    </tr>\n",
       "  </tbody>\n",
       "</table>\n",
       "<p>83 rows × 2 columns</p>\n",
       "</div>"
      ],
      "text/plain": [
       "                         Scr  Label\n",
       "0    gestures/A/A_down_1.pgm      1\n",
       "1    gestures/A/A_down_2.pgm      1\n",
       "2    gestures/A/A_hold_1.pgm      0\n",
       "3   gestures/A/A_hold_10.pgm      0\n",
       "4    gestures/A/A_stop_1.pgm      0\n",
       "..                       ...    ...\n",
       "78   gestures/K/K_hold_3.pgm      0\n",
       "79   gestures/K/K_stop_1.pgm      0\n",
       "80   gestures/K/K_stop_2.pgm      0\n",
       "81   gestures/K/K_stop_1.pgm      0\n",
       "82   gestures/K/K_stop_2.pgm      0\n",
       "\n",
       "[83 rows x 2 columns]"
      ]
     },
     "execution_count": 18,
     "metadata": {},
     "output_type": "execute_result"
    }
   ],
   "source": [
    "data_test = pd.read_csv(\"downgesture_test.list\", header = None)\n",
    "data_test.columns = ['Scr']\n",
    "data_test[\"Label\"] = data_test[\"Scr\"].map(lambda x: 1 if x.split(\"_\")[1] == \"down\" else 0) #Assign label to each data set according to its file name\n",
    "data_test"
   ]
  },
  {
   "cell_type": "markdown",
   "metadata": {},
   "source": [
    "### Compute the accuracy of prediction of the labels for the gestures in the test images"
   ]
  },
  {
   "cell_type": "code",
   "execution_count": 27,
   "metadata": {
    "scrolled": true
   },
   "outputs": [],
   "source": [
    "accuracy_test, origin_label_test, predict_label_test = accuracy(data_test, w1, w2)"
   ]
  },
  {
   "cell_type": "code",
   "execution_count": 28,
   "metadata": {},
   "outputs": [
    {
     "data": {
      "text/plain": [
       "0.891566265060241"
      ]
     },
     "execution_count": 28,
     "metadata": {},
     "output_type": "execute_result"
    }
   ],
   "source": [
    "accuracy_test"
   ]
  },
  {
   "cell_type": "code",
   "execution_count": 30,
   "metadata": {
    "scrolled": true
   },
   "outputs": [
    {
     "data": {
      "text/plain": [
       "[1,\n",
       " 1,\n",
       " 0,\n",
       " 0,\n",
       " 0,\n",
       " 0,\n",
       " 0,\n",
       " 0,\n",
       " 1,\n",
       " 0,\n",
       " 0,\n",
       " 0,\n",
       " 0,\n",
       " 0,\n",
       " 0,\n",
       " 0,\n",
       " 1,\n",
       " 1,\n",
       " 0,\n",
       " 0,\n",
       " 0,\n",
       " 0,\n",
       " 0,\n",
       " 0,\n",
       " 0,\n",
       " 0,\n",
       " 0,\n",
       " 0,\n",
       " 0,\n",
       " 0,\n",
       " 0,\n",
       " 0,\n",
       " 1,\n",
       " 0,\n",
       " 0,\n",
       " 0,\n",
       " 0,\n",
       " 0,\n",
       " 1,\n",
       " 0,\n",
       " 1,\n",
       " 0,\n",
       " 0,\n",
       " 0,\n",
       " 0,\n",
       " 1,\n",
       " 1,\n",
       " 0,\n",
       " 0,\n",
       " 0,\n",
       " 1,\n",
       " 0,\n",
       " 0,\n",
       " 0,\n",
       " 0,\n",
       " 0,\n",
       " 0,\n",
       " 0,\n",
       " 0,\n",
       " 0,\n",
       " 0,\n",
       " 1,\n",
       " 0,\n",
       " 0,\n",
       " 0,\n",
       " 1,\n",
       " 1,\n",
       " 0,\n",
       " 0,\n",
       " 0,\n",
       " 0,\n",
       " 0,\n",
       " 0,\n",
       " 0,\n",
       " 1,\n",
       " 1,\n",
       " 0,\n",
       " 0,\n",
       " 0,\n",
       " 0,\n",
       " 0,\n",
       " 0,\n",
       " 0]"
      ]
     },
     "execution_count": 30,
     "metadata": {},
     "output_type": "execute_result"
    }
   ],
   "source": [
    "predict_label_test"
   ]
  },
  {
   "cell_type": "markdown",
   "metadata": {},
   "source": [
    "# Part 2: Software Familiarization "
   ]
  },
  {
   "cell_type": "markdown",
   "metadata": {},
   "source": [
    "### Import necessary module"
   ]
  },
  {
   "cell_type": "code",
   "execution_count": 22,
   "metadata": {},
   "outputs": [],
   "source": [
    "from sklearn.neural_network import MLPClassifier"
   ]
  },
  {
   "cell_type": "markdown",
   "metadata": {},
   "source": [
    "### Fit the model to data matrix X and target(s) y."
   ]
  },
  {
   "cell_type": "code",
   "execution_count": 23,
   "metadata": {},
   "outputs": [
    {
     "data": {
      "text/plain": [
       "MLPClassifier(activation='logistic', alpha=0, batch_size='auto', beta_1=0.9,\n",
       "              beta_2=0.999, early_stopping=False, epsilon=1e-08,\n",
       "              hidden_layer_sizes=(100,), learning_rate='constant',\n",
       "              learning_rate_init=0.1, max_fun=15000, max_iter=1000,\n",
       "              momentum=0.9, n_iter_no_change=10, nesterovs_momentum=True,\n",
       "              power_t=0.5, random_state=None, shuffle=True, solver='sgd',\n",
       "              tol=0.0001, validation_fraction=0.1, verbose=False,\n",
       "              warm_start=False)"
      ]
     },
     "execution_count": 23,
     "metadata": {},
     "output_type": "execute_result"
    }
   ],
   "source": [
    "X = [(load_pgm_image(img)[0,1:]).tolist()[0] for img in data_train[\"Scr\"]]\n",
    "y = data_train[\"Label\"].tolist()\n",
    "mlp = MLPClassifier(solver='sgd', alpha=0,\n",
    "                  hidden_layer_sizes=(100,), activation='logistic', learning_rate_init=0.1,\n",
    "                  max_iter=1000)\n",
    "mlp.fit(X, y)"
   ]
  },
  {
   "cell_type": "code",
   "execution_count": 24,
   "metadata": {},
   "outputs": [
    {
     "data": {
      "text/plain": [
       "array([1, 1, 0, 0, 0, 0, 0, 0, 1, 0, 0, 0, 0, 0, 0, 1, 1, 1, 0, 0, 0, 0,\n",
       "       0, 0, 0, 0, 0, 0, 0, 0, 0, 1, 1, 0, 0, 0, 0, 0, 1, 1, 1, 0, 0, 0,\n",
       "       0, 1, 1, 0, 0, 0, 1, 0, 0, 0, 0, 0, 0, 0, 0, 0, 0, 1, 0, 0, 0, 0,\n",
       "       1, 0, 0, 0, 0, 0, 0, 0, 1, 1, 0, 0, 0, 0, 0, 0, 0])"
      ]
     },
     "execution_count": 24,
     "metadata": {},
     "output_type": "execute_result"
    }
   ],
   "source": [
    "X_test = [(load_pgm_image(img)[0,1:]).tolist()[0] for img in data_test[\"Scr\"]]\n",
    "mlp.predict(X_test)"
   ]
  },
  {
   "cell_type": "code",
   "execution_count": null,
   "metadata": {},
   "outputs": [],
   "source": []
  }
 ],
 "metadata": {
  "kernelspec": {
   "display_name": "Python 3",
   "language": "python",
   "name": "python3"
  },
  "language_info": {
   "codemirror_mode": {
    "name": "ipython",
    "version": 3
   },
   "file_extension": ".py",
   "mimetype": "text/x-python",
   "name": "python",
   "nbconvert_exporter": "python",
   "pygments_lexer": "ipython3",
   "version": "3.8.1"
  }
 },
 "nbformat": 4,
 "nbformat_minor": 4
}
