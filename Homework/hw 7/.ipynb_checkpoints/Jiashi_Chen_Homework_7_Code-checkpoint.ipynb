{
 "cells": [
  {
   "cell_type": "markdown",
   "metadata": {},
   "source": [
    "# INF552: Programming Assignment 7 [Hidden Markov Models]"
   ]
  },
  {
   "cell_type": "markdown",
   "metadata": {},
   "source": [
    "Student: Jiashi Chen\n",
    "\n",
    "USC-ID: 4684194123"
   ]
  },
  {
   "cell_type": "markdown",
   "metadata": {},
   "source": [
    "## Part 1: Implementation"
   ]
  },
  {
   "cell_type": "code",
   "execution_count": 1,
   "metadata": {},
   "outputs": [],
   "source": [
    "import numpy as np"
   ]
  },
  {
   "cell_type": "markdown",
   "metadata": {},
   "source": [
    "### Load data"
   ]
  },
  {
   "cell_type": "code",
   "execution_count": 2,
   "metadata": {
    "scrolled": false
   },
   "outputs": [],
   "source": [
    "def get_free_node(filename):\n",
    "    f = open(filename, \"r\")\n",
    "    count = 0\n",
    "    free_nodes = []\n",
    "    for line in f:\n",
    "        if count > 1 and count < 12:\n",
    "            vailds = line.split()\n",
    "            for i in range(len(vailds)):\n",
    "                if vailds[i] == \"1\":\n",
    "                    free_nodes.append((count-2, i))\n",
    "\n",
    "        count += 1\n",
    "    \n",
    "    return free_nodes"
   ]
  },
  {
   "cell_type": "code",
   "execution_count": 3,
   "metadata": {},
   "outputs": [],
   "source": [
    "free_nodes = get_free_node(\"hmm-data.txt\")\n",
    "# free_nodes"
   ]
  },
  {
   "cell_type": "code",
   "execution_count": 4,
   "metadata": {},
   "outputs": [],
   "source": [
    "def get_tower_node(filename):\n",
    "    f = open(filename, \"r\")\n",
    "    count = 0\n",
    "    tower_node = []\n",
    "    for line in f:\n",
    "        if count > 15 and count < 20:\n",
    "            coordinate_str = line.split(\":\")[1].split()\n",
    "            tower_node.append(tuple([int(i) for i in coordinate_str]))\n",
    "\n",
    "        count += 1\n",
    "    \n",
    "    return tower_node"
   ]
  },
  {
   "cell_type": "code",
   "execution_count": 5,
   "metadata": {},
   "outputs": [
    {
     "data": {
      "text/plain": [
       "[(0, 0), (0, 9), (9, 0), (9, 9)]"
      ]
     },
     "execution_count": 5,
     "metadata": {},
     "output_type": "execute_result"
    }
   ],
   "source": [
    "tower_nodes = get_tower_node(\"hmm-data.txt\")\n",
    "tower_nodes"
   ]
  },
  {
   "cell_type": "code",
   "execution_count": 6,
   "metadata": {},
   "outputs": [],
   "source": [
    "def get_noisy_distance(filename):\n",
    "    f = open(filename, \"r\")\n",
    "    count = 0\n",
    "    noisy_distance = []\n",
    "    for line in f:\n",
    "        if count > 23 and count < 35:\n",
    "            noisy_distance_str = line.split()\n",
    "            noisy_distance.append([float(i) for i in noisy_distance_str])\n",
    "\n",
    "        count += 1\n",
    "    \n",
    "    return noisy_distance"
   ]
  },
  {
   "cell_type": "code",
   "execution_count": 7,
   "metadata": {},
   "outputs": [
    {
     "data": {
      "text/plain": [
       "[[6.3, 5.9, 5.5, 6.7],\n",
       " [5.6, 7.2, 4.4, 6.8],\n",
       " [7.6, 9.4, 4.3, 5.4],\n",
       " [9.5, 10.0, 3.7, 6.6],\n",
       " [6.0, 10.7, 2.8, 5.8],\n",
       " [9.3, 10.2, 2.6, 5.4],\n",
       " [8.0, 13.1, 1.9, 9.4],\n",
       " [6.4, 8.2, 3.9, 8.8],\n",
       " [5.0, 10.3, 3.6, 7.2],\n",
       " [3.8, 9.8, 4.4, 8.8],\n",
       " [3.3, 7.6, 4.3, 8.5]]"
      ]
     },
     "execution_count": 7,
     "metadata": {},
     "output_type": "execute_result"
    }
   ],
   "source": [
    "noisy_distance = get_noisy_distance(\"hmm-data.txt\")\n",
    "noisy_distance"
   ]
  },
  {
   "cell_type": "markdown",
   "metadata": {},
   "source": [
    "### Obtain possible node each time"
   ]
  },
  {
   "cell_type": "code",
   "execution_count": 8,
   "metadata": {},
   "outputs": [],
   "source": [
    "def get_possible_nodes(noisy_distance, free_nodes, tower_nodes):\n",
    "    possible_nodes = {}\n",
    "    for i in range(len(noisy_distance)):\n",
    "        for node in free_nodes:\n",
    "            count = 0\n",
    "            for j in range(len(tower_nodes)):\n",
    "                distance = np.sqrt((node[0]- tower_nodes[j][0])**2 + (node[1]- tower_nodes[j][1])**2)\n",
    "                if noisy_distance[i][j] > distance*0.7 and noisy_distance[i][j] < distance*1.3:\n",
    "                    count += 1\n",
    "                else:\n",
    "                    break\n",
    "            if count == 4:\n",
    "                current_possible_nodes = possible_nodes.get(i, [])\n",
    "                current_possible_nodes.append(node)\n",
    "                possible_nodes[i] = current_possible_nodes\n",
    "    return possible_nodes"
   ]
  },
  {
   "cell_type": "code",
   "execution_count": 9,
   "metadata": {},
   "outputs": [
    {
     "data": {
      "text/plain": [
       "{0: [(3, 4), (3, 5), (4, 3), (4, 4), (4, 5), (5, 3), (5, 4), (5, 5), (6, 4)],\n",
       " 1: [(4, 3), (5, 1), (5, 3), (5, 4), (6, 3), (6, 4), (7, 3)],\n",
       " 2: [(6, 3), (6, 4), (7, 3), (7, 4), (7, 5), (8, 4), (9, 4)],\n",
       " 3: [(7, 3), (7, 4), (8, 3), (8, 4), (9, 3)],\n",
       " 4: [(7, 1), (7, 2), (7, 3), (8, 2), (8, 3)],\n",
       " 5: [(7, 2), (7, 3), (8, 2), (8, 3), (9, 3)],\n",
       " 6: [(7, 0), (7, 1)],\n",
       " 7: [(5, 0), (5, 1), (5, 3), (6, 0), (6, 1)],\n",
       " 8: [(4, 1), (5, 0), (5, 1), (6, 0), (6, 1), (6, 3)],\n",
       " 9: [(3, 0), (3, 1), (4, 0), (4, 1), (5, 0), (5, 1)],\n",
       " 10: [(3, 0), (3, 1), (4, 0), (4, 1)]}"
      ]
     },
     "execution_count": 9,
     "metadata": {},
     "output_type": "execute_result"
    }
   ],
   "source": [
    "possible_nodes = get_possible_nodes(noisy_distance, free_nodes, tower_nodes)\n",
    "possible_nodes"
   ]
  },
  {
   "cell_type": "markdown",
   "metadata": {},
   "source": [
    "### Calculate the probability of evidence"
   ]
  },
  {
   "cell_type": "code",
   "execution_count": 10,
   "metadata": {},
   "outputs": [],
   "source": [
    "def get_evidence_probability(node, tower_nodes):\n",
    "    probability = 1\n",
    "    for tower_node in tower_nodes:\n",
    "        distance = np.sqrt((node[0]- tower_node[0])**2 + (node[1]- tower_node[1])**2)\n",
    "        low = distance * 0.7\n",
    "        high = distance * 1.3\n",
    "        probability *= 1/(high - low)\n",
    "    return probability"
   ]
  },
  {
   "cell_type": "markdown",
   "metadata": {},
   "source": [
    "### Check whether it's neighbor and transit probability"
   ]
  },
  {
   "cell_type": "code",
   "execution_count": 11,
   "metadata": {},
   "outputs": [],
   "source": [
    "def is_neighbor(node1, node2):\n",
    "    diff = np.array(node1) - np.array(node2)\n",
    "    total = np.sum(diff**2)\n",
    "    return total == 1"
   ]
  },
  {
   "cell_type": "code",
   "execution_count": 12,
   "metadata": {},
   "outputs": [],
   "source": [
    "def tansit_proba(node):\n",
    "    count = 0\n",
    "    x = node[0]\n",
    "    y = node[1]\n",
    "    if (x + 1, y) in free_nodes:\n",
    "        count += 1\n",
    "    if (x - 1, y) in free_nodes:\n",
    "        count += 1\n",
    "    if (x, y + 1) in free_nodes:\n",
    "        count += 1\n",
    "    if (x, y - 1) in free_nodes:\n",
    "        count += 1\n",
    "    return 1/count"
   ]
  },
  {
   "cell_type": "markdown",
   "metadata": {},
   "source": [
    "### Viterbi algorithm"
   ]
  },
  {
   "cell_type": "markdown",
   "metadata": {},
   "source": [
    "$$\n",
    "Data structure: \n",
    "pp = \\{time: \\{node:\\{probability: \\delta, pre:\\psi\\}\\}\\}\n",
    "$$"
   ]
  },
  {
   "cell_type": "code",
   "execution_count": 13,
   "metadata": {},
   "outputs": [],
   "source": [
    "def Viterbi_algo(noisy_distance, possible_nodes, free_nodes):\n",
    "    possible_path = {}\n",
    "    time = 0\n",
    "    total_time = len(noisy_distance)\n",
    "    possible_path[time] = {}\n",
    "    for possible_node in possible_nodes[time]:\n",
    "        attr = {}\n",
    "        attr[\"prob\"] = 1/len(free_nodes) * get_evidence_probability(possible_node, tower_nodes)\n",
    "        attr[\"pre\"] = -1\n",
    "        possible_path[time][possible_node] = attr\n",
    "\n",
    "    for i in range(1, total_time):\n",
    "        time = i\n",
    "        possible_path[time] = {}\n",
    "        for possible_node in possible_nodes[time]:\n",
    "            for pre_node in possible_path[time-1]:\n",
    "                if is_neighbor(pre_node, possible_node):\n",
    "                    new_pro = possible_path[time-1][pre_node][\"prob\"] * tansit_proba(pre_node) * get_evidence_probability(possible_node, tower_nodes)\n",
    "                    if possible_path[time].get(possible_node, False):\n",
    "                        if possible_path[time][possible_node][\"prob\"] < new_pro:\n",
    "                            possible_path[time][possible_node][\"prob\"] = new_pro\n",
    "                            possible_path[time][possible_node][\"pre\"] = pre_node\n",
    "                    else:\n",
    "                        possible_path[time][possible_node] = {}\n",
    "                        possible_path[time][possible_node][\"prob\"] = new_pro\n",
    "                        possible_path[time][possible_node][\"pre\"] = pre_node\n",
    "    return possible_path"
   ]
  },
  {
   "cell_type": "code",
   "execution_count": 14,
   "metadata": {},
   "outputs": [
    {
     "data": {
      "text/plain": [
       "{0: {(3, 4): {'prob': 5.401317337782166e-05, 'pre': -1},\n",
       "  (3, 5): {'prob': 5.401317337782166e-05, 'pre': -1},\n",
       "  (4, 3): {'prob': 5.401317337782166e-05, 'pre': -1},\n",
       "  (4, 4): {'prob': 5.407940414014609e-05, 'pre': -1},\n",
       "  (4, 5): {'prob': 5.407940414014609e-05, 'pre': -1},\n",
       "  (5, 3): {'prob': 5.401317337782166e-05, 'pre': -1},\n",
       "  (5, 4): {'prob': 5.407940414014609e-05, 'pre': -1},\n",
       "  (5, 5): {'prob': 5.4079404140146074e-05, 'pre': -1},\n",
       "  (6, 4): {'prob': 5.401317337782166e-05, 'pre': -1}},\n",
       " 1: {(4, 3): {'prob': 8.460526405193606e-08, 'pre': (5, 3)},\n",
       "  (5, 3): {'prob': 8.460526405193606e-08, 'pre': (4, 3)},\n",
       "  (5, 4): {'prob': 8.481287661244423e-08, 'pre': (5, 5)},\n",
       "  (6, 3): {'prob': 8.575479693425421e-08, 'pre': (5, 3)},\n",
       "  (6, 4): {'prob': 6.35317550458042e-08, 'pre': (5, 4)}},\n",
       " 2: {(6, 3): {'prob': 1.343247727289031e-10, 'pre': (5, 3)},\n",
       "  (6, 4): {'prob': 1.343247727289031e-10, 'pre': (6, 3)},\n",
       "  (7, 3): {'prob': 1.3775489344139835e-10, 'pre': (6, 3)},\n",
       "  (7, 4): {'prob': 7.337351503856009e-11, 'pre': (6, 4)}},\n",
       " 3: {(7, 3): {'prob': 2.1577678934971434e-13, 'pre': (6, 3)},\n",
       "  (7, 4): {'prob': 1.5909462501500997e-13, 'pre': (7, 3)},\n",
       "  (8, 3): {'prob': 1.6168873013451869e-13, 'pre': (7, 3)},\n",
       "  (8, 4): {'prob': 7.978535845806313e-14, 'pre': (7, 4)}},\n",
       " 4: {(7, 2): {'prob': 2.804825408130581e-16, 'pre': (7, 3)},\n",
       "  (7, 3): {'prob': 1.9480030202361775e-16, 'pre': (8, 3)},\n",
       "  (8, 2): {'prob': 2.2503552082268127e-16, 'pre': (8, 3)},\n",
       "  (8, 3): {'prob': 2.532663210058717e-16, 'pre': (7, 3)}},\n",
       " 5: {(7, 2): {'prob': 2.9251772094559177e-19, 'pre': (8, 2)},\n",
       "  (7, 3): {'prob': 4.505618799552173e-19, 'pre': (7, 2)},\n",
       "  (8, 2): {'prob': 5.204941997794019e-19, 'pre': (7, 2)},\n",
       "  (8, 3): {'prob': 2.6413368474970393e-19, 'pre': (8, 2)},\n",
       "  (9, 3): {'prob': 2.645000498430449e-19, 'pre': (8, 3)}},\n",
       " 6: {(7, 1): {'prob': 5.428280014988436e-22, 'pre': (7, 2)}},\n",
       " 7: {(6, 1): {'prob': 6.371401265766584e-25, 'pre': (7, 1)}},\n",
       " 8: {(5, 1): {'prob': 9.237566327163018e-28, 'pre': (6, 1)},\n",
       "  (6, 0): {'prob': 8.872009752012418e-28, 'pre': (6, 1)}},\n",
       " 9: {(4, 1): {'prob': 1.3393071333809508e-30, 'pre': (5, 1)},\n",
       "  (5, 0): {'prob': 1.1715545580396078e-30, 'pre': (5, 1)}},\n",
       " 10: {(3, 1): {'prob': 2.0960017148002096e-33, 'pre': (4, 1)},\n",
       "  (4, 0): {'prob': 1.69857657434466e-33, 'pre': (4, 1)}}}"
      ]
     },
     "execution_count": 14,
     "metadata": {},
     "output_type": "execute_result"
    }
   ],
   "source": [
    "possible_path = Viterbi_algo(noisy_distance, possible_nodes, free_nodes)\n",
    "possible_path"
   ]
  },
  {
   "cell_type": "markdown",
   "metadata": {},
   "source": [
    "### Get most likely ending point"
   ]
  },
  {
   "cell_type": "code",
   "execution_count": 15,
   "metadata": {},
   "outputs": [],
   "source": [
    "def most_prob_end(possible_path, noisy_distance):\n",
    "    total_time = len(noisy_distance)\n",
    "    possible_node = possible_path[total_time-1]\n",
    "    max_pro = -1\n",
    "    max_node = -1\n",
    "    for node, attr in possible_node.items():\n",
    "        if attr[\"prob\"] > max_pro:\n",
    "            max_pro = attr[\"prob\"]\n",
    "            max_node = node\n",
    "    return max_node"
   ]
  },
  {
   "cell_type": "code",
   "execution_count": 16,
   "metadata": {},
   "outputs": [],
   "source": [
    "max_node = most_prob_end(possible_path, noisy_distance)"
   ]
  },
  {
   "cell_type": "markdown",
   "metadata": {},
   "source": [
    "### Follow the backtrack till the first observation"
   ]
  },
  {
   "cell_type": "code",
   "execution_count": 17,
   "metadata": {},
   "outputs": [],
   "source": [
    "def most_likely_trajectory(possible_path, noisy_distance, max_node):\n",
    "    total_time = len(noisy_distance)\n",
    "    route = []\n",
    "    route.append(max_node)\n",
    "    for time in range(total_time-1, 0, -1):\n",
    "        max_node = possible_path[time][max_node][\"pre\"]\n",
    "        route.append(max_node)\n",
    "        time -= 1\n",
    "    return route[::-1]"
   ]
  },
  {
   "cell_type": "code",
   "execution_count": 18,
   "metadata": {},
   "outputs": [],
   "source": [
    "trajectory = most_likely_trajectory(possible_path, noisy_distance, max_node)"
   ]
  },
  {
   "cell_type": "code",
   "execution_count": 19,
   "metadata": {},
   "outputs": [
    {
     "name": "stdout",
     "output_type": "stream",
     "text": [
      "The most likely path is (5, 3), (6, 3), (7, 3), (8, 3), (8, 2), (7, 2), (7, 1), (6, 1), (5, 1), (4, 1), (3, 1)\n"
     ]
    }
   ],
   "source": [
    "print (\"The most likely path is\", \", \".join(map(lambda x: str(x), trajectory)))"
   ]
  },
  {
   "cell_type": "markdown",
   "metadata": {},
   "source": [
    "## Part 2: Software Familiarization"
   ]
  },
  {
   "cell_type": "code",
   "execution_count": 20,
   "metadata": {},
   "outputs": [],
   "source": [
    "from hmmlearn import hmm    # Obtain necessary package"
   ]
  },
  {
   "cell_type": "markdown",
   "metadata": {},
   "source": [
    "### Prepare data"
   ]
  },
  {
   "cell_type": "code",
   "execution_count": 21,
   "metadata": {},
   "outputs": [],
   "source": [
    "node_to_index = {}\n",
    "node_index = 0\n",
    "for node in free_nodes:\n",
    "    if node not in node_to_index.keys():\n",
    "        node_to_index[node] = f\"node {node_index}\"\n",
    "        node_index += 1\n",
    "\n",
    "index_to_node = {}\n",
    "for node, index in node_to_index.items():\n",
    "    index_to_node[index] = node"
   ]
  },
  {
   "cell_type": "code",
   "execution_count": 22,
   "metadata": {},
   "outputs": [],
   "source": [
    "states = [key for key in index_to_node.keys()]\n",
    "n_states = len(states)\n",
    "observations = [str(i) for i in range(len(noisy_distance))]\n",
    "n_observations = len(observations)\n",
    "start_probability = [1/n_states for i in range(n_states)]"
   ]
  },
  {
   "cell_type": "code",
   "execution_count": 23,
   "metadata": {},
   "outputs": [],
   "source": [
    "transition_probability = []\n",
    "for i in states:\n",
    "    trans_i = []\n",
    "    for j in states:\n",
    "        if is_neighbor(index_to_node[i], index_to_node[j]):\n",
    "            trans_i.append(tansit_proba(index_to_node[i]))\n",
    "        else:\n",
    "            trans_i.append(0)\n",
    "    transition_probability.append(trans_i)"
   ]
  },
  {
   "cell_type": "code",
   "execution_count": 24,
   "metadata": {},
   "outputs": [],
   "source": [
    "emission_probability = []\n",
    "for s in states:\n",
    "    emission_s = []\n",
    "    for o in range(n_observations):\n",
    "        if index_to_node[s] in possible_nodes[o]:\n",
    "            emission_s.append(get_evidence_probability(index_to_node[s], tower_nodes))\n",
    "        else:\n",
    "            emission_s.append(0)\n",
    "    \n",
    "    emission_probability.append(emission_s)"
   ]
  },
  {
   "cell_type": "markdown",
   "metadata": {},
   "source": [
    "### Fit the model"
   ]
  },
  {
   "cell_type": "code",
   "execution_count": 25,
   "metadata": {},
   "outputs": [],
   "source": [
    "model = hmm.MultinomialHMM(n_components=n_states)   #Set the number of hidden states\n",
    "model.startprob_ = np.array(start_probability)      #Initial state occupation distribution.\n",
    "model.transmat_ = np.array(transition_probability)  #Set matrix of transition probabilities between states.\n",
    "model.emissionprob_ = np.array(emission_probability) # Set probability of emitting a given symbol when in each state.\n",
    "seen_list = [i for i in range(len(noisy_distance))]\n",
    "seen = np.array([seen_list]).T   #The real observation."
   ]
  },
  {
   "cell_type": "code",
   "execution_count": 26,
   "metadata": {},
   "outputs": [
    {
     "name": "stdout",
     "output_type": "stream",
     "text": [
      "The most likely path is (5, 3), (6, 3), (7, 3), (8, 3), (8, 2), (7, 2), (7, 1), (6, 1), (5, 1), (4, 1), (3, 1)\n"
     ]
    }
   ],
   "source": [
    "box2 = model.predict(seen)  #Find most likely state sequence corresponding to seen.\n",
    "print (\"The most likely path is\", \", \".join(map(lambda x: str(free_nodes[x]), box2)))"
   ]
  },
  {
   "cell_type": "code",
   "execution_count": null,
   "metadata": {},
   "outputs": [],
   "source": []
  }
 ],
 "metadata": {
  "kernelspec": {
   "display_name": "Python 3",
   "language": "python",
   "name": "python3"
  },
  "language_info": {
   "codemirror_mode": {
    "name": "ipython",
    "version": 3
   },
   "file_extension": ".py",
   "mimetype": "text/x-python",
   "name": "python",
   "nbconvert_exporter": "python",
   "pygments_lexer": "ipython3",
   "version": "3.8.1"
  }
 },
 "nbformat": 4,
 "nbformat_minor": 4
}
