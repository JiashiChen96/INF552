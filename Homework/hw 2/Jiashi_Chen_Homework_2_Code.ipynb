{
 "cells": [
  {
   "cell_type": "markdown",
   "metadata": {},
   "source": [
    "Course: INF552"
   ]
  },
  {
   "cell_type": "markdown",
   "metadata": {},
   "source": [
    "Name: Jiashi Chen"
   ]
  },
  {
   "cell_type": "markdown",
   "metadata": {},
   "source": [
    "USC ID: 4684194123"
   ]
  },
  {
   "cell_type": "markdown",
   "metadata": {},
   "source": [
    "# Part 1: Implementation"
   ]
  },
  {
   "cell_type": "markdown",
   "metadata": {},
   "source": [
    "## K-means algorithm"
   ]
  },
  {
   "cell_type": "code",
   "execution_count": 1,
   "metadata": {},
   "outputs": [],
   "source": [
    "import numpy as np\n",
    "import pandas as pd\n",
    "import random\n",
    "import itertools\n",
    "import math\n",
    "import matplotlib.pyplot as plt\n",
    "from matplotlib.patches import Ellipse"
   ]
  },
  {
   "cell_type": "markdown",
   "metadata": {},
   "source": [
    "### Obtain data"
   ]
  },
  {
   "cell_type": "code",
   "execution_count": 2,
   "metadata": {},
   "outputs": [
    {
     "data": {
      "text/html": [
       "<div>\n",
       "<style scoped>\n",
       "    .dataframe tbody tr th:only-of-type {\n",
       "        vertical-align: middle;\n",
       "    }\n",
       "\n",
       "    .dataframe tbody tr th {\n",
       "        vertical-align: top;\n",
       "    }\n",
       "\n",
       "    .dataframe thead th {\n",
       "        text-align: right;\n",
       "    }\n",
       "</style>\n",
       "<table border=\"1\" class=\"dataframe\">\n",
       "  <thead>\n",
       "    <tr style=\"text-align: right;\">\n",
       "      <th></th>\n",
       "      <th>x1</th>\n",
       "      <th>x2</th>\n",
       "    </tr>\n",
       "  </thead>\n",
       "  <tbody>\n",
       "    <tr>\n",
       "      <th>0</th>\n",
       "      <td>-1.861331</td>\n",
       "      <td>-2.991683</td>\n",
       "    </tr>\n",
       "    <tr>\n",
       "      <th>1</th>\n",
       "      <td>-2.170092</td>\n",
       "      <td>-3.292318</td>\n",
       "    </tr>\n",
       "    <tr>\n",
       "      <th>2</th>\n",
       "      <td>-1.014081</td>\n",
       "      <td>0.385795</td>\n",
       "    </tr>\n",
       "    <tr>\n",
       "      <th>3</th>\n",
       "      <td>-2.912943</td>\n",
       "      <td>-2.579539</td>\n",
       "    </tr>\n",
       "    <tr>\n",
       "      <th>4</th>\n",
       "      <td>0.035721</td>\n",
       "      <td>-0.799698</td>\n",
       "    </tr>\n",
       "  </tbody>\n",
       "</table>\n",
       "</div>"
      ],
      "text/plain": [
       "         x1        x2\n",
       "0 -1.861331 -2.991683\n",
       "1 -2.170092 -3.292318\n",
       "2 -1.014081  0.385795\n",
       "3 -2.912943 -2.579539\n",
       "4  0.035721 -0.799698"
      ]
     },
     "execution_count": 2,
     "metadata": {},
     "output_type": "execute_result"
    }
   ],
   "source": [
    "data = pd.read_csv(\"clusters.txt\", names=[\"x1\", \"x2\"])\n",
    "data.head()"
   ]
  },
  {
   "cell_type": "markdown",
   "metadata": {},
   "source": [
    "### Pick k random centroids"
   ]
  },
  {
   "cell_type": "code",
   "execution_count": 3,
   "metadata": {},
   "outputs": [],
   "source": [
    "def pick_random_centroids(k):\n",
    "    x1 = data.iloc[:,0]\n",
    "    x2 = data.iloc[:,1]\n",
    "    random_n_list = list(itertools.product(range(int(x1.min()), int(x1.max())), range(int(x2.min()), int(x2.max()))))\n",
    "    return random.sample(random_n_list, k)"
   ]
  },
  {
   "cell_type": "markdown",
   "metadata": {},
   "source": [
    "### L2-norm"
   ]
  },
  {
   "cell_type": "code",
   "execution_count": 4,
   "metadata": {},
   "outputs": [],
   "source": [
    "def calculte_distance(point1, point2):\n",
    "    distance = 0\n",
    "    for i in range(len(point1)):\n",
    "        distance += (point1[i] - point2[i])**2\n",
    "    return np.sqrt(distance)"
   ]
  },
  {
   "cell_type": "markdown",
   "metadata": {},
   "source": [
    "### Assign data to closet centroids"
   ]
  },
  {
   "cell_type": "code",
   "execution_count": 5,
   "metadata": {},
   "outputs": [],
   "source": [
    "def assign_data(data, centroids):\n",
    "    assign_result_list = []\n",
    "    for index, row in data.iterrows():\n",
    "        closet_centroid = -1\n",
    "        closet_distance = -1\n",
    "        for i in range(len(centroids)):\n",
    "            if closet_centroid == -1 or closet_distance > calculte_distance(row, centroids[i]):\n",
    "                closet_centroid = i\n",
    "                closet_distance = calculte_distance(row, centroids[i])\n",
    "        assign_result_list.append(closet_centroid)\n",
    "    return assign_result_list"
   ]
  },
  {
   "cell_type": "markdown",
   "metadata": {},
   "source": [
    "### Recompute the centroid for each cluster"
   ]
  },
  {
   "cell_type": "code",
   "execution_count": 6,
   "metadata": {},
   "outputs": [],
   "source": [
    "def regain_centroids(data, label, k):\n",
    "    centroids = []\n",
    "    for i in range(k):\n",
    "        data_same_centroid = []\n",
    "        for j in range(len(label)):\n",
    "            if label[j] == i:\n",
    "                data_same_centroid.append(list(data.iloc[j,]))\n",
    "        centroids.append(np.mean(data_same_centroid, axis = 0).tolist())\n",
    "    return centroids"
   ]
  },
  {
   "cell_type": "markdown",
   "metadata": {},
   "source": [
    "### Obtain the final centroids"
   ]
  },
  {
   "cell_type": "code",
   "execution_count": 7,
   "metadata": {},
   "outputs": [],
   "source": [
    "def K_means(data, k):\n",
    "    random_centroids = pick_random_centroids(k)\n",
    "    label = assign_data(data, random_centroids)\n",
    "    new_centroids = regain_centroids(data, label, k)\n",
    "    while True:\n",
    "        old_centroids = new_centroids\n",
    "        label = assign_data(data, old_centroids)\n",
    "        new_centroids = regain_centroids(data, label, k)\n",
    "        if old_centroids == new_centroids:\n",
    "            break\n",
    "    return new_centroids"
   ]
  },
  {
   "cell_type": "code",
   "execution_count": 8,
   "metadata": {},
   "outputs": [
    {
     "data": {
      "text/plain": [
       "[[-0.974765718082353, -0.6841930411764707],\n",
       " [5.620165734970588, 5.026226344176472],\n",
       " [3.083182557032258, 1.7762137380322585]]"
      ]
     },
     "execution_count": 8,
     "metadata": {},
     "output_type": "execute_result"
    }
   ],
   "source": [
    "centroids = K_means(data, 3)\n",
    "centroids"
   ]
  },
  {
   "cell_type": "markdown",
   "metadata": {},
   "source": [
    "### Predict the label of each point"
   ]
  },
  {
   "cell_type": "code",
   "execution_count": 9,
   "metadata": {},
   "outputs": [],
   "source": [
    "labels = assign_data(data, centroids)"
   ]
  },
  {
   "cell_type": "markdown",
   "metadata": {},
   "source": [
    "### Plot the clustering result"
   ]
  },
  {
   "cell_type": "code",
   "execution_count": 10,
   "metadata": {},
   "outputs": [],
   "source": [
    "def plotAssign(data, labels):\n",
    "    for i in range(1,len(labels)):\n",
    "        if labels[i] == 0:\n",
    "            plt.scatter(data.iloc[i, 0], data.iloc[i, 1], s=15, c='red')\n",
    "        elif labels[i] == 1:\n",
    "            plt.scatter(data.iloc[i, 0], data.iloc[i, 1], s=15, c='blue')\n",
    "        elif labels[i] == 2:\n",
    "            plt.scatter(data.iloc[i, 0], data.iloc[i, 1], s=15, c='green')"
   ]
  },
  {
   "cell_type": "code",
   "execution_count": 11,
   "metadata": {},
   "outputs": [
    {
     "data": {
      "image/png": "[encoded data removed]",
      "text/plain": [
       "<Figure size 432x288 with 1 Axes>"
      ]
     },
     "metadata": {
      "needs_background": "light"
     },
     "output_type": "display_data"
    }
   ],
   "source": [
    "plotAssign(data, labels)"
   ]
  },
  {
   "cell_type": "markdown",
   "metadata": {},
   "source": [
    "## Expectation Maximization algorithm"
   ]
  },
  {
   "cell_type": "markdown",
   "metadata": {},
   "source": [
    "### Obtain data"
   ]
  },
  {
   "cell_type": "code",
   "execution_count": 12,
   "metadata": {},
   "outputs": [
    {
     "data": {
      "text/html": [
       "<div>\n",
       "<style scoped>\n",
       "    .dataframe tbody tr th:only-of-type {\n",
       "        vertical-align: middle;\n",
       "    }\n",
       "\n",
       "    .dataframe tbody tr th {\n",
       "        vertical-align: top;\n",
       "    }\n",
       "\n",
       "    .dataframe thead th {\n",
       "        text-align: right;\n",
       "    }\n",
       "</style>\n",
       "<table border=\"1\" class=\"dataframe\">\n",
       "  <thead>\n",
       "    <tr style=\"text-align: right;\">\n",
       "      <th></th>\n",
       "      <th>x1</th>\n",
       "      <th>x2</th>\n",
       "    </tr>\n",
       "  </thead>\n",
       "  <tbody>\n",
       "    <tr>\n",
       "      <th>0</th>\n",
       "      <td>-1.861331</td>\n",
       "      <td>-2.991683</td>\n",
       "    </tr>\n",
       "    <tr>\n",
       "      <th>1</th>\n",
       "      <td>-2.170092</td>\n",
       "      <td>-3.292318</td>\n",
       "    </tr>\n",
       "    <tr>\n",
       "      <th>2</th>\n",
       "      <td>-1.014081</td>\n",
       "      <td>0.385795</td>\n",
       "    </tr>\n",
       "    <tr>\n",
       "      <th>3</th>\n",
       "      <td>-2.912943</td>\n",
       "      <td>-2.579539</td>\n",
       "    </tr>\n",
       "    <tr>\n",
       "      <th>4</th>\n",
       "      <td>0.035721</td>\n",
       "      <td>-0.799698</td>\n",
       "    </tr>\n",
       "  </tbody>\n",
       "</table>\n",
       "</div>"
      ],
      "text/plain": [
       "         x1        x2\n",
       "0 -1.861331 -2.991683\n",
       "1 -2.170092 -3.292318\n",
       "2 -1.014081  0.385795\n",
       "3 -2.912943 -2.579539\n",
       "4  0.035721 -0.799698"
      ]
     },
     "execution_count": 12,
     "metadata": {},
     "output_type": "execute_result"
    }
   ],
   "source": [
    "data = pd.read_csv(\"clusters.txt\", names=[\"x1\", \"x2\"])\n",
    "data.head()"
   ]
  },
  {
   "cell_type": "markdown",
   "metadata": {},
   "source": [
    "### Assign $r_{ic}$ randomly"
   ]
  },
  {
   "cell_type": "code",
   "execution_count": 13,
   "metadata": {},
   "outputs": [],
   "source": [
    "def obtain_random_r(data, k):\n",
    "    r_list = []\n",
    "    for i in range(data.shape[0]):\n",
    "        r = np.array([random.random(), random.random(), random.random()])\n",
    "        r = r/sum(r)\n",
    "        r_list.append(r.tolist())\n",
    "    return r_list"
   ]
  },
  {
   "cell_type": "markdown",
   "metadata": {},
   "source": [
    "### Figure out $\\Pi_c$, $\\mu_c$, $\\Sigma_c$"
   ]
  },
  {
   "cell_type": "code",
   "execution_count": 14,
   "metadata": {},
   "outputs": [],
   "source": [
    "def calculte_mu(data, r, k):\n",
    "    mu_list = []\n",
    "    summation = 0\n",
    "    for i in range(k):\n",
    "        for index, row in data.iterrows():\n",
    "            summation += row * r[index][i]\n",
    "        summation = summation / np.sum(r, axis = 0)[i]\n",
    "        mu_list.append(summation.tolist())\n",
    "    \n",
    "    return mu_list        "
   ]
  },
  {
   "cell_type": "code",
   "execution_count": 15,
   "metadata": {},
   "outputs": [],
   "source": [
    "def calculte_Sigma(data, r, k, mu):\n",
    "    Sigma_list = []\n",
    "    \n",
    "    for i in range(k):\n",
    "        summation = 0\n",
    "        for index, row in data.iterrows():\n",
    "            deviation = row - mu[i]\n",
    "            deviation = np.array([deviation])\n",
    "            summation += deviation.T.dot(deviation)*r[index][i]\n",
    "        summation = summation / np.sum(r, axis = 0)[i]\n",
    "        Sigma_list.append(np.asmatrix(summation))\n",
    "    \n",
    "    return Sigma_list"
   ]
  },
  {
   "cell_type": "code",
   "execution_count": 16,
   "metadata": {},
   "outputs": [],
   "source": [
    "def calculte_Pi(data, r):\n",
    "    amount_data = data.shape[0]\n",
    "    return np.sum(r, axis = 0)/amount_data"
   ]
  },
  {
   "cell_type": "markdown",
   "metadata": {},
   "source": [
    "### Multivariable Gaussians"
   ]
  },
  {
   "cell_type": "code",
   "execution_count": 17,
   "metadata": {},
   "outputs": [],
   "source": [
    "def multi_gaussians(x, Pi, mu, Sigma):\n",
    "    size = len(x)\n",
    "    \n",
    "    #print(np.linalg.det(Sigma))\n",
    "    part1 = 1/ (np.power((2*np.pi), size/2) * np.power(np.linalg.det(Sigma), 1/2))\n",
    "    \n",
    "    deviation = np.asmatrix(x - mu)\n",
    "    \n",
    "    part2 = np.power(math.e, -1/2 * (deviation * Sigma.I * deviation.T))\n",
    "    return (Pi * part1 * part2).tolist()[0][0]"
   ]
  },
  {
   "cell_type": "markdown",
   "metadata": {},
   "source": [
    "### Recomputer $r_{ic}$"
   ]
  },
  {
   "cell_type": "code",
   "execution_count": 18,
   "metadata": {},
   "outputs": [],
   "source": [
    "def calculate_r(data, Pi, mu, Sigma, k):\n",
    "    \n",
    "    gaussians_data = []\n",
    "    \n",
    "    for index, row in data.iterrows():\n",
    "        gaussians_Xi = []\n",
    "        for i in range(k):\n",
    "            gaussians_Xi.append(multi_gaussians(row, Pi[i], mu[i], Sigma[i]))\n",
    "        gaussians_data.append(gaussians_Xi)\n",
    "    \n",
    "    r_list = []\n",
    "    \n",
    "    for Xi in gaussians_data:\n",
    "        summation = sum(Xi)\n",
    "        Xi = np.array(Xi)\n",
    "        r_list.append((Xi/summation).tolist())\n",
    "    \n",
    "    return r_list    "
   ]
  },
  {
   "cell_type": "markdown",
   "metadata": {},
   "source": [
    "### Obtain final arguments"
   ]
  },
  {
   "cell_type": "code",
   "execution_count": 19,
   "metadata": {},
   "outputs": [],
   "source": [
    "def GMM(data, k):\n",
    "    new_r = obtain_random_r(data, k)\n",
    "    count = 0\n",
    "    \n",
    "    while True:\n",
    "        count += 1\n",
    "        old_r = new_r\n",
    "        mu = calculte_mu(data, old_r, k)\n",
    "        Sigma = calculte_Sigma(data, old_r, k, mu)\n",
    "        Pi = calculte_Pi(data, old_r)\n",
    "        new_r = calculate_r(data, Pi, mu, Sigma, k)\n",
    "        if (np.abs(np.array(new_r) - np.array(old_r)) < 0.005).all():\n",
    "            break\n",
    "        if count > 500:\n",
    "            break;\n",
    "    \n",
    "    return mu, Sigma, Pi"
   ]
  },
  {
   "cell_type": "code",
   "execution_count": 66,
   "metadata": {},
   "outputs": [
    {
     "name": "stdout",
     "output_type": "stream",
     "text": [
      "The list of mean: \n",
      "[[3.73099187120709, 2.9855455782775535], [-0.9363099371558942, -0.5785580959583669], [6.155129816334989, 4.384107437555044]]\n",
      "---------\n",
      "The list of covariance matrix: \n",
      "[matrix([[2.52092325, 1.69173506],\n",
      "        [1.69173506, 5.88450297]]), matrix([[ 1.20167293, -0.05148645],\n",
      "        [-0.05148645,  2.06069071]]), matrix([[1.83092718, 0.92832769],\n",
      "        [0.92832769, 1.29369472]])]\n",
      "--------\n",
      "The list of amplitude: \n",
      "[0.31599382 0.5657184  0.11828778]\n"
     ]
    }
   ],
   "source": [
    "Mu, Sigma, Pi = GMM(data, 3)\n",
    "print(\"The list of mean: \")\n",
    "print(Mu)\n",
    "print(\"---------\")\n",
    "print(\"The list of covariance matrix: \")\n",
    "print(Sigma)\n",
    "print(\"--------\")\n",
    "print(\"The list of amplitude: \")\n",
    "print(Pi)"
   ]
  },
  {
   "cell_type": "markdown",
   "metadata": {},
   "source": [
    "### Predict the label of each point"
   ]
  },
  {
   "cell_type": "code",
   "execution_count": 21,
   "metadata": {},
   "outputs": [],
   "source": [
    "def predict_point(data, Mu, Sigma, Pi):\n",
    "    labels = []\n",
    "    k = len(Mu)\n",
    "    for index, row in data.iterrows():\n",
    "        Gaussian_each = []\n",
    "        for i in range(k):\n",
    "            Gaussian_each.append(multi_gaussians(row, Pi[i], Mu[i], Sigma[i]))\n",
    "        labels.append(np.argmax(Gaussian_each))\n",
    "    return labels"
   ]
  },
  {
   "cell_type": "markdown",
   "metadata": {},
   "source": [
    "### Plot the clustering result"
   ]
  },
  {
   "cell_type": "code",
   "execution_count": 67,
   "metadata": {},
   "outputs": [],
   "source": [
    "labels = predict_point(data, Mu, Sigma, Pi)"
   ]
  },
  {
   "cell_type": "code",
   "execution_count": 68,
   "metadata": {},
   "outputs": [
    {
     "data": {
      "image/png": "[encoded data removed]",
      "text/plain": [
       "<Figure size 432x288 with 1 Axes>"
      ]
     },
     "metadata": {
      "needs_background": "light"
     },
     "output_type": "display_data"
    }
   ],
   "source": [
    "plotAssign(data, labels)"
   ]
  },
  {
   "cell_type": "markdown",
   "metadata": {},
   "source": [
    "# Part 2: Software Familiarization "
   ]
  },
  {
   "cell_type": "markdown",
   "metadata": {},
   "source": [
    "## Import necessary packages and obtain data"
   ]
  },
  {
   "cell_type": "code",
   "execution_count": 69,
   "metadata": {},
   "outputs": [],
   "source": [
    "from sklearn.cluster import KMeans\n",
    "from sklearn import mixture"
   ]
  },
  {
   "cell_type": "code",
   "execution_count": 70,
   "metadata": {},
   "outputs": [
    {
     "data": {
      "text/html": [
       "<div>\n",
       "<style scoped>\n",
       "    .dataframe tbody tr th:only-of-type {\n",
       "        vertical-align: middle;\n",
       "    }\n",
       "\n",
       "    .dataframe tbody tr th {\n",
       "        vertical-align: top;\n",
       "    }\n",
       "\n",
       "    .dataframe thead th {\n",
       "        text-align: right;\n",
       "    }\n",
       "</style>\n",
       "<table border=\"1\" class=\"dataframe\">\n",
       "  <thead>\n",
       "    <tr style=\"text-align: right;\">\n",
       "      <th></th>\n",
       "      <th>x1</th>\n",
       "      <th>x2</th>\n",
       "    </tr>\n",
       "  </thead>\n",
       "  <tbody>\n",
       "    <tr>\n",
       "      <th>0</th>\n",
       "      <td>-1.861331</td>\n",
       "      <td>-2.991683</td>\n",
       "    </tr>\n",
       "    <tr>\n",
       "      <th>1</th>\n",
       "      <td>-2.170092</td>\n",
       "      <td>-3.292318</td>\n",
       "    </tr>\n",
       "    <tr>\n",
       "      <th>2</th>\n",
       "      <td>-1.014081</td>\n",
       "      <td>0.385795</td>\n",
       "    </tr>\n",
       "    <tr>\n",
       "      <th>3</th>\n",
       "      <td>-2.912943</td>\n",
       "      <td>-2.579539</td>\n",
       "    </tr>\n",
       "    <tr>\n",
       "      <th>4</th>\n",
       "      <td>0.035721</td>\n",
       "      <td>-0.799698</td>\n",
       "    </tr>\n",
       "  </tbody>\n",
       "</table>\n",
       "</div>"
      ],
      "text/plain": [
       "         x1        x2\n",
       "0 -1.861331 -2.991683\n",
       "1 -2.170092 -3.292318\n",
       "2 -1.014081  0.385795\n",
       "3 -2.912943 -2.579539\n",
       "4  0.035721 -0.799698"
      ]
     },
     "execution_count": 70,
     "metadata": {},
     "output_type": "execute_result"
    }
   ],
   "source": [
    "data = pd.read_csv(\"clusters.txt\", names=[\"x1\", \"x2\"])\n",
    "data.head()"
   ]
  },
  {
   "cell_type": "markdown",
   "metadata": {},
   "source": [
    "## K-means algorithm"
   ]
  },
  {
   "cell_type": "code",
   "execution_count": 71,
   "metadata": {},
   "outputs": [
    {
     "data": {
      "text/plain": [
       "array([[-0.97476572, -0.68419304],\n",
       "       [ 5.62016573,  5.02622634],\n",
       "       [ 3.08318256,  1.77621374]])"
      ]
     },
     "execution_count": 71,
     "metadata": {},
     "output_type": "execute_result"
    }
   ],
   "source": [
    "estimator = KMeans(n_clusters=3)\n",
    "estimator.fit(data)\n",
    "centroids = estimator.cluster_centers_\n",
    "centroids"
   ]
  },
  {
   "cell_type": "code",
   "execution_count": 72,
   "metadata": {},
   "outputs": [],
   "source": [
    "labels = estimator.predict(data)"
   ]
  },
  {
   "cell_type": "code",
   "execution_count": 73,
   "metadata": {},
   "outputs": [
    {
     "data": {
      "image/png": "[encoded data removed]",
      "text/plain": [
       "<Figure size 432x288 with 1 Axes>"
      ]
     },
     "metadata": {
      "needs_background": "light"
     },
     "output_type": "display_data"
    }
   ],
   "source": [
    "plotAssign(data, labels)"
   ]
  },
  {
   "cell_type": "markdown",
   "metadata": {},
   "source": [
    "## Expectation Maximization algorithm"
   ]
  },
  {
   "cell_type": "code",
   "execution_count": 74,
   "metadata": {},
   "outputs": [
    {
     "name": "stdout",
     "output_type": "stream",
     "text": [
      "[[ 3.13133022  1.71921331]\n",
      " [-0.96251642 -0.64669019]\n",
      " [ 5.47804494  4.85130933]]\n"
     ]
    }
   ],
   "source": [
    "modele = mixture.GaussianMixture(n_components=3, covariance_type='full')\n",
    "modele.fit(data)\n",
    "print(modele.means_)"
   ]
  },
  {
   "cell_type": "code",
   "execution_count": 75,
   "metadata": {},
   "outputs": [],
   "source": [
    "labels = modele.predict(data)"
   ]
  },
  {
   "cell_type": "code",
   "execution_count": 76,
   "metadata": {},
   "outputs": [
    {
     "data": {
      "image/png": "[encoded data removed]",
      "text/plain": [
       "<Figure size 432x288 with 1 Axes>"
      ]
     },
     "metadata": {
      "needs_background": "light"
     },
     "output_type": "display_data"
    }
   ],
   "source": [
    "plotAssign(data, labels)"
   ]
  },
  {
   "cell_type": "code",
   "execution_count": null,
   "metadata": {},
   "outputs": [],
   "source": []
  },
  {
   "cell_type": "code",
   "execution_count": null,
   "metadata": {},
   "outputs": [],
   "source": []
  }
 ],
 "metadata": {
  "kernelspec": {
   "display_name": "Python 3",
   "language": "python",
   "name": "python3"
  },
  "language_info": {
   "codemirror_mode": {
    "name": "ipython",
    "version": 3
   },
   "file_extension": ".py",
   "mimetype": "text/x-python",
   "name": "python",
   "nbconvert_exporter": "python",
   "pygments_lexer": "ipython3",
   "version": "3.8.1"
  }
 },
 "nbformat": 4,
 "nbformat_minor": 4
}
